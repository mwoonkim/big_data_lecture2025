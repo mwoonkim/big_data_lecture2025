{
  "nbformat": 4,
  "nbformat_minor": 0,
  "metadata": {
    "colab": {
      "provenance": [],
      "mount_file_id": "1U2wdWX2dTg33S-jfzpgSlQ6V-Hd9-tqA",
      "authorship_tag": "ABX9TyPpgDfDJgPfm3vKlE7laJX9",
      "include_colab_link": true
    },
    "kernelspec": {
      "name": "python3",
      "display_name": "Python 3"
    },
    "language_info": {
      "name": "python"
    }
  },
  "cells": [
    {
      "cell_type": "markdown",
      "metadata": {
        "id": "view-in-github",
        "colab_type": "text"
      },
      "source": [
        "<a href=\"https://colab.research.google.com/github/mwoonkim/big_data_lecture2025/blob/main/NLP01.ipynb\" target=\"_parent\"><img src=\"https://colab.research.google.com/assets/colab-badge.svg\" alt=\"Open In Colab\"/></a>"
      ]
    },
    {
      "cell_type": "code",
      "execution_count": null,
      "metadata": {
        "id": "tVbuZXWF7TVw"
      },
      "outputs": [],
      "source": [
        "!pip install konlpy"
      ]
    },
    {
      "cell_type": "code",
      "source": [
        "from konlpy.tag import Okt"
      ],
      "metadata": {
        "id": "dNXsbDcA7tep"
      },
      "execution_count": null,
      "outputs": []
    },
    {
      "cell_type": "code",
      "source": [
        "from wordcloud import WordCloud"
      ],
      "metadata": {
        "id": "WfEzDaq575f6"
      },
      "execution_count": 4,
      "outputs": []
    },
    {
      "cell_type": "code",
      "source": [
        "okt = Okt()\n",
        "token=okt.morphs('폐허가 된다 해도')\n",
        "print(token)"
      ],
      "metadata": {
        "id": "woqR9yCW8aNZ"
      },
      "execution_count": null,
      "outputs": []
    },
    {
      "cell_type": "code",
      "source": [
        "sentence_tag = okt.pos('폐허가 된다 할지라도')\n",
        "print(sentence_tag)"
      ],
      "metadata": {
        "id": "7sGXNyI69tMK"
      },
      "execution_count": null,
      "outputs": []
    },
    {
      "cell_type": "code",
      "source": [
        "sentence_tag = okt.pos('폐허가 된다 할지라도', join=True)\n",
        "print(sentence_tag)"
      ],
      "metadata": {
        "id": "OhunAz8U-M74"
      },
      "execution_count": null,
      "outputs": []
    },
    {
      "cell_type": "code",
      "source": [
        "sentence = okt.phrases('한글 자연어 처리는 재미있다')\n",
        "sentence"
      ],
      "metadata": {
        "id": "B6mZcA4u-aaR"
      },
      "execution_count": null,
      "outputs": []
    },
    {
      "cell_type": "code",
      "source": [
        "text='러브가 르브론과 재회를 원하고 있다. 미국 현지 기자 브렛 시겔은 6일(한국시간) 케빈 러브에 대한 상황을 보도했다. 보도에 따르면 \"러브는 현재 바이아웃을 적극적으로 원하고 있고, 만약 바이아웃이 된다면 러브는 LA 이적을 원한다는 소문이 있다\"라고 말했다. 또 \"러브는 뉴욕 이적을 원한다는 얘기도 있었으나, 뉴욕 닉스는 러브에 관심이 없다\"라고 덧붙였다.'\n",
        "sentence_tag2 = okt.pos(text)\n",
        "sentence_tag2"
      ],
      "metadata": {
        "id": "YuP-9AF2BP_h"
      },
      "execution_count": null,
      "outputs": []
    },
    {
      "cell_type": "code",
      "source": [
        "import collections"
      ],
      "metadata": {
        "id": "648AuJzdDBwo"
      },
      "execution_count": 22,
      "outputs": []
    },
    {
      "cell_type": "code",
      "source": [
        "adj_list=[]"
      ],
      "metadata": {
        "id": "OcfMk9o4DF9_"
      },
      "execution_count": 23,
      "outputs": []
    },
    {
      "cell_type": "code",
      "source": [
        "for word, tag in sentence_tag2:\n",
        "    if tag in ['Noun','Adjective']:\n",
        "      adj_list.append(word)\n",
        "counts=collections.Counter(adj_list)\n",
        "tag=counts.most_common(10)\n",
        "print(tag)"
      ],
      "metadata": {
        "id": "sPB1y4OHDWmU"
      },
      "execution_count": null,
      "outputs": []
    }
  ]
}