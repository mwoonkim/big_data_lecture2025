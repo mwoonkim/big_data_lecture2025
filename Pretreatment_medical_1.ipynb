{
  "nbformat": 4,
  "nbformat_minor": 0,
  "metadata": {
    "colab": {
      "provenance": [],
      "mount_file_id": "1fstm3hRqjGHJfyGPXRJlqvbtycILRulz",
      "authorship_tag": "ABX9TyPT8tn/1jHU9PEWq9ccNu0p",
      "include_colab_link": true
    },
    "kernelspec": {
      "name": "python3",
      "display_name": "Python 3"
    },
    "language_info": {
      "name": "python"
    }
  },
  "cells": [
    {
      "cell_type": "markdown",
      "metadata": {
        "id": "view-in-github",
        "colab_type": "text"
      },
      "source": [
        "<a href=\"https://colab.research.google.com/github/mwoonkim/big_data_lecture2025/blob/main/Pretreatment_medical_1.ipynb\" target=\"_parent\"><img src=\"https://colab.research.google.com/assets/colab-badge.svg\" alt=\"Open In Colab\"/></a>"
      ]
    },
    {
      "cell_type": "code",
      "source": [
        "import pandas as pd\n",
        "import numpy as np\n",
        "import matplotlib.pyplot as plt\n",
        "import seaborn as sns"
      ],
      "metadata": {
        "id": "HaO46wcm77dm"
      },
      "execution_count": 19,
      "outputs": []
    },
    {
      "cell_type": "code",
      "source": [
        "df=pd.read_csv('/content/drive/MyDrive/Colab Notebooks/medical.csv')\n",
        "df.head()"
      ],
      "metadata": {
        "id": "pxLgbCbJ80k-"
      },
      "execution_count": null,
      "outputs": []
    },
    {
      "cell_type": "code",
      "source": [
        "df.columns"
      ],
      "metadata": {
        "id": "VFppoV9E-I6M"
      },
      "execution_count": null,
      "outputs": []
    },
    {
      "cell_type": "code",
      "source": [
        "df.rename(columns = {'Hipertension' : 'Hypertension','Handcap':'Handicap'}, inplace = True)\n",
        "df.columns"
      ],
      "metadata": {
        "id": "uvoRgR-_9sy5"
      },
      "execution_count": null,
      "outputs": []
    },
    {
      "cell_type": "code",
      "source": [
        "df.info()"
      ],
      "metadata": {
        "id": "gBnDta4o-L9j"
      },
      "execution_count": null,
      "outputs": []
    },
    {
      "cell_type": "code",
      "source": [
        "print(df.isnull().any(axis=1))"
      ],
      "metadata": {
        "id": "C0vE7rOidsrJ"
      },
      "execution_count": null,
      "outputs": []
    },
    {
      "cell_type": "code",
      "source": [
        "print(df.isnull().any(axis=0))"
      ],
      "metadata": {
        "id": "EuI3cxr8eZOQ"
      },
      "execution_count": null,
      "outputs": []
    },
    {
      "cell_type": "code",
      "source": [
        "df.describe()"
      ],
      "metadata": {
        "id": "UPE6QXhdeqwz"
      },
      "execution_count": null,
      "outputs": []
    },
    {
      "cell_type": "code",
      "source": [
        "df=df[df.Age>=0]\n",
        "df.Age.min()"
      ],
      "metadata": {
        "id": "o8dJKURA-4Cn"
      },
      "execution_count": null,
      "outputs": []
    },
    {
      "cell_type": "code",
      "source": [
        "df=df[(df.Handicap==0)|(df.Handicap==1)]\n",
        "df.Handicap.value_counts()"
      ],
      "metadata": {
        "id": "EKodnOnr_NT-"
      },
      "execution_count": null,
      "outputs": []
    },
    {
      "cell_type": "code",
      "source": [
        "df['No-show']=df['No-show'].map({'Yes':1,'No':0})\n",
        "df['No-show'].value_counts()"
      ],
      "metadata": {
        "id": "yJ0eBZH9_daC"
      },
      "execution_count": null,
      "outputs": []
    },
    {
      "cell_type": "code",
      "source": [
        "df['AppointmentDay']=pd.to_datetime(df['AppointmentDay'])\n",
        "df['ScheduledDay']=pd.to_datetime(df['ScheduledDay'])\n",
        "df.info()"
      ],
      "metadata": {
        "id": "RddvOIFjAHvR"
      },
      "execution_count": null,
      "outputs": []
    },
    {
      "cell_type": "code",
      "source": [
        "df['waiting_day']=df['AppointmentDay'].dt.dayofyear-df['ScheduledDay'].dt.dayofyear\n",
        "df.info()"
      ],
      "metadata": {
        "id": "svpVMCtuAa3w"
      },
      "execution_count": null,
      "outputs": []
    },
    {
      "cell_type": "code",
      "source": [
        "df.describe()"
      ],
      "metadata": {
        "id": "GMDjIinUkkCF"
      },
      "execution_count": null,
      "outputs": []
    },
    {
      "cell_type": "code",
      "source": [
        "df=df[df.waiting_day>=0]\n",
        "df['waiting_day'].min()"
      ],
      "metadata": {
        "id": "Da2O2v3ZAz5u"
      },
      "execution_count": null,
      "outputs": []
    },
    {
      "cell_type": "code",
      "source": [
        "df.Age.unique()"
      ],
      "metadata": {
        "id": "iXVZeg-JlRmj"
      },
      "execution_count": null,
      "outputs": []
    },
    {
      "cell_type": "code",
      "source": [
        "plt.figure(figsize=(16,2))\n",
        "sns.boxplot(x=df.Age)"
      ],
      "metadata": {
        "id": "wBbKkTk5Bak5"
      },
      "execution_count": null,
      "outputs": []
    },
    {
      "cell_type": "code",
      "source": [
        "df = df[ df.Age <= 110]\n",
        "plt.figure(figsize=(16,2))\n",
        "sns.boxplot(x=df.Age)"
      ],
      "metadata": {
        "id": "FchsTxLJBpTG"
      },
      "execution_count": null,
      "outputs": []
    },
    {
      "cell_type": "code",
      "source": [
        "a = df[df.waiting_day==0]['waiting_day'].value_counts()\n",
        "b = df[(df.waiting_day==0) & (df['No-show']==1)]['waiting_day'].value_counts()\n",
        "b/a"
      ],
      "metadata": {
        "id": "nt1rN50ACdUY"
      },
      "execution_count": null,
      "outputs": []
    },
    {
      "cell_type": "code",
      "source": [
        "no_show=df[df['No-show']==1]\n",
        "show=df[df['No-show']==0]"
      ],
      "metadata": {
        "id": "4YGGYs4eC741"
      },
      "execution_count": 63,
      "outputs": []
    },
    {
      "cell_type": "code",
      "source": [
        "no_show[(no_show['waiting_day']<=10)]['waiting_day'].hist(alpha=0.7,label='no_show')\n",
        "show[show['waiting_day']<=10]['waiting_day'].hist(alpha=0.3, label='show')\n",
        "plt.legend()"
      ],
      "metadata": {
        "id": "FPcTiOhhDJQw"
      },
      "execution_count": null,
      "outputs": []
    },
    {
      "cell_type": "code",
      "source": [
        "no_show['ScheduledDay'].hist(alpha=0.7, label='no_show')\n",
        "show['ScheduledDay'].hist(alpha=0.3, label='show')\n",
        "plt.legend()"
      ],
      "metadata": {
        "id": "Ova-_MtJDRth"
      },
      "execution_count": null,
      "outputs": []
    },
    {
      "cell_type": "code",
      "source": [
        "no_show['AppointmentDay'].hist(alpha=0.7, label='no_show')\n",
        "show['AppointmentDay'].hist(alpha=0.3, label='show')\n",
        "plt.legend()"
      ],
      "metadata": {
        "id": "Hw15mcQzDYeB"
      },
      "execution_count": null,
      "outputs": []
    },
    {
      "cell_type": "code",
      "source": [
        "df.PatientId.value_counts().iloc[0:10]"
      ],
      "metadata": {
        "id": "mMb4_AY5m03y"
      },
      "execution_count": null,
      "outputs": []
    },
    {
      "cell_type": "code",
      "source": [
        "df[(df['waiting_day']>=50) & (df['No-show']==1)].PatientId.value_counts().iloc[0:10]"
      ],
      "metadata": {
        "id": "IGhZpcCwFVRq"
      },
      "execution_count": null,
      "outputs": []
    },
    {
      "cell_type": "code",
      "source": [
        "sns.barplot(x='SMS_received',y='waiting_day',data=df,hue='No-show')"
      ],
      "metadata": {
        "id": "8tpT96zLD2np"
      },
      "execution_count": null,
      "outputs": []
    },
    {
      "cell_type": "code",
      "source": [
        "temp=df[['waiting_day','SMS_received', 'No-show']].corr()\n",
        "sns.heatmap(temp)"
      ],
      "metadata": {
        "id": "CHqMfugTqkEs"
      },
      "execution_count": null,
      "outputs": []
    }
  ]
}