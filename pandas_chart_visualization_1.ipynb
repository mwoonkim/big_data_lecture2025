{
  "nbformat": 4,
  "nbformat_minor": 0,
  "metadata": {
    "colab": {
      "provenance": [],
      "mount_file_id": "1JRwQ-AFheTSGxq2cFWUVx1WZ2CJ52RHu",
      "authorship_tag": "ABX9TyM16LOBX6K3tUaO0FU6P+YS",
      "include_colab_link": true
    },
    "kernelspec": {
      "name": "python3",
      "display_name": "Python 3"
    },
    "language_info": {
      "name": "python"
    }
  },
  "cells": [
    {
      "cell_type": "markdown",
      "metadata": {
        "id": "view-in-github",
        "colab_type": "text"
      },
      "source": [
        "<a href=\"https://colab.research.google.com/github/mwoonkim/big_data_lecture2025/blob/main/pandas_chart_visualization_1.ipynb\" target=\"_parent\"><img src=\"https://colab.research.google.com/assets/colab-badge.svg\" alt=\"Open In Colab\"/></a>"
      ]
    },
    {
      "cell_type": "code",
      "source": [
        "import numpy as np\n",
        "import pandas as pd\n",
        "import matplotlib.pyplot as plt"
      ],
      "metadata": {
        "id": "7ScJ0OPwvkYH"
      },
      "execution_count": 6,
      "outputs": []
    },
    {
      "cell_type": "code",
      "execution_count": 7,
      "metadata": {
        "id": "U7hxvtoQuI8e"
      },
      "outputs": [],
      "source": [
        "np.random.seed(123456)"
      ]
    },
    {
      "cell_type": "code",
      "source": [
        "plt.figure()    # 그림 객체 생성 - 여러개 그림을 그리거나, 속성을 직접 지정할 때 사용"
      ],
      "metadata": {
        "id": "jmn6mHXKxraw"
      },
      "execution_count": null,
      "outputs": []
    },
    {
      "cell_type": "code",
      "source": [
        "ts = pd.Series(np.random.randn(1000), index=pd.date_range(\"1/1/2000\", periods=1000))\n",
        "ts = ts.cumsum()\n",
        "ts.plot()"
      ],
      "metadata": {
        "id": "bI_08AuowV7o"
      },
      "execution_count": null,
      "outputs": []
    },
    {
      "cell_type": "code",
      "source": [
        "df = pd.DataFrame(np.random.randn(1000, 4), index=ts.index, columns=list(\"ABCD\"))  # 라벨이 있는 경우\n",
        "df = df.cumsum()\n",
        "df.plot()"
      ],
      "metadata": {
        "id": "OtyrmzZFwDSy"
      },
      "execution_count": null,
      "outputs": []
    },
    {
      "cell_type": "code",
      "source": [
        "df3 = pd.DataFrame(np.random.randn(1000, 2), columns=[\"B\", \"C\"]).cumsum()\n",
        "df3[\"A\"] = pd.Series(list(range(len(df))))\n",
        "df3.plot(x=\"A\", y=\"B\")   # x, y를 지정"
      ],
      "metadata": {
        "id": "aAVDUg5VwnlF"
      },
      "execution_count": null,
      "outputs": []
    },
    {
      "cell_type": "code",
      "source": [
        "df.iloc[5].plot(kind=\"bar\")   # 막대그래프"
      ],
      "metadata": {
        "id": "gE4XPS-O5O5n"
      },
      "execution_count": null,
      "outputs": []
    },
    {
      "cell_type": "code",
      "source": [
        "df2 = pd.DataFrame(np.random.rand(10, 4), columns=[\"a\", \"b\", \"c\", \"d\"])\n",
        "df2.plot.bar()    # Multiple Bar plot"
      ],
      "metadata": {
        "id": "zOKTOtYF5Tho"
      },
      "execution_count": null,
      "outputs": []
    },
    {
      "cell_type": "code",
      "source": [
        "df2.plot.bar(stacked=True)  # Stack Bar Plot"
      ],
      "metadata": {
        "id": "kom2_qME55Bd"
      },
      "execution_count": null,
      "outputs": []
    },
    {
      "cell_type": "code",
      "source": [
        "df2.plot.barh(stacked=True)   # 수평 Stack Bar Plot"
      ],
      "metadata": {
        "id": "iZSVdhiq6B-K"
      },
      "execution_count": null,
      "outputs": []
    },
    {
      "cell_type": "code",
      "source": [
        "df4 = pd.DataFrame(\n",
        "       {\n",
        "           \"a\": np.random.randn(1000) + 1,\n",
        "           \"b\": np.random.randn(1000),\n",
        "           \"c\": np.random.randn(1000) - 1,\n",
        "       },\n",
        "       columns=[\"a\", \"b\", \"c\"],\n",
        "   )\n",
        "df4.plot.hist(alpha=0.5)   # Histogram"
      ],
      "metadata": {
        "id": "SLiQs1-B6QOg"
      },
      "execution_count": null,
      "outputs": []
    },
    {
      "cell_type": "code",
      "source": [
        "df4.plot.hist(stacked=True, bins=20)   # stacked"
      ],
      "metadata": {
        "id": "W2TTxvl36dvi"
      },
      "execution_count": null,
      "outputs": []
    },
    {
      "cell_type": "code",
      "source": [
        "df4[\"a\"].plot.hist(orientation=\"horizontal\", cumulative=True)    # 수평 방향, 누적 구분없이"
      ],
      "metadata": {
        "id": "MiQDu4RC6pBO"
      },
      "execution_count": null,
      "outputs": []
    },
    {
      "cell_type": "code",
      "source": [
        "df[\"A\"].diff().hist()    # df.hist를 사용하여서도 그릴 수 있음"
      ],
      "metadata": {
        "id": "jO4rxa3964xg"
      },
      "execution_count": null,
      "outputs": []
    },
    {
      "cell_type": "code",
      "source": [
        "df.diff().hist(color=\"k\", alpha=0.5, bins=50)   # 여러 개의 그래프를 한꺼번에"
      ],
      "metadata": {
        "id": "13l61Vj87HY1"
      },
      "execution_count": null,
      "outputs": []
    },
    {
      "cell_type": "code",
      "source": [
        "data = pd.Series(np.random.randn(1000))\n",
        "data.hist(by=np.random.randint(0, 4, 1000), figsize=(6, 4))   # by를 사용하여 그룹을 선택"
      ],
      "metadata": {
        "id": "Zqj1zX017REA"
      },
      "execution_count": null,
      "outputs": []
    },
    {
      "cell_type": "code",
      "source": [
        "data = pd.DataFrame(\n",
        "       {\n",
        "           \"a\": np.random.choice([\"x\", \"y\", \"z\"], 1000),\n",
        "           \"b\": np.random.choice([\"e\", \"f\", \"g\"], 1000),\n",
        "           \"c\": np.random.randn(1000),\n",
        "           \"d\": np.random.randn(1000) - 1,\n",
        "       },\n",
        "   )\n",
        "data.plot.hist(by=[\"a\", \"b\"], figsize=(10, 5))    # df.plot.hist에서도 by를 사용할 수 있음"
      ],
      "metadata": {
        "id": "xlrfsL9x7jq3"
      },
      "execution_count": null,
      "outputs": []
    },
    {
      "cell_type": "code",
      "source": [
        "df = pd.DataFrame(np.random.rand(10, 5), columns=[\"A\", \"B\", \"C\", \"D\", \"E\"])\n",
        "df.plot.box()    # Box plot"
      ],
      "metadata": {
        "id": "dmmRiFSK72Ys"
      },
      "execution_count": null,
      "outputs": []
    },
    {
      "cell_type": "code",
      "source": [
        "color = {\n",
        "       \"boxes\": \"DarkGreen\",\n",
        "       \"whiskers\": \"DarkOrange\",\n",
        "       \"medians\": \"DarkBlue\",\n",
        "       \"caps\": \"Gray\",\n",
        "   }\n",
        "df.plot.box(color=color, sym=\"r+\")    # 색상 지정"
      ],
      "metadata": {
        "id": "Lvdr68re8DSp"
      },
      "execution_count": null,
      "outputs": []
    },
    {
      "cell_type": "code",
      "source": [
        "df.plot.box(vert=False, positions=[1, 4, 5, 6, 8])   # 수평방향, 위치 지정"
      ],
      "metadata": {
        "id": "QOaIsi8e8QRQ"
      },
      "execution_count": null,
      "outputs": []
    },
    {
      "cell_type": "code",
      "source": [
        "df = pd.DataFrame(np.random.rand(10, 5))\n",
        "bp = df.boxplot()   # df.boxplot으로도 그릴 수 있음"
      ],
      "metadata": {
        "id": "731BUJ_t8fwG"
      },
      "execution_count": null,
      "outputs": []
    },
    {
      "cell_type": "code",
      "source": [
        "df = pd.DataFrame(np.random.rand(10, 2), columns=[\"Col1\", \"Col2\"])\n",
        "df[\"X\"] = pd.Series([\"A\", \"A\", \"A\", \"A\", \"A\", \"B\", \"B\", \"B\", \"B\", \"B\"])\n",
        "bp = df.boxplot(by=\"X\")    # 그룹을 나누어서 플롯"
      ],
      "metadata": {
        "id": "DjZ-c9Q18y_e"
      },
      "execution_count": null,
      "outputs": []
    },
    {
      "cell_type": "code",
      "source": [
        "df = pd.DataFrame(np.random.rand(10, 3), columns=[\"Col1\", \"Col2\", \"Col3\"])\n",
        "df[\"X\"] = pd.Series([\"A\", \"A\", \"A\", \"A\", \"A\", \"B\", \"B\", \"B\", \"B\", \"B\"])\n",
        "df[\"Y\"] = pd.Series([\"A\", \"B\", \"A\", \"B\", \"A\", \"B\", \"A\", \"B\", \"A\", \"B\"])\n",
        "bp = df.boxplot(column=[\"Col1\", \"Col2\"], by=[\"X\", \"Y\"])    # 그룹을 여러 개로 지정"
      ],
      "metadata": {
        "id": "Rfb-46cM9Eju"
      },
      "execution_count": null,
      "outputs": []
    },
    {
      "cell_type": "code",
      "source": [
        "bp = df.plot.box(column=[\"Col1\", \"Col2\"], by=\"X\")   # df.plot.box를 사용하여 그릴 경우"
      ],
      "metadata": {
        "id": "Or_ggxuF9Xxq"
      },
      "execution_count": null,
      "outputs": []
    },
    {
      "cell_type": "code",
      "source": [
        "df_box = pd.DataFrame(np.random.randn(50, 2))\n",
        "df_box[\"g\"] = np.random.choice([\"A\", \"B\"], size=50)\n",
        "df_box.loc[df_box[\"g\"] == \"B\", 1] += 3\n",
        "bp = df_box.boxplot(by=\"g\")    # by를 사용하면 해당 시리즈 이름(예, A, B)으로 표시됨"
      ],
      "metadata": {
        "id": "OBw3r-qQ-DI_"
      },
      "execution_count": null,
      "outputs": []
    },
    {
      "cell_type": "code",
      "source": [
        "bp = df_box.groupby(\"g\").boxplot()   # 시리즈 이름을 사용하지 않을 경우"
      ],
      "metadata": {
        "id": "aBSkgvnM-XwG"
      },
      "execution_count": null,
      "outputs": []
    },
    {
      "cell_type": "code",
      "source": [
        "df = pd.DataFrame(np.random.rand(10, 4), columns=[\"a\", \"b\", \"c\", \"d\"])\n",
        "df.plot.area()    # Area plot"
      ],
      "metadata": {
        "id": "JzU3JkO2-p4J"
      },
      "execution_count": null,
      "outputs": []
    },
    {
      "cell_type": "code",
      "source": [
        "df.plot.area(stacked=False)    # Stack되지 않은 Area Plot"
      ],
      "metadata": {
        "id": "0NAVrT26-9tL"
      },
      "execution_count": null,
      "outputs": []
    },
    {
      "cell_type": "code",
      "source": [
        "df = pd.DataFrame(np.random.rand(50, 4), columns=[\"a\", \"b\", \"c\", \"d\"])\n",
        "df[\"species\"] = pd.Categorical(\n",
        "       [\"setosa\"] * 20 + [\"versicolor\"] * 20 + [\"virginica\"] * 10\n",
        "   )\n",
        "df.plot.scatter(x=\"a\", y=\"b\")   # Scatter plot"
      ],
      "metadata": {
        "id": "35LADlqcA8E3"
      },
      "execution_count": null,
      "outputs": []
    },
    {
      "cell_type": "code",
      "source": [
        "ax = df.plot.scatter(x=\"a\", y=\"b\", color=\"DarkBlue\", label=\"Group 1\")\n",
        "df.plot.scatter(x=\"c\", y=\"d\", color=\"DarkGreen\", label=\"Group 2\", ax=ax)   # x, y 축을 지정하고, 색깔로 그룹을 구분"
      ],
      "metadata": {
        "id": "ofuUNnthBJ6j"
      },
      "execution_count": null,
      "outputs": []
    },
    {
      "cell_type": "code",
      "source": [
        "df.plot.scatter(x=\"a\", y=\"b\", c=\"c\", s=50)   # c를 사용"
      ],
      "metadata": {
        "id": "AY1Wz6S5BeyI"
      },
      "execution_count": null,
      "outputs": []
    },
    {
      "cell_type": "code",
      "source": [
        "df.plot.scatter(x=\"a\", y=\"b\", c=\"species\", cmap=\"viridis\", s=50)   # c를 지정하고 색깔을 map으로 표현"
      ],
      "metadata": {
        "id": "KGmzu9spB31A"
      },
      "execution_count": null,
      "outputs": []
    },
    {
      "cell_type": "code",
      "source": [
        "df.plot.scatter(x=\"a\", y=\"b\", s=df[\"c\"] * 200)   # bubble chart"
      ],
      "metadata": {
        "id": "MqgHTSPqCGi-"
      },
      "execution_count": null,
      "outputs": []
    },
    {
      "cell_type": "code",
      "source": [
        "df = pd.DataFrame(np.random.randn(1000, 2), columns=[\"a\", \"b\"])\n",
        "df[\"b\"] = df[\"b\"] + np.arange(1000)\n",
        "df.plot.hexbin(x=\"a\", y=\"b\", gridsize=25)   # Hexagonal bin (hexbin) plot"
      ],
      "metadata": {
        "id": "6DFWsbPyCZCE"
      },
      "execution_count": null,
      "outputs": []
    },
    {
      "cell_type": "code",
      "source": [
        "df = pd.DataFrame(np.random.randn(1000, 2), columns=[\"a\", \"b\"])\n",
        "df[\"b\"] = df[\"b\"] + np.arange(1000)\n",
        "df[\"z\"] = np.random.uniform(0, 3, 1000)\n",
        "df.plot.hexbin(x=\"a\", y=\"b\", C=\"z\", reduce_C_function=np.max, gridsize=25)  # gridsize로 x축 방향의 hexbin 숫자 한정 (default=100)"
      ],
      "metadata": {
        "id": "Ubzx5Fh_CpWC"
      },
      "execution_count": null,
      "outputs": []
    },
    {
      "cell_type": "code",
      "source": [
        "series = pd.Series(3 * np.random.rand(4), index=[\"a\", \"b\", \"c\", \"d\"], name=\"series\")\n",
        "series.plot.pie(figsize=(6, 6))   # Pie plot"
      ],
      "metadata": {
        "id": "jsE3vm9VDKAs"
      },
      "execution_count": null,
      "outputs": []
    },
    {
      "cell_type": "code",
      "source": [
        "df = pd.DataFrame(\n",
        "       3 * np.random.rand(4, 2), index=[\"a\", \"b\", \"c\", \"d\"], columns=[\"x\", \"y\"]\n",
        "   )\n",
        "df.plot.pie(subplots=True, figsize=(8, 4))   # 그룹별로 subplot"
      ],
      "metadata": {
        "id": "K4sx_e0hDYKh"
      },
      "execution_count": null,
      "outputs": []
    },
    {
      "cell_type": "code",
      "source": [
        "series.plot.pie(\n",
        "       labels=[\"AA\", \"BB\", \"CC\", \"DD\"],\n",
        "       colors=[\"r\", \"g\", \"b\", \"c\"],\n",
        "       autopct=\"%.2f\",\n",
        "       fontsize=20,\n",
        "       figsize=(6, 6),\n",
        "   )\n",
        "# label을 사용할 경우"
      ],
      "metadata": {
        "id": "jdUt0LmLDuMC"
      },
      "execution_count": null,
      "outputs": []
    },
    {
      "cell_type": "markdown",
      "source": [
        "**pd.plotting을 사용한 다양한 그래프**"
      ],
      "metadata": {
        "id": "YJsrY7GrFAoj"
      }
    },
    {
      "cell_type": "code",
      "source": [
        "from pandas.plotting import scatter_matrix\n",
        "\n",
        "df = pd.DataFrame(np.random.randn(1000, 4), columns=[\"a\", \"b\", \"c\", \"d\"])\n",
        "scatter_matrix(df, alpha=0.2, figsize=(6, 6), diagonal=\"kde\")   # 여러 개의 플롯을 한꺼번에"
      ],
      "metadata": {
        "id": "4bfkF4LQEf7E"
      },
      "execution_count": null,
      "outputs": []
    },
    {
      "cell_type": "code",
      "source": [
        "ser = pd.Series(np.random.randn(1000))\n",
        "ser.plot.kde()   # plot.kde를 사용한 density plot (Kernel Density Estimation)"
      ],
      "metadata": {
        "id": "7w0vqke1FZJR"
      },
      "execution_count": null,
      "outputs": []
    },
    {
      "cell_type": "code",
      "source": [
        "from pandas.plotting import andrews_curves\n",
        "\n",
        "data = pd.read_csv(\"/content/drive/MyDrive/Colab Notebooks/iris.csv\")   # iris.csv 데이터셋 이용\n",
        "andrews_curves(data, \"Name\")                     # Andrews Curve (숫자가 많은 다변량 그래프를 푸리에 급수를 통해 계수를 부여하는 기법)"
      ],
      "metadata": {
        "id": "qikIp48EZb_7"
      },
      "execution_count": null,
      "outputs": []
    },
    {
      "cell_type": "code",
      "source": [
        "from pandas.plotting import parallel_coordinates\n",
        "\n",
        "data = pd.read_csv(\"/content/drive/MyDrive/Colab Notebooks/iris.csv\")\n",
        "parallel_coordinates(data, \"Name\")    # Anerews curve 대신 Parallel Coordinates 방법 사용"
      ],
      "metadata": {
        "id": "sIkviFbJaGID"
      },
      "execution_count": null,
      "outputs": []
    },
    {
      "cell_type": "code",
      "source": [
        "from pandas.plotting import lag_plot\n",
        "\n",
        "spacing = np.linspace(-99 * np.pi, 99 * np.pi, num=1000)\n",
        "data = pd.Series(0.1 * np.random.rand(1000) + 0.9 * np.sin(spacing))\n",
        "lag_plot(data)    # lag plot (랜덤 데이터셋이나 시간자료 여부를 확인할 수 있는 플롯)"
      ],
      "metadata": {
        "id": "9Osbdu_ra1rz"
      },
      "execution_count": null,
      "outputs": []
    },
    {
      "cell_type": "code",
      "source": [
        "from pandas.plotting import autocorrelation_plot\n",
        "\n",
        "spacing = np.linspace(-9 * np.pi, 9 * np.pi, num=1000)\n",
        "data = pd.Series(0.7 * np.random.rand(1000) + 0.3 * np.sin(spacing))\n",
        "autocorrelation_plot(data)   # Autocorrelation plot (자기상관성을 확인할 수 있는 플롯, 시간자료의 랜덤여부 체크)"
      ],
      "metadata": {
        "id": "FM4GaqSPbO3U"
      },
      "execution_count": null,
      "outputs": []
    },
    {
      "cell_type": "code",
      "source": [
        "from pandas.plotting import bootstrap_plot\n",
        "\n",
        "data = pd.Series(np.random.rand(1000))\n",
        "bootstrap_plot(data, size=50, samples=500, color=\"grey\")   # bootstrap (통계자료의 불확실성 평가)"
      ],
      "metadata": {
        "id": "lr78q5SFbouZ"
      },
      "execution_count": null,
      "outputs": []
    },
    {
      "cell_type": "code",
      "source": [
        "from pandas.plotting import radviz\n",
        "\n",
        "data = pd.read_csv(\"/content/drive/MyDrive/Colab Notebooks/iris.csv\")\n",
        "radviz(data, \"Name\")    # RadViz (다변량 데이터를 시각화하여 분류)"
      ],
      "metadata": {
        "id": "QNfcwfuWb6h2"
      },
      "execution_count": null,
      "outputs": []
    },
    {
      "cell_type": "markdown",
      "source": [
        "**Plot의 포맷을 다양하게 지정**"
      ],
      "metadata": {
        "id": "tsW1KnoCcjqL"
      }
    },
    {
      "cell_type": "code",
      "source": [],
      "metadata": {
        "id": "wgnRyCBWcZ-p"
      },
      "execution_count": null,
      "outputs": []
    }
  ]
}