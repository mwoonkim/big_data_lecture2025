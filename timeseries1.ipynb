{
  "nbformat": 4,
  "nbformat_minor": 0,
  "metadata": {
    "colab": {
      "provenance": [],
      "mount_file_id": "1_UzcGj9CRDZ4_d0vnNtCfMm_ci9l3S0g",
      "authorship_tag": "ABX9TyO5hwIFD5Gc106wJ+9o4BFm",
      "include_colab_link": true
    },
    "kernelspec": {
      "name": "python3",
      "display_name": "Python 3"
    },
    "language_info": {
      "name": "python"
    }
  },
  "cells": [
    {
      "cell_type": "markdown",
      "metadata": {
        "id": "view-in-github",
        "colab_type": "text"
      },
      "source": [
        "<a href=\"https://colab.research.google.com/github/mwoonkim/big_data_lecture2025/blob/main/timeseries1.ipynb\" target=\"_parent\"><img src=\"https://colab.research.google.com/assets/colab-badge.svg\" alt=\"Open In Colab\"/></a>"
      ]
    },
    {
      "cell_type": "code",
      "execution_count": 18,
      "metadata": {
        "id": "2Ag3WTdySnPn"
      },
      "outputs": [],
      "source": [
        "import pandas as pd\n",
        "import numpy as np\n",
        "import matplotlib.pyplot as plt\n",
        "import seaborn as sns"
      ]
    },
    {
      "cell_type": "code",
      "source": [
        "apple = pd.read_csv('/content/drive/MyDrive/Colab Notebooks/AAPL.csv')\n",
        "apple.head()"
      ],
      "metadata": {
        "id": "-VfsR1Q2TCc6"
      },
      "execution_count": null,
      "outputs": []
    },
    {
      "cell_type": "code",
      "source": [
        "apple.info()"
      ],
      "metadata": {
        "id": "HMEeXUL2TahA"
      },
      "execution_count": null,
      "outputs": []
    },
    {
      "cell_type": "code",
      "source": [
        "apple.Date=pd.to_datetime(apple.Date)\n",
        "apple['Date'].head()"
      ],
      "metadata": {
        "id": "d3Pku6oyT4sO"
      },
      "execution_count": null,
      "outputs": []
    },
    {
      "cell_type": "code",
      "source": [
        "apple=apple.set_index('Date')\n",
        "apple.head()"
      ],
      "metadata": {
        "id": "IJqQIL9MUN3Z"
      },
      "execution_count": null,
      "outputs": []
    },
    {
      "cell_type": "code",
      "source": [
        "print(apple.index.is_unique)\n",
        "apple.sort_values(by=['Date'], ascending=False).head()"
      ],
      "metadata": {
        "id": "sNdZNAxDUhfU"
      },
      "execution_count": null,
      "outputs": []
    },
    {
      "cell_type": "code",
      "source": [
        "apple['rtn']=apple['Close'].pct_change()\n",
        "apple.head()"
      ],
      "metadata": {
        "id": "_RCH1A3bVx7r"
      },
      "execution_count": null,
      "outputs": []
    },
    {
      "cell_type": "code",
      "source": [
        "apple['MA30']=apple['Close'].rolling(30).mean()\n",
        "apple.head()"
      ],
      "metadata": {
        "id": "7G6qGMUlyAq5"
      },
      "execution_count": null,
      "outputs": []
    },
    {
      "cell_type": "code",
      "source": [
        "apple.iloc[:,[3,7]].plot()"
      ],
      "metadata": {
        "id": "q6HYP_kiy2HH"
      },
      "execution_count": null,
      "outputs": []
    },
    {
      "cell_type": "code",
      "source": [
        "apple['MA60']=apple['Close'].rolling(60).mean()\n",
        "apple.iloc[:,[3,7,8]].plot()"
      ],
      "metadata": {
        "id": "nRDLTCKFzcLr"
      },
      "execution_count": null,
      "outputs": []
    },
    {
      "cell_type": "markdown",
      "source": [
        "ARIMA"
      ],
      "metadata": {
        "id": "pLfrqIak2gIZ"
      }
    },
    {
      "cell_type": "code",
      "source": [
        "!pip install statsmodels\n",
        "from statsmodels.tsa.arima.model import ARIMA\n",
        "import statsmodels.api as sm"
      ],
      "metadata": {
        "id": "iT966lnX2eMm"
      },
      "execution_count": null,
      "outputs": []
    },
    {
      "cell_type": "code",
      "source": [
        "from statsmodels.graphics.tsaplots import plot_acf, plot_pacf\n",
        "plot_acf(apple['Close'])\n",
        "plot_pacf(apple['Close'])"
      ],
      "metadata": {
        "id": "qWtbHBq3477O"
      },
      "execution_count": null,
      "outputs": []
    },
    {
      "cell_type": "code",
      "source": [
        "dif1=apple['Close'].diff(periods=1).iloc[1:]\n",
        "dif1.plot()"
      ],
      "metadata": {
        "id": "dMxRBhAf6NZp"
      },
      "execution_count": null,
      "outputs": []
    },
    {
      "cell_type": "code",
      "source": [
        "plot_acf(dif1)\n",
        "plot_pacf(dif1)"
      ],
      "metadata": {
        "id": "5fduDz-N7A_B"
      },
      "execution_count": null,
      "outputs": []
    },
    {
      "cell_type": "code",
      "source": [
        "model=ARIMA(apple['Close'].values, order=(0,1,0))\n",
        "model_fit = model.fit()\n",
        "print(model_fit.summary())"
      ],
      "metadata": {
        "id": "qalnPqxN1cF_"
      },
      "execution_count": null,
      "outputs": []
    },
    {
      "cell_type": "code",
      "source": [
        "from statsmodels.graphics.tsaplots import plot_predict\n",
        "plot_predict(model_fit)"
      ],
      "metadata": {
        "id": "gcX4YCDh3w22"
      },
      "execution_count": null,
      "outputs": []
    },
    {
      "cell_type": "code",
      "source": [
        "!pip install pmdarima"
      ],
      "metadata": {
        "id": "xnNNqAhRAKrI"
      },
      "execution_count": null,
      "outputs": []
    },
    {
      "cell_type": "code",
      "source": [
        "from pmdarima.arima import auto_arima\n",
        "stepwise_fit = auto_armia(apple['Date'], supress_warnings=True)\n",
        "stepwisd_fit.summary()"
      ],
      "metadata": {
        "id": "ZH4aUjmzA3Dy"
      },
      "execution_count": null,
      "outputs": []
    }
  ]
}