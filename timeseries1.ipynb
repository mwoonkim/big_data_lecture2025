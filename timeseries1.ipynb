{
  "nbformat": 4,
  "nbformat_minor": 0,
  "metadata": {
    "colab": {
      "provenance": [],
      "mount_file_id": "1_UzcGj9CRDZ4_d0vnNtCfMm_ci9l3S0g",
      "authorship_tag": "ABX9TyObvN1PpZCp4ugMZWGms4pH",
      "include_colab_link": true
    },
    "kernelspec": {
      "name": "python3",
      "display_name": "Python 3"
    },
    "language_info": {
      "name": "python"
    }
  },
  "cells": [
    {
      "cell_type": "markdown",
      "metadata": {
        "id": "view-in-github",
        "colab_type": "text"
      },
      "source": [
        "<a href=\"https://colab.research.google.com/github/mwoonkim/big_data_lecture2025/blob/main/timeseries1.ipynb\" target=\"_parent\"><img src=\"https://colab.research.google.com/assets/colab-badge.svg\" alt=\"Open In Colab\"/></a>"
      ]
    },
    {
      "cell_type": "code",
      "execution_count": 1,
      "metadata": {
        "id": "2Ag3WTdySnPn"
      },
      "outputs": [],
      "source": [
        "import pandas as pd\n",
        "import numpy as np\n",
        "import matplotlib.pyplot as plt\n",
        "import seaborn as sns"
      ]
    },
    {
      "cell_type": "code",
      "source": [
        "apple = pd.read_csv('/content/drive/MyDrive/Colab Notebooks/AAPL.csv')\n",
        "apple.head()"
      ],
      "metadata": {
        "id": "-VfsR1Q2TCc6"
      },
      "execution_count": null,
      "outputs": []
    },
    {
      "cell_type": "code",
      "source": [
        "apple.info()"
      ],
      "metadata": {
        "id": "HMEeXUL2TahA"
      },
      "execution_count": null,
      "outputs": []
    },
    {
      "cell_type": "code",
      "source": [
        "apple.Date=pd.to_datetime(apple.Date)\n",
        "apple['Date'].head()"
      ],
      "metadata": {
        "id": "d3Pku6oyT4sO"
      },
      "execution_count": null,
      "outputs": []
    },
    {
      "cell_type": "code",
      "source": [
        "apple=apple.set_index('Date')\n",
        "apple.head()"
      ],
      "metadata": {
        "id": "IJqQIL9MUN3Z"
      },
      "execution_count": null,
      "outputs": []
    },
    {
      "cell_type": "code",
      "source": [
        "print(apple.index.is_unique)\n",
        "apple.sort_values(by=['Date'], ascending=False).head()"
      ],
      "metadata": {
        "id": "sNdZNAxDUhfU"
      },
      "execution_count": null,
      "outputs": []
    },
    {
      "cell_type": "code",
      "source": [
        "apple_month['rtn']=apple_month['Close'].pct_change()"
      ],
      "metadata": {
        "id": "_RCH1A3bVx7r"
      },
      "execution_count": null,
      "outputs": []
    }
  ]
}