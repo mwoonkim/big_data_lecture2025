{
  "nbformat": 4,
  "nbformat_minor": 0,
  "metadata": {
    "colab": {
      "provenance": [],
      "authorship_tag": "ABX9TyOnjF/9a5QANkQ7Dq8i0uXe",
      "include_colab_link": true
    },
    "kernelspec": {
      "name": "python3",
      "display_name": "Python 3"
    },
    "language_info": {
      "name": "python"
    }
  },
  "cells": [
    {
      "cell_type": "markdown",
      "metadata": {
        "id": "view-in-github",
        "colab_type": "text"
      },
      "source": [
        "<a href=\"https://colab.research.google.com/github/mwoonkim/big_data_lecture2025/blob/main/t_test02.ipynb\" target=\"_parent\"><img src=\"https://colab.research.google.com/assets/colab-badge.svg\" alt=\"Open In Colab\"/></a>"
      ]
    },
    {
      "cell_type": "code",
      "execution_count": 3,
      "metadata": {
        "id": "9BiY44iz8jf-"
      },
      "outputs": [],
      "source": [
        "from scipy import stats\n",
        "import numpy as np\n",
        "import matplotlib.pyplot as plt"
      ]
    },
    {
      "cell_type": "code",
      "source": [
        "method1_score = np.random.uniform(50,100,size=30)\n",
        "method2_score = np.random.uniform(45,95,size=30)\n",
        "print(method1_score)\n",
        "print(method2_score)"
      ],
      "metadata": {
        "id": "8yBPV1RCH3dL"
      },
      "execution_count": null,
      "outputs": []
    },
    {
      "cell_type": "code",
      "source": [
        "stats.shapiro(method1_score)"
      ],
      "metadata": {
        "id": "i0pO_u9lHhlb"
      },
      "execution_count": null,
      "outputs": []
    },
    {
      "cell_type": "code",
      "source": [
        "stats.shapiro(method2_score)"
      ],
      "metadata": {
        "id": "y63FqPhfHprs"
      },
      "execution_count": null,
      "outputs": []
    },
    {
      "cell_type": "code",
      "source": [
        "stats.probplot(method1_score, dist=stats.norm, plot=plt)"
      ],
      "metadata": {
        "id": "mJmyaDV9IjqG"
      },
      "execution_count": null,
      "outputs": []
    },
    {
      "cell_type": "code",
      "source": [
        "stats.probplot(method2_score, dist=stats.norm, plot=plt)"
      ],
      "metadata": {
        "id": "ZD91RJPyI10_"
      },
      "execution_count": null,
      "outputs": []
    },
    {
      "cell_type": "code",
      "source": [
        "statistic, pvalue = stats.ttest_ind(method1_score, method2_score)\n",
        "print(f\"통계량: {statistic:.3f}, P-value: {pvalue:.5f}\")"
      ],
      "metadata": {
        "id": "eVeKbzXqI7VQ"
      },
      "execution_count": null,
      "outputs": []
    }
  ]
}