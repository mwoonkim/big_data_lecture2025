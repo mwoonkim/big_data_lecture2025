{
  "nbformat": 4,
  "nbformat_minor": 0,
  "metadata": {
    "colab": {
      "provenance": [],
      "mount_file_id": "13mS-FUqOSCwj3fepyIesylf6H2iarl69",
      "authorship_tag": "ABX9TyOnwzUkqe+o401mtMzEWeSi",
      "include_colab_link": true
    },
    "kernelspec": {
      "name": "python3",
      "display_name": "Python 3"
    },
    "language_info": {
      "name": "python"
    }
  },
  "cells": [
    {
      "cell_type": "markdown",
      "metadata": {
        "id": "view-in-github",
        "colab_type": "text"
      },
      "source": [
        "<a href=\"https://colab.research.google.com/github/mwoonkim/big_data_lecture2025/blob/main/hangeul_font_install.ipynb\" target=\"_parent\"><img src=\"https://colab.research.google.com/assets/colab-badge.svg\" alt=\"Open In Colab\"/></a>"
      ]
    },
    {
      "cell_type": "code",
      "execution_count": null,
      "metadata": {
        "id": "kGaxCm1XTWGF"
      },
      "outputs": [],
      "source": [
        "import matplotlib.font_manager as fm\n",
        "font_list = fm.findSystemFonts(fontpaths=None, fontext='ttf')\n",
        "sorted(font_list)"
      ]
    },
    {
      "cell_type": "code",
      "source": [
        "!sudo apt-get install -y fonts-nanum\n",
        "!sudo fc-cache -fv\n",
        "!rm ~/.cache/matplotlib -rf"
      ],
      "metadata": {
        "id": "ejGBGnFFUV1P"
      },
      "execution_count": null,
      "outputs": []
    }
  ]
}