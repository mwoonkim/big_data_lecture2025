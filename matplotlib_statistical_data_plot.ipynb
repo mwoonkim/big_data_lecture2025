{
  "nbformat": 4,
  "nbformat_minor": 0,
  "metadata": {
    "colab": {
      "provenance": [],
      "mount_file_id": "1zILXKAjkUwHYXz-OXY5lkbjg2nyoZK3I",
      "authorship_tag": "ABX9TyOwIDzejUYudDQb4dUdkOWN",
      "include_colab_link": true
    },
    "kernelspec": {
      "name": "python3",
      "display_name": "Python 3"
    },
    "language_info": {
      "name": "python"
    }
  },
  "cells": [
    {
      "cell_type": "markdown",
      "metadata": {
        "id": "view-in-github",
        "colab_type": "text"
      },
      "source": [
        "<a href=\"https://colab.research.google.com/github/mwoonkim/big_data_lecture2025/blob/main/matplotlib_statistical_data_plot.ipynb\" target=\"_parent\"><img src=\"https://colab.research.google.com/assets/colab-badge.svg\" alt=\"Open In Colab\"/></a>"
      ]
    },
    {
      "cell_type": "code",
      "execution_count": null,
      "metadata": {
        "id": "PrsLmm2NmfWN"
      },
      "outputs": [],
      "source": [
        "import matplotlib.pyplot as plt\n",
        "import numpy as np\n",
        "\n",
        "plt.style.use('_mpl-gallery')"
      ]
    },
    {
      "cell_type": "code",
      "source": [
        "# make data\n",
        "np.random.seed(1)\n",
        "x = 4 + np.random.normal(0, 1.5, 200)\n",
        "\n",
        "# plot: - hist\n",
        "fig, ax = plt.subplots()\n",
        "\n",
        "ax.hist(x, bins=8, linewidth=0.5, edgecolor=\"white\")\n",
        "\n",
        "ax.set(xlim=(0, 8), xticks=np.arange(1, 8),\n",
        "       ylim=(0, 56), yticks=np.linspace(0, 56, 9))\n",
        "\n",
        "plt.show()"
      ],
      "metadata": {
        "id": "P2HfPHVKnDst"
      },
      "execution_count": null,
      "outputs": []
    },
    {
      "cell_type": "code",
      "source": [
        "# make data:\n",
        "np.random.seed(10)\n",
        "D = np.random.normal((3, 5, 4), (1.25, 1.00, 1.25), (100, 3))\n",
        "\n",
        "# plot - box\n",
        "fig, ax = plt.subplots()\n",
        "VP = ax.boxplot(D, positions=[2, 4, 6], widths=1.5, patch_artist=True,\n",
        "                showmeans=False, showfliers=False,\n",
        "                medianprops={\"color\": \"white\", \"linewidth\": 0.5},\n",
        "                boxprops={\"facecolor\": \"C0\", \"edgecolor\": \"white\",\n",
        "                          \"linewidth\": 0.5},\n",
        "                whiskerprops={\"color\": \"C0\", \"linewidth\": 1.5},\n",
        "                capprops={\"color\": \"C0\", \"linewidth\": 1.5})\n",
        "\n",
        "ax.set(xlim=(0, 8), xticks=np.arange(1, 8),\n",
        "       ylim=(0, 8), yticks=np.arange(1, 8))\n",
        "\n",
        "plt.show()"
      ],
      "metadata": {
        "id": "UPU5W2mTnJhS"
      },
      "execution_count": null,
      "outputs": []
    },
    {
      "cell_type": "code",
      "source": [
        "# make data:\n",
        "np.random.seed(1)\n",
        "x = [2, 4, 6]\n",
        "y = [3.6, 5, 4.2]\n",
        "yerr = [0.9, 1.2, 0.5]\n",
        "\n",
        "# plot: - error bar\n",
        "fig, ax = plt.subplots()\n",
        "\n",
        "ax.errorbar(x, y, yerr, fmt='o', linewidth=2, capsize=6)\n",
        "\n",
        "ax.set(xlim=(0, 8), xticks=np.arange(1, 8),\n",
        "       ylim=(0, 8), yticks=np.arange(1, 8))\n",
        "\n",
        "plt.show()"
      ],
      "metadata": {
        "id": "rkwBI3RJnweZ"
      },
      "execution_count": null,
      "outputs": []
    },
    {
      "cell_type": "code",
      "source": [
        "# make data:\n",
        "np.random.seed(10)\n",
        "D = np.random.normal((3, 5, 4), (0.75, 1.00, 0.75), (200, 3))\n",
        "\n",
        "# plot: - violin\n",
        "fig, ax = plt.subplots()\n",
        "\n",
        "vp = ax.violinplot(D, [2, 4, 6], widths=2,\n",
        "                   showmeans=False, showmedians=False, showextrema=False)\n",
        "# styling:\n",
        "for body in vp['bodies']:\n",
        "    body.set_alpha(0.9)\n",
        "ax.set(xlim=(0, 8), xticks=np.arange(1, 8),\n",
        "       ylim=(0, 8), yticks=np.arange(1, 8))\n",
        "\n",
        "plt.show()"
      ],
      "metadata": {
        "id": "ItSZLbcmn2Lh"
      },
      "execution_count": null,
      "outputs": []
    },
    {
      "cell_type": "code",
      "source": [
        "# make data:\n",
        "np.random.seed(1)\n",
        "x = [2, 4, 6]\n",
        "D = np.random.gamma(4, size=(3, 50))\n",
        "\n",
        "# plot: - eventplot\n",
        "fig, ax = plt.subplots()\n",
        "\n",
        "ax.eventplot(D, orientation=\"vertical\", lineoffsets=x, linewidth=0.75)\n",
        "\n",
        "ax.set(xlim=(0, 8), xticks=np.arange(1, 8),\n",
        "       ylim=(0, 8), yticks=np.arange(1, 8))\n",
        "\n",
        "plt.show()"
      ],
      "metadata": {
        "id": "ycrTxEYNn8-L"
      },
      "execution_count": null,
      "outputs": []
    },
    {
      "cell_type": "code",
      "source": [
        "# make data: correlated + noise\n",
        "np.random.seed(1)\n",
        "x = np.random.randn(5000)\n",
        "y = 1.2 * x + np.random.randn(5000) / 3\n",
        "\n",
        "# plot: - hist2\n",
        "fig, ax = plt.subplots()\n",
        "\n",
        "ax.hist2d(x, y, bins=(np.arange(-3, 3, 0.1), np.arange(-3, 3, 0.1)))\n",
        "\n",
        "ax.set(xlim=(-2, 2), ylim=(-3, 3))\n",
        "\n",
        "plt.show()"
      ],
      "metadata": {
        "id": "R0-uD4eaoEbo"
      },
      "execution_count": null,
      "outputs": []
    },
    {
      "cell_type": "code",
      "source": [
        "# make data: correlated + noise\n",
        "np.random.seed(1)\n",
        "x = np.random.randn(5000)\n",
        "y = 1.2 * x + np.random.randn(5000) / 3\n",
        "\n",
        "# plot: - hexbin\n",
        "fig, ax = plt.subplots()\n",
        "\n",
        "ax.hexbin(x, y, gridsize=20)\n",
        "\n",
        "ax.set(xlim=(-2, 2), ylim=(-3, 3))\n",
        "\n",
        "plt.show()"
      ],
      "metadata": {
        "id": "nIFU9y6boPnf"
      },
      "execution_count": null,
      "outputs": []
    },
    {
      "cell_type": "code",
      "source": [
        "# make data\n",
        "x = [1, 2, 3, 4]\n",
        "colors = plt.get_cmap('Blues')(np.linspace(0.2, 0.7, len(x)))\n",
        "\n",
        "# plot - pie\n",
        "fig, ax = plt.subplots()\n",
        "ax.pie(x, colors=colors, radius=3, center=(4, 4),\n",
        "       wedgeprops={\"linewidth\": 1, \"edgecolor\": \"white\"}, frame=True)\n",
        "\n",
        "ax.set(xlim=(0, 8), xticks=np.arange(1, 8),\n",
        "       ylim=(0, 8), yticks=np.arange(1, 8))\n",
        "\n",
        "plt.show()"
      ],
      "metadata": {
        "id": "fdT99qoOoJ1c"
      },
      "execution_count": null,
      "outputs": []
    },
    {
      "cell_type": "code",
      "source": [
        "# make data\n",
        "np.random.seed(1)\n",
        "x = 4 + np.random.normal(0, 1.5, 200)\n",
        "\n",
        "# plot: - ecdf\n",
        "fig, ax = plt.subplots()\n",
        "ax.ecdf(x)\n",
        "plt.show()"
      ],
      "metadata": {
        "id": "IiIuHLy-nmoR"
      },
      "execution_count": null,
      "outputs": []
    }
  ]
}