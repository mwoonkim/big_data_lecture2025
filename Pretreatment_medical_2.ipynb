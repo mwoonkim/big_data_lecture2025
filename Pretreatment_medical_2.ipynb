{
  "nbformat": 4,
  "nbformat_minor": 0,
  "metadata": {
    "colab": {
      "provenance": [],
      "mount_file_id": "1xD3h_aNzTMIgg_blMxNTtV-sseOgB_FE",
      "authorship_tag": "ABX9TyPMLz1XAVszPFKw2ddVpLXq",
      "include_colab_link": true
    },
    "kernelspec": {
      "name": "python3",
      "display_name": "Python 3"
    },
    "language_info": {
      "name": "python"
    }
  },
  "cells": [
    {
      "cell_type": "markdown",
      "metadata": {
        "id": "view-in-github",
        "colab_type": "text"
      },
      "source": [
        "<a href=\"https://colab.research.google.com/github/mwoonkim/big_data_lecture2025/blob/main/Pretreatment_medical_2.ipynb\" target=\"_parent\"><img src=\"https://colab.research.google.com/assets/colab-badge.svg\" alt=\"Open In Colab\"/></a>"
      ]
    },
    {
      "cell_type": "code",
      "source": [
        "import pandas as pd\n",
        "import numpy as np\n",
        "import matplotlib.pyplot as plt\n",
        "import seaborn as sns"
      ],
      "metadata": {
        "id": "HaO46wcm77dm"
      },
      "execution_count": 1,
      "outputs": []
    },
    {
      "cell_type": "code",
      "source": [
        "df=pd.read_csv('/content/drive/MyDrive/Colab Notebooks/medical.csv')"
      ],
      "metadata": {
        "id": "pxLgbCbJ80k-"
      },
      "execution_count": 3,
      "outputs": []
    },
    {
      "cell_type": "code",
      "source": [
        "df.rename(columns = {'Hipertension' : 'Hypertension','Handcap':'Handicap'}, inplace = True)\n",
        "df=df[df.Age>=0]\n",
        "df=df[(df.Handicap==0)|(df.Handicap==1)]\n",
        "df['No-show']=df['No-show'].map({'Yes':1,'No':0})\n",
        "df['AppointmentDay']=pd.to_datetime(df['AppointmentDay'])\n",
        "df['ScheduledDay']=pd.to_datetime(df['ScheduledDay'])\n",
        "df['waiting_day']=df['AppointmentDay'].dt.dayofyear-df['ScheduledDay'].dt.dayofyear\n",
        "df=df[df.waiting_day>=0]\n",
        "df = df[ df.Age <= 110]\n",
        "no_show=df[df['No-show']==1]\n",
        "show=df[df['No-show']==0]"
      ],
      "metadata": {
        "id": "uvoRgR-_9sy5"
      },
      "execution_count": 4,
      "outputs": []
    },
    {
      "cell_type": "code",
      "source": [
        "df.describe()"
      ],
      "metadata": {
        "id": "GMDjIinUkkCF"
      },
      "execution_count": null,
      "outputs": []
    },
    {
      "cell_type": "code",
      "source": [
        "sns.countplot(x='No-show',data=df)"
      ],
      "metadata": {
        "id": "4YGGYs4eC741"
      },
      "execution_count": null,
      "outputs": []
    },
    {
      "cell_type": "code",
      "source": [
        "sns.countplot(x='Gender', hue='No-show', data=df)"
      ],
      "metadata": {
        "id": "kZ6JxFpzwpft"
      },
      "execution_count": null,
      "outputs": []
    },
    {
      "cell_type": "code",
      "source": [
        "sns.countplot(x='Scholarship', hue='No-show', data=df)"
      ],
      "metadata": {
        "id": "aP48kLEewpvM"
      },
      "execution_count": null,
      "outputs": []
    },
    {
      "cell_type": "code",
      "source": [
        "sns.countplot(x='Alcoholism', hue='No-show', data=df)"
      ],
      "metadata": {
        "id": "U9Yd54I5xftx"
      },
      "execution_count": null,
      "outputs": []
    },
    {
      "cell_type": "code",
      "source": [
        "sns.countplot(x='Hypertension', hue='No-show', data=df)"
      ],
      "metadata": {
        "id": "MNNgCwgdx5WL"
      },
      "execution_count": null,
      "outputs": []
    },
    {
      "cell_type": "code",
      "source": [
        "sns.countplot(x='Handicap', hue='No-show', data=df)"
      ],
      "metadata": {
        "id": "hwpAn92hyFEQ"
      },
      "execution_count": null,
      "outputs": []
    }
  ]
}