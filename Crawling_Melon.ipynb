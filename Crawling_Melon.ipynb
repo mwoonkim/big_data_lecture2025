{
  "nbformat": 4,
  "nbformat_minor": 0,
  "metadata": {
    "colab": {
      "provenance": [],
      "mount_file_id": "1CUuGujjUfruk7HW9_klIUQj9PUyidSEq",
      "authorship_tag": "ABX9TyMmQok6zn/wp8w4nQlS0Wfs",
      "include_colab_link": true
    },
    "kernelspec": {
      "name": "python3",
      "display_name": "Python 3"
    },
    "language_info": {
      "name": "python"
    }
  },
  "cells": [
    {
      "cell_type": "markdown",
      "metadata": {
        "id": "view-in-github",
        "colab_type": "text"
      },
      "source": [
        "<a href=\"https://colab.research.google.com/github/mwoonkim/big_data_lecture2025/blob/main/Crawling_Melon.ipynb\" target=\"_parent\"><img src=\"https://colab.research.google.com/assets/colab-badge.svg\" alt=\"Open In Colab\"/></a>"
      ]
    },
    {
      "cell_type": "code",
      "source": [
        "from urllib.request import urlopen\n",
        "import requests\n",
        "from bs4 import BeautifulSoup as bts"
      ],
      "metadata": {
        "id": "BpHRJnTqyLok"
      },
      "execution_count": null,
      "outputs": []
    },
    {
      "cell_type": "code",
      "source": [
        "headers = {'User-Agent': 'Mozilla/5.0 (Windows NT 10.0; Win64; x64) AppleWebKit/537.36 (KHTML, like Gecko) Chrome/138.0.0.0 Safari/537.36'}\n",
        "data = requests.get('https://www.melon.com/chart/', headers=headers)\n",
        "soup = bts(data.text, 'html.parser')"
      ],
      "metadata": {
        "id": "H8JMqp1AcfHP"
      },
      "execution_count": 94,
      "outputs": []
    },
    {
      "cell_type": "code",
      "source": [
        "rank = soup.select_one('#lst50 > td:nth-child(2) > div > span.rank')\n",
        "song = soup.select_one('#lst50 > td:nth-child(6) > div > div > div.ellipsis.rank01 > span > a ')\n",
        "singer = soup.select_one('#lst50 > td:nth-child(6) > div > div > div.ellipsis.rank02 > a ')\n",
        "\n",
        "print(rank.text, song.text, singer.text)"
      ],
      "metadata": {
        "id": "K8cBHiOMUtxi"
      },
      "execution_count": 95,
      "outputs": []
    },
    {
      "cell_type": "code",
      "source": [
        "top_50 = soup.select('#lst50 > td > div')"
      ],
      "metadata": {
        "id": "GiO-z1euU5ya"
      },
      "execution_count": 96,
      "outputs": []
    },
    {
      "cell_type": "code",
      "source": [
        "for tr in top_50 :\n",
        "    rank = tr.select_one('span.rank')\n",
        "\n",
        "    if rank is not None:\n",
        "        print(rank.text, end=\" \")\n",
        "\n",
        "    title = tr.select_one('div > div.ellipsis.rank01 > span > a')\n",
        "\n",
        "    if title is not None:\n",
        "        artist = tr.select_one('div.ellipsis.rank02 > a').text\n",
        "        print(artist,'-', title.text)"
      ],
      "metadata": {
        "id": "Y7nSb8tyTgSW"
      },
      "execution_count": 97,
      "outputs": []
    },
    {
      "cell_type": "code",
      "source": [
        "top_100 = soup.select('#lst100 > td > div')"
      ],
      "metadata": {
        "id": "8XTHCiF_WgaW"
      },
      "execution_count": 98,
      "outputs": []
    },
    {
      "cell_type": "code",
      "source": [
        "for tr in top_100 :\n",
        "    rank = tr.select_one('span.rank')\n",
        "\n",
        "    if rank is not None:\n",
        "        print(rank.text, end=\" \")\n",
        "\n",
        "    title = tr.select_one('div > div.ellipsis.rank01 > span > a')\n",
        "\n",
        "    if title is not None:\n",
        "        artist = tr.select_one('div.ellipsis.rank02 > a').text\n",
        "        print(artist,'-', title.text)"
      ],
      "metadata": {
        "id": "VvETxfMAWw5c"
      },
      "execution_count": 99,
      "outputs": []
    }
  ]
}