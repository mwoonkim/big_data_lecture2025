{
  "nbformat": 4,
  "nbformat_minor": 0,
  "metadata": {
    "colab": {
      "provenance": [],
      "mount_file_id": "1-_F9jqVA_eTQz3hIHKL6kw1yAIFYElft",
      "authorship_tag": "ABX9TyOMPw7YtDrqt4HYeKlkZ2Fc",
      "include_colab_link": true
    },
    "kernelspec": {
      "name": "python3",
      "display_name": "Python 3"
    },
    "language_info": {
      "name": "python"
    }
  },
  "cells": [
    {
      "cell_type": "markdown",
      "metadata": {
        "id": "view-in-github",
        "colab_type": "text"
      },
      "source": [
        "<a href=\"https://colab.research.google.com/github/mwoonkim/big_data_lecture2025/blob/main/K_Means_iris.ipynb\" target=\"_parent\"><img src=\"https://colab.research.google.com/assets/colab-badge.svg\" alt=\"Open In Colab\"/></a>"
      ]
    },
    {
      "cell_type": "code",
      "execution_count": 1,
      "metadata": {
        "id": "kahzpGv0-VQX"
      },
      "outputs": [],
      "source": [
        "from sklearn.cluster import KMeans\n",
        "from sklearn.preprocessing import StandardScaler\n",
        "import numpy as np\n",
        "import matplotlib.pyplot as plt\n",
        "from sklearn import datasets\n",
        "from sklearn.metrics import confusion_matrix\n",
        "from sklearn.metrics import accuracy_score"
      ]
    },
    {
      "cell_type": "code",
      "source": [
        "iris = datasets.load_iris()\n",
        "print(iris.feature_names)\n",
        "print(iris.target_names)"
      ],
      "metadata": {
        "id": "MdOSXvyF-mp1"
      },
      "execution_count": null,
      "outputs": []
    },
    {
      "cell_type": "code",
      "source": [
        "data = iris.data\n",
        "target = iris.target\n",
        "print(data)"
      ],
      "metadata": {
        "id": "_cKVoDjN-rLE"
      },
      "execution_count": null,
      "outputs": []
    },
    {
      "cell_type": "code",
      "source": [
        "print(target)"
      ],
      "metadata": {
        "id": "1SMbNRXR-yZN"
      },
      "execution_count": null,
      "outputs": []
    },
    {
      "cell_type": "code",
      "source": [
        "plt.figure(figsize=(8, 4))\n",
        "plt.boxplot([data[:,0], data[:,1], data[:,2], data[:,3]], labels=iris.feature_names)\n",
        "plt.title('Iris')\n",
        "plt.xlabel('Features')\n",
        "plt.ylabel('Length or Width (cm)')\n",
        "plt.show()"
      ],
      "metadata": {
        "id": "xK1Cbi1C-0ZS"
      },
      "execution_count": null,
      "outputs": []
    },
    {
      "cell_type": "code",
      "source": [
        "X = data[:, 0]\n",
        "Y = data[:, 1]\n",
        "plt.scatter(X, Y, c=target)\n",
        "plt.title('Iris')\n",
        "plt.xlabel(iris.feature_names[0])\n",
        "plt.ylabel(iris.feature_names[1])\n",
        "plt.show()"
      ],
      "metadata": {
        "id": "wV161FlJ-6kC"
      },
      "execution_count": null,
      "outputs": []
    },
    {
      "cell_type": "code",
      "source": [
        "scaler = StandardScaler()\n",
        "data_std = scaler.fit_transform(data)\n",
        "print(data_std)"
      ],
      "metadata": {
        "id": "_OVqXbEW-_Zc"
      },
      "execution_count": null,
      "outputs": []
    },
    {
      "cell_type": "code",
      "source": [
        "plt.figure(figsize=(5, 5))\n",
        "X = data_std[:, 0]\n",
        "Y = data_std[:, 1]\n",
        "plt.scatter(X, Y, c=target)\n",
        "plt.title('Iris (Standardization)')\n",
        "plt.xlabel(iris.feature_names[0])\n",
        "plt.ylabel(iris.feature_names[1])\n",
        "plt.show()"
      ],
      "metadata": {
        "id": "HwmBpWxX_DRG"
      },
      "execution_count": null,
      "outputs": []
    },
    {
      "cell_type": "code",
      "source": [
        "TWSS = {}\n",
        "\n",
        "for k in range(1, 11):\n",
        "  model = KMeans(n_clusters=k)\n",
        "  model.fit(data_std)\n",
        "  TWSS[k] = model.inertia_"
      ],
      "metadata": {
        "id": "PBBvf1dE_HwQ"
      },
      "execution_count": 9,
      "outputs": []
    },
    {
      "cell_type": "code",
      "source": [
        "plt.plot(list(TWSS.keys()), list(TWSS.values()), marker='o')\n",
        "plt.xlabel(\"Number of Clusters(K)\")\n",
        "plt.ylabel(\"TWSS\")\n",
        "plt.show()"
      ],
      "metadata": {
        "id": "M-rca4Re_Ne8"
      },
      "execution_count": null,
      "outputs": []
    },
    {
      "cell_type": "code",
      "source": [
        "K=3\n",
        "kmeans = KMeans(n_clusters=K)\n",
        "kmeans.fit(data_std)\n",
        "centers = kmeans.cluster_centers_\n",
        "labels = kmeans.labels_\n",
        "print(centers)\n",
        "print(labels)"
      ],
      "metadata": {
        "id": "eWTMOej2_STW"
      },
      "execution_count": null,
      "outputs": []
    },
    {
      "cell_type": "code",
      "source": [
        "plt.figure(figsize=(5, 5))\n",
        "X = data_std[:, 0]\n",
        "Y = data_std[:, 1]\n",
        "plt.scatter(X, Y, c=target)\n",
        "plt.title('Iris (Standardization)')\n",
        "plt.xlabel(iris.feature_names[0])\n",
        "plt.ylabel(iris.feature_names[1])"
      ],
      "metadata": {
        "id": "qn4x7_QC_XBn"
      },
      "execution_count": null,
      "outputs": []
    },
    {
      "cell_type": "code",
      "source": [
        "X = centers[:, 0]\n",
        "Y = centers[:, 1]\n",
        "plt.scatter(X, Y, c='red', s=200, alpha=0.5);\n",
        "plt.show()"
      ],
      "metadata": {
        "id": "FSDM8VqE_bJA"
      },
      "execution_count": null,
      "outputs": []
    },
    {
      "cell_type": "code",
      "source": [
        "print(target)"
      ],
      "metadata": {
        "id": "Y2BKD03c_gN8"
      },
      "execution_count": null,
      "outputs": []
    },
    {
      "cell_type": "code",
      "source": [
        "print(labels)"
      ],
      "metadata": {
        "id": "WNfHpmPy_i8D"
      },
      "execution_count": null,
      "outputs": []
    },
    {
      "cell_type": "code",
      "source": [
        "confusion_matrix(target, labels)"
      ],
      "metadata": {
        "id": "l-nbwSI6_nJJ"
      },
      "execution_count": null,
      "outputs": []
    },
    {
      "cell_type": "code",
      "source": [
        "for i in range(len(labels)):\n",
        "  if labels[i] == 1:\n",
        "    labels[i] = 0\n",
        "  elif labels[i] == 0:\n",
        "    labels[i] = 1"
      ],
      "metadata": {
        "id": "wP7Gcauu_ra8"
      },
      "execution_count": 17,
      "outputs": []
    },
    {
      "cell_type": "code",
      "source": [
        "print(labels)"
      ],
      "metadata": {
        "id": "_ecQ1yaH_tke"
      },
      "execution_count": null,
      "outputs": []
    },
    {
      "cell_type": "code",
      "source": [
        "confusion_matrix(target, labels)"
      ],
      "metadata": {
        "id": "Qm7-fcyE_wat"
      },
      "execution_count": null,
      "outputs": []
    },
    {
      "cell_type": "code",
      "source": [
        "print(accuracy_score(target, labels, normalize=False))"
      ],
      "metadata": {
        "id": "wOApvTSJ_zcL"
      },
      "execution_count": null,
      "outputs": []
    },
    {
      "cell_type": "code",
      "source": [
        "print(accuracy_score(target, labels))"
      ],
      "metadata": {
        "id": "573etJhJ_3uZ"
      },
      "execution_count": null,
      "outputs": []
    }
  ]
}