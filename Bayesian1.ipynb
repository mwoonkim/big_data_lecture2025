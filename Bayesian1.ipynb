{
  "nbformat": 4,
  "nbformat_minor": 0,
  "metadata": {
    "colab": {
      "provenance": [],
      "authorship_tag": "ABX9TyO/IHeVbyTDNKSdcfoxV0uk",
      "include_colab_link": true
    },
    "kernelspec": {
      "name": "python3",
      "display_name": "Python 3"
    },
    "language_info": {
      "name": "python"
    }
  },
  "cells": [
    {
      "cell_type": "markdown",
      "metadata": {
        "id": "view-in-github",
        "colab_type": "text"
      },
      "source": [
        "<a href=\"https://colab.research.google.com/github/mwoonkim/big_data_lecture2025/blob/main/Bayesian1.ipynb\" target=\"_parent\"><img src=\"https://colab.research.google.com/assets/colab-badge.svg\" alt=\"Open In Colab\"/></a>"
      ]
    },
    {
      "cell_type": "code",
      "metadata": {
        "id": "0f58f46c"
      },
      "source": [
        "!pip install pgmpy"
      ],
      "execution_count": null,
      "outputs": []
    },
    {
      "cell_type": "code",
      "source": [
        "import numpy as np"
      ],
      "metadata": {
        "id": "jPdKbsxqbOaH"
      },
      "execution_count": 4,
      "outputs": []
    },
    {
      "cell_type": "code",
      "execution_count": 3,
      "metadata": {
        "id": "K0NlSURk5c7Y"
      },
      "outputs": [],
      "source": [
        "from pgmpy.factors.discrete import JointProbabilityDistribution as jpd"
      ]
    },
    {
      "cell_type": "code",
      "source": [
        "px = jpd(['X'], [2], np.array([12,8])/20)\n",
        "print(px)"
      ],
      "metadata": {
        "id": "6Nab18DAae3o"
      },
      "execution_count": null,
      "outputs": []
    },
    {
      "cell_type": "code",
      "source": [
        "py = jpd(['Y'],[2],np.array([10,10])/20)\n",
        "print(py)"
      ],
      "metadata": {
        "id": "YWmO2kjgbsww"
      },
      "execution_count": null,
      "outputs": []
    },
    {
      "cell_type": "code",
      "source": [
        "pxy = jpd(['X','Y'], [2,2], np.array([6,6,4,4])/20)\n",
        "print(pxy)"
      ],
      "metadata": {
        "id": "wCf5sZ8cetw3"
      },
      "execution_count": null,
      "outputs": []
    },
    {
      "cell_type": "code",
      "source": [
        "pmx = pxy.marginal_distribution(['X'], inplace=False)\n",
        "print(pmx)"
      ],
      "metadata": {
        "id": "LPAcJ77bf6AX"
      },
      "execution_count": null,
      "outputs": []
    }
  ]
}