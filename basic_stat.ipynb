{
  "nbformat": 4,
  "nbformat_minor": 0,
  "metadata": {
    "colab": {
      "provenance": [],
      "mount_file_id": "1RcxV4tf4tUWCNfYI_kQoKlc-DKoXcKg_",
      "authorship_tag": "ABX9TyPZN05m4N+HX7NPLBJTyAA8",
      "include_colab_link": true
    },
    "kernelspec": {
      "name": "python3",
      "display_name": "Python 3"
    },
    "language_info": {
      "name": "python"
    }
  },
  "cells": [
    {
      "cell_type": "markdown",
      "metadata": {
        "id": "view-in-github",
        "colab_type": "text"
      },
      "source": [
        "<a href=\"https://colab.research.google.com/github/mwoonkim/big_data_lecture2025/blob/main/basic_stat.ipynb\" target=\"_parent\"><img src=\"https://colab.research.google.com/assets/colab-badge.svg\" alt=\"Open In Colab\"/></a>"
      ]
    },
    {
      "cell_type": "code",
      "source": [
        "import numpy as np\n",
        "import scipy as sp\n",
        "from scipy import stats\n",
        "import pandas as pd\n",
        "import sklearn\n",
        "import seaborn as sns\n",
        "import matplotlib.pyplot as plt\n",
        "from sklearn.datasets import load_iris"
      ],
      "metadata": {
        "id": "TVLP-fgTIWte"
      },
      "execution_count": 4,
      "outputs": []
    },
    {
      "cell_type": "code",
      "source": [
        "x=[1,2,10,43,22,87,52,11,8,36]\n",
        "print(len(x))\n",
        "print(np.mean(x))\n",
        "print(np.var(x))\n",
        "print(np.std(x))\n",
        "print(np.max(x))\n",
        "print(np.min(x))\n",
        "print(np.median(x))\n",
        "print(np.percentile(x,25))\n",
        "print(np.percentile(x,50))\n",
        "print(np.percentile(x,75))\n"
      ],
      "metadata": {
        "id": "EfH5hf3eJyIw"
      },
      "execution_count": null,
      "outputs": []
    },
    {
      "cell_type": "code",
      "source": [
        "a=[3,5,8,11,13]\n",
        "b=[1,2,3,4,5]\n",
        "np.corrcoef(a,b)\n"
      ],
      "metadata": {
        "id": "PvRSNPYqKpBJ"
      },
      "execution_count": null,
      "outputs": []
    },
    {
      "cell_type": "code",
      "source": [
        "print(stats.describe(x))\n",
        "print()\n",
        "s=pd.Series(x)\n",
        "print(s.describe())"
      ],
      "metadata": {
        "id": "XDtDAIBaK3s4"
      },
      "execution_count": null,
      "outputs": []
    },
    {
      "cell_type": "code",
      "source": [
        "iris=load_iris()\n",
        "print(iris.keys())\n",
        "iris['data'][:10]\n",
        "iris['target'][-10:]\n",
        "iris['DESCR']\n",
        "iris['feature_names']\n"
      ],
      "metadata": {
        "id": "i6UCE0swLI_Z"
      },
      "execution_count": null,
      "outputs": []
    },
    {
      "cell_type": "code",
      "source": [
        "iris_df=pd.DataFrame(iris.data, columns=iris.feature_names)\n",
        "iris_df['species']=iris.target\n",
        "display(iris_df.head())\n",
        "cor_matrix=iris_df.corr(numeric_only=True)\n",
        "display(cor_matrix)"
      ],
      "metadata": {
        "id": "G7FIDFxtLhU6"
      },
      "execution_count": null,
      "outputs": []
    },
    {
      "cell_type": "code",
      "source": [
        "ax=sns.heatmap(cor_matrix,annot=True)\n",
        "ylim=ax.get_ylim()\n",
        "ax.set_ylim(ylim[0] +0.5, ylim[1]+0.5)\n",
        "plt.show()"
      ],
      "metadata": {
        "id": "BsUU_erdMRfP"
      },
      "execution_count": null,
      "outputs": []
    }
  ]
}