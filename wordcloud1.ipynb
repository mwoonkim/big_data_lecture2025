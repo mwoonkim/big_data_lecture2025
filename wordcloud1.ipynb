{
  "nbformat": 4,
  "nbformat_minor": 0,
  "metadata": {
    "colab": {
      "provenance": [],
      "gpuType": "T4",
      "mount_file_id": "1EAzYW6wCgEt4f2MJXIECXe7mbXLEF1FY",
      "authorship_tag": "ABX9TyPDnD6mTmcE02nsXMniOyVO",
      "include_colab_link": true
    },
    "kernelspec": {
      "name": "python3",
      "display_name": "Python 3"
    },
    "language_info": {
      "name": "python"
    }
  },
  "cells": [
    {
      "cell_type": "markdown",
      "metadata": {
        "id": "view-in-github",
        "colab_type": "text"
      },
      "source": [
        "<a href=\"https://colab.research.google.com/github/mwoonkim/big_data_lecture2025/blob/main/wordcloud1.ipynb\" target=\"_parent\"><img src=\"https://colab.research.google.com/assets/colab-badge.svg\" alt=\"Open In Colab\"/></a>"
      ]
    },
    {
      "cell_type": "code",
      "execution_count": null,
      "metadata": {
        "id": "FgBtnb-XFSAS"
      },
      "outputs": [],
      "source": [
        "!pip install konlpy\n",
        "from konlpy.tag import Okt\n",
        "import collections\n",
        "import matplotlib.pyplot as plt\n",
        "import pandas as pd\n",
        "from wordcloud import WordCloud\n",
        "okt=Okt()"
      ]
    },
    {
      "cell_type": "code",
      "source": [
        "mdf = pd.read_table('/content/drive/MyDrive/Colab Notebooks/ratings_train.txt')\n",
        "mdf"
      ],
      "metadata": {
        "id": "ToEkA0NhGIBC"
      },
      "execution_count": null,
      "outputs": []
    },
    {
      "cell_type": "code",
      "source": [
        "print(mdf['id'].nunique())\n",
        "print(mdf.isnull().sum())"
      ],
      "metadata": {
        "id": "QWN-ThDbGl7Z"
      },
      "execution_count": null,
      "outputs": []
    },
    {
      "cell_type": "code",
      "source": [
        "mdf = mdf.dropna(how='any')\n",
        "print(mdf.isnull().values.any())"
      ],
      "metadata": {
        "id": "M1I6nfDqG11L"
      },
      "execution_count": null,
      "outputs": []
    },
    {
      "cell_type": "code",
      "source": [
        "mdf['document'] = mdf['document'].str.replace(\"[^ㄱ~ㅎㅏ~ㅣ가~힣]\",\"\")\n",
        "mdf"
      ],
      "metadata": {
        "id": "6ekdkVgwHNrN"
      },
      "execution_count": null,
      "outputs": []
    },
    {
      "cell_type": "code",
      "source": [
        "temp_list=[]\n",
        "for sentence in mdf['document']:\n",
        "  s_list=okt.pos(sentence)\n",
        "  for word, tag in s_list:\n",
        "    if tag in ['Noun','Adjective']:\n",
        "      temp_list.append(word)\n",
        "counts=collections.Counter(temp_list)\n",
        "tag=counts.most_common(50)\n",
        "tag"
      ],
      "metadata": {
        "id": "LZDUkjldH2JU"
      },
      "execution_count": null,
      "outputs": []
    },
    {
      "cell_type": "code",
      "source": [
        "import matplotlib.font_manager as fm\n",
        "font_list=fm.findSystemFonts(fontpaths=None, fontext='ttf')\n",
        "sorted(font_list)"
      ],
      "metadata": {
        "id": "k4KLGLCiMm_F"
      },
      "execution_count": null,
      "outputs": []
    },
    {
      "cell_type": "code",
      "source": [
        "!sudo apt-get install -y fonts-nanum\n",
        "!sudo fc-cache -fv\n",
        "!rm ~/.cache/matplotlib -rf"
      ],
      "metadata": {
        "id": "YA2csAXXNU9A"
      },
      "execution_count": null,
      "outputs": []
    },
    {
      "cell_type": "code",
      "source": [
        "font_list=fm.findSystemFonts(fontpaths=None, fontext='ttf')\n",
        "sorted(font_list)"
      ],
      "metadata": {
        "id": "mxmbeekVNqq_"
      },
      "execution_count": null,
      "outputs": []
    },
    {
      "cell_type": "code",
      "source": [
        "fontpath='/usr/share/fonts/truetype/nanum/NanumGothic.ttf'\n",
        "wc = WordCloud(font_path=fontpath,background_color='skyblue', max_font_size=60)\n",
        "cloud=wc.generate_from_frequencies(dict(tag))\n",
        "plt.figure(figsize=(10,8))\n",
        "plt.imshow(cloud)"
      ],
      "metadata": {
        "id": "52oK1OGWJrdO"
      },
      "execution_count": null,
      "outputs": []
    },
    {
      "cell_type": "code",
      "source": [
        "list=[]\n",
        "stopword=['점','정말','왜','말','그','없다','정도','걸','뭐','이건','영화','완전','좀','있는','거','나','이','볼','입니다','것','이런','더','수','때']\n",
        "for sentence in mdf['document']:\n",
        "  s_list=okt.pos(sentence)\n",
        "for word,tag in s_list:\n",
        "  if word not in stopword:\n",
        "    if tag in ['Noun','Adjective']:\n",
        "      temp_list.append(word)\n",
        "counts=collections.Counter(temp_list)\n",
        "tag=counts.most_common(50)\n",
        "tag"
      ],
      "metadata": {
        "id": "S8GerbKYO4g-"
      },
      "execution_count": null,
      "outputs": []
    },
    {
      "cell_type": "code",
      "source": [
        "cloud=wc.generate_from_frequencies(dict(tag))\n",
        "plt.figure(figsize=(10,8))\n",
        "plt.imshow(cloud)"
      ],
      "metadata": {
        "id": "8c47EbK0SZHp"
      },
      "execution_count": null,
      "outputs": []
    }
  ]
}