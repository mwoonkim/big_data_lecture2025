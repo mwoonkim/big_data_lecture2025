{
  "nbformat": 4,
  "nbformat_minor": 0,
  "metadata": {
    "colab": {
      "provenance": [],
      "authorship_tag": "ABX9TyPePrPklFJwltZKVChP0i9F",
      "include_colab_link": true
    },
    "kernelspec": {
      "name": "python3",
      "display_name": "Python 3"
    },
    "language_info": {
      "name": "python"
    }
  },
  "cells": [
    {
      "cell_type": "markdown",
      "metadata": {
        "id": "view-in-github",
        "colab_type": "text"
      },
      "source": [
        "<a href=\"https://colab.research.google.com/github/mwoonkim/big_data_lecture2025/blob/main/z_test02.ipynb\" target=\"_parent\"><img src=\"https://colab.research.google.com/assets/colab-badge.svg\" alt=\"Open In Colab\"/></a>"
      ]
    },
    {
      "cell_type": "code",
      "execution_count": 2,
      "metadata": {
        "id": "9BiY44iz8jf-"
      },
      "outputs": [],
      "source": [
        "from scipy import stats\n",
        "import numpy as np\n",
        "import matplotlib.pyplot as plt"
      ]
    },
    {
      "cell_type": "code",
      "source": [
        "mu0 = 2\n",
        "sigma = 0.25\n",
        "n = 35\n",
        "xbar = 2.1\n",
        "z = (xbar-mu0)/(sigma/np.sqrt(n))\n",
        "alpha = 0.05\n",
        "p_value = 1-stats.norm.cdf(z)\n",
        "print(p_value)"
      ],
      "metadata": {
        "id": "KOyW3BGj85IC"
      },
      "execution_count": null,
      "outputs": []
    }
  ]
}