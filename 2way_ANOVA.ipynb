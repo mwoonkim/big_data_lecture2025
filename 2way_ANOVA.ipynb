{
  "nbformat": 4,
  "nbformat_minor": 0,
  "metadata": {
    "colab": {
      "provenance": [],
      "authorship_tag": "ABX9TyPG0ZKJMe7ouQ+jVq86Wxm1",
      "include_colab_link": true
    },
    "kernelspec": {
      "name": "python3",
      "display_name": "Python 3"
    },
    "language_info": {
      "name": "python"
    }
  },
  "cells": [
    {
      "cell_type": "markdown",
      "metadata": {
        "id": "view-in-github",
        "colab_type": "text"
      },
      "source": [
        "<a href=\"https://colab.research.google.com/github/mwoonkim/big_data_lecture2025/blob/main/2way_ANOVA.ipynb\" target=\"_parent\"><img src=\"https://colab.research.google.com/assets/colab-badge.svg\" alt=\"Open In Colab\"/></a>"
      ]
    },
    {
      "cell_type": "code",
      "execution_count": 1,
      "metadata": {
        "id": "MCfiMj6XYuci"
      },
      "outputs": [],
      "source": [
        "from scipy import stats\n",
        "import matplotlib.pyplot as plt\n",
        "import numpy as np\n",
        "from statsmodels.formula.api import ols\n",
        "from statsmodels.stats.anova import anova_lm\n",
        "import pandas as pd"
      ]
    },
    {
      "cell_type": "code",
      "source": [
        "age = np.random.randint(20, 50, size=100)\n",
        "time = np.random.randint(0, 2, size=100)\n",
        "buy = np.random.randint(1, 16, size=100)\n",
        "\n",
        "sample = pd.DataFrame({'age':age, 'time':time, 'buy':buy})\n",
        "print(sample.info())\n",
        "\n",
        "age20 = sample[sample['age'] < 30]\n",
        "age30 = sample[np.logical_and(sample['age'] > 30, sample['age'] < 40)]\n",
        "age40 = sample[sample['age'] > 40]\n",
        "\n",
        "\n",
        "time_am = sample[sample['time'] == 0]\n",
        "time_pm = sample[sample['time'] == 1]"
      ],
      "metadata": {
        "id": "Nb4Da1OHb-6y"
      },
      "execution_count": null,
      "outputs": []
    },
    {
      "cell_type": "code",
      "source": [
        "statistic, pvalue = stats.levene(age20.buy, age30.buy, age40.buy)\n",
        "print('동질성 검정통계량 = %.3f, pvalue = %.5f'%(statistic, pvalue))"
      ],
      "metadata": {
        "id": "HIlq8HTuc0Tn"
      },
      "execution_count": null,
      "outputs": []
    },
    {
      "cell_type": "code",
      "source": [
        "plot_data = [age20.buy, age30.buy, age40.buy]\n",
        "ax = plt.boxplot(plot_data)\n",
        "plt.show()"
      ],
      "metadata": {
        "id": "9C8MP5F7c4eP"
      },
      "execution_count": null,
      "outputs": []
    },
    {
      "cell_type": "code",
      "source": [
        "statistic, pvalue = stats.levene(time_am.buy, time_pm.buy)\n",
        "print('동질성 검정통계량 = %.3f, pvalue = %.5f'%(statistic, pvalue))"
      ],
      "metadata": {
        "id": "WkMpZgBKc7Wj"
      },
      "execution_count": null,
      "outputs": []
    },
    {
      "cell_type": "code",
      "source": [
        "plot_data = [time_am.buy, time_pm.buy]\n",
        "ax = plt.boxplot(plot_data)\n",
        "plt.show()"
      ],
      "metadata": {
        "id": "1tC8qiOFc-JM"
      },
      "execution_count": null,
      "outputs": []
    },
    {
      "cell_type": "code",
      "source": [
        "lm = ols(formula = 'buy ~ age + time', data=sample).fit()\n",
        "print(anova_lm(lm))"
      ],
      "metadata": {
        "id": "mSPe0p40dAqL"
      },
      "execution_count": null,
      "outputs": []
    },
    {
      "cell_type": "code",
      "source": [
        "print('20대 평균 구매비용 =', age20['buy'].mean())\n",
        "print('30대 평균 구매비용 =', age30['buy'].mean())\n",
        "print('40대 평균 구매비용 =', age40['buy'].mean())"
      ],
      "metadata": {
        "id": "FlEE94vQdDIQ"
      },
      "execution_count": null,
      "outputs": []
    },
    {
      "cell_type": "code",
      "source": [
        "print('오전 평균 구매비용 =', time_am['buy'].mean())\n",
        "print('오후 평균 구매비용 =', time_pm['buy'].mean())"
      ],
      "metadata": {
        "id": "UTW1hurndF4B"
      },
      "execution_count": null,
      "outputs": []
    }
  ]
}