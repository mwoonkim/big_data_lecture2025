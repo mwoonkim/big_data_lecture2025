{
  "nbformat": 4,
  "nbformat_minor": 0,
  "metadata": {
    "colab": {
      "provenance": [],
      "mount_file_id": "1fL9_Q_f2RBUrqIaR0JsskrycMVHynYiu",
      "authorship_tag": "ABX9TyMmvbcXA748b3RAIGamKaUo",
      "include_colab_link": true
    },
    "kernelspec": {
      "name": "python3",
      "display_name": "Python 3"
    },
    "language_info": {
      "name": "python"
    }
  },
  "cells": [
    {
      "cell_type": "markdown",
      "metadata": {
        "id": "view-in-github",
        "colab_type": "text"
      },
      "source": [
        "<a href=\"https://colab.research.google.com/github/mwoonkim/big_data_lecture2025/blob/main/stat_03_matplotlib.ipynb\" target=\"_parent\"><img src=\"https://colab.research.google.com/assets/colab-badge.svg\" alt=\"Open In Colab\"/></a>"
      ]
    },
    {
      "cell_type": "code",
      "execution_count": null,
      "metadata": {
        "id": "P8cePfl2K3LY"
      },
      "outputs": [],
      "source": [
        "import pandas as pd\n",
        "import matplotlib.pyplot as plt\n",
        "from sklearn.datasets import load_iris\n",
        "iris = load_iris()\n",
        "df=pd.DataFrame(data=iris.data, columns=iris.feature_names)\n",
        "df['species']=iris.target\n",
        "df['species']=df['species'].map({0:\"setosa\", 1:\"vesicolor\", 2:\"virginica\"})\n",
        "print(df)"
      ]
    },
    {
      "cell_type": "code",
      "source": [
        "plt.plot(df['sepal length (cm)'], \"r--\")"
      ],
      "metadata": {
        "id": "dCxsapsSTpmz"
      },
      "execution_count": null,
      "outputs": []
    },
    {
      "cell_type": "code",
      "source": [
        "df.plot(kind=\"scatter\", x='sepal length (cm)', y='petal length (cm)')\n",
        "plt.grid()"
      ],
      "metadata": {
        "id": "o_koXBGmUPhd"
      },
      "execution_count": null,
      "outputs": []
    },
    {
      "cell_type": "code",
      "source": [
        "import seaborn as sns\n",
        "sns.FacetGrid(df, hue=\"species\", height=6).map(plt.scatter, 'sepal length (cm)','petal length (cm)').add_legend()"
      ],
      "metadata": {
        "id": "PGiwrOohU-Oa"
      },
      "execution_count": null,
      "outputs": []
    }
  ]
}