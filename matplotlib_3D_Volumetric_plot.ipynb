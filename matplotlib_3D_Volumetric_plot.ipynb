{
  "nbformat": 4,
  "nbformat_minor": 0,
  "metadata": {
    "colab": {
      "provenance": [],
      "mount_file_id": "1y7_Qb0iik_yJ4WsNmm-TrtsBeno3huQZ",
      "authorship_tag": "ABX9TyNMEy6EnK9oybSDCikhJXES",
      "include_colab_link": true
    },
    "kernelspec": {
      "name": "python3",
      "display_name": "Python 3"
    },
    "language_info": {
      "name": "python"
    }
  },
  "cells": [
    {
      "cell_type": "markdown",
      "metadata": {
        "id": "view-in-github",
        "colab_type": "text"
      },
      "source": [
        "<a href=\"https://colab.research.google.com/github/mwoonkim/big_data_lecture2025/blob/main/matplotlib_3D_Volumetric_plot.ipynb\" target=\"_parent\"><img src=\"https://colab.research.google.com/assets/colab-badge.svg\" alt=\"Open In Colab\"/></a>"
      ]
    },
    {
      "cell_type": "code",
      "execution_count": 1,
      "metadata": {
        "id": "yQPPkscgrvRy"
      },
      "outputs": [],
      "source": [
        "import matplotlib.pyplot as plt\n",
        "import numpy as np\n",
        "\n",
        "plt.style.use('_mpl-gallery')"
      ]
    },
    {
      "cell_type": "code",
      "source": [
        "# Make data\n",
        "x = [1, 1, 2, 2]\n",
        "y = [1, 2, 1, 2]\n",
        "z = [0, 0, 0, 0]\n",
        "dx = np.ones_like(x)*0.5\n",
        "dy = np.ones_like(x)*0.5\n",
        "dz = [2, 3, 1, 4]\n",
        "\n",
        "# Plot - 3D Bar\n",
        "fig, ax = plt.subplots(subplot_kw={\"projection\": \"3d\"})\n",
        "ax.bar3d(x, y, z, dx, dy, dz)\n",
        "\n",
        "ax.set(xticklabels=[],\n",
        "       yticklabels=[],\n",
        "       zticklabels=[])\n",
        "\n",
        "plt.show()"
      ],
      "metadata": {
        "id": "-tWn9_dLtJts"
      },
      "execution_count": null,
      "outputs": []
    },
    {
      "cell_type": "code",
      "source": [
        "# Make data for a double helix\n",
        "n = 50\n",
        "theta = np.linspace(0, 2*np.pi, n)\n",
        "x1 = np.cos(theta)\n",
        "y1 = np.sin(theta)\n",
        "z1 = np.linspace(0, 1, n)\n",
        "x2 = np.cos(theta + np.pi)\n",
        "y2 = np.sin(theta + np.pi)\n",
        "z2 = z1\n",
        "\n",
        "# Plot - 3D Fill Between\n",
        "fig, ax = plt.subplots(subplot_kw={\"projection\": \"3d\"})\n",
        "ax.fill_between(x1, y1, z1, x2, y2, z2, alpha=0.5)\n",
        "ax.plot(x1, y1, z1, linewidth=2, color='C0')\n",
        "ax.plot(x2, y2, z2, linewidth=2, color='C0')\n",
        "\n",
        "ax.set(xticklabels=[],\n",
        "       yticklabels=[],\n",
        "       zticklabels=[])\n",
        "\n",
        "plt.show()"
      ],
      "metadata": {
        "id": "UajyMnOjtQu5"
      },
      "execution_count": null,
      "outputs": []
    },
    {
      "cell_type": "code",
      "source": [
        "# Make data\n",
        "n = 100\n",
        "xs = np.linspace(0, 1, n)\n",
        "ys = np.sin(xs * 6 * np.pi)\n",
        "zs = np.cos(xs * 6 * np.pi)\n",
        "\n",
        "# Plot - Plot3D\n",
        "fig, ax = plt.subplots(subplot_kw={\"projection\": \"3d\"})\n",
        "ax.plot(xs, ys, zs)\n",
        "\n",
        "ax.set(xticklabels=[],\n",
        "       yticklabels=[],\n",
        "       zticklabels=[])\n",
        "\n",
        "plt.show()"
      ],
      "metadata": {
        "id": "dhrIo5-OtYgq"
      },
      "execution_count": null,
      "outputs": []
    },
    {
      "cell_type": "code",
      "source": [
        "# Make data\n",
        "n = 4\n",
        "x = np.linspace(-1, 1, n)\n",
        "y = np.linspace(-1, 1, n)\n",
        "z = np.linspace(-1, 1, n)\n",
        "X, Y, Z = np.meshgrid(x, y, z)\n",
        "U = (X + Y)/5\n",
        "V = (Y - X)/5\n",
        "W = Z*0\n",
        "\n",
        "\n",
        "# Plot - Quiver 3D\n",
        "fig, ax = plt.subplots(subplot_kw={\"projection\": \"3d\"})\n",
        "ax.quiver(X, Y, Z, U, V, W)\n",
        "\n",
        "ax.set(xticklabels=[],\n",
        "       yticklabels=[],\n",
        "       zticklabels=[])\n",
        "\n",
        "plt.show()"
      ],
      "metadata": {
        "id": "HhLtB-cNtho9"
      },
      "execution_count": null,
      "outputs": []
    },
    {
      "cell_type": "code",
      "source": [
        "# Make data\n",
        "np.random.seed(19680801)\n",
        "n = 100\n",
        "rng = np.random.default_rng()\n",
        "xs = rng.uniform(23, 32, n)\n",
        "ys = rng.uniform(0, 100, n)\n",
        "zs = rng.uniform(-50, -25, n)\n",
        "\n",
        "# Plot - 3D Scatter\n",
        "fig, ax = plt.subplots(subplot_kw={\"projection\": \"3d\"})\n",
        "ax.scatter(xs, ys, zs)\n",
        "\n",
        "ax.set(xticklabels=[],\n",
        "       yticklabels=[],\n",
        "       zticklabels=[])\n",
        "\n",
        "plt.show()"
      ],
      "metadata": {
        "id": "wtetVkHrsVXG"
      },
      "execution_count": null,
      "outputs": []
    },
    {
      "cell_type": "code",
      "source": [
        "# Make data\n",
        "n = 20\n",
        "x = np.sin(np.linspace(0, 2*np.pi, n))\n",
        "y = np.cos(np.linspace(0, 2*np.pi, n))\n",
        "z = np.linspace(0, 1, n)\n",
        "\n",
        "# Plot - 3D Stem\n",
        "fig, ax = plt.subplots(subplot_kw={\"projection\": \"3d\"})\n",
        "ax.stem(x, y, z)\n",
        "\n",
        "ax.set(xticklabels=[],\n",
        "       yticklabels=[],\n",
        "       zticklabels=[])\n",
        "\n",
        "plt.show()"
      ],
      "metadata": {
        "id": "7CBtdWGSsbw9"
      },
      "execution_count": null,
      "outputs": []
    },
    {
      "cell_type": "code",
      "source": [
        "from matplotlib import cm\n",
        "\n",
        "plt.style.use('_mpl-gallery')\n",
        "\n",
        "# Make data\n",
        "X = np.arange(-5, 5, 0.25)\n",
        "Y = np.arange(-5, 5, 0.25)\n",
        "X, Y = np.meshgrid(X, Y)\n",
        "R = np.sqrt(X**2 + Y**2)\n",
        "Z = np.sin(R)\n",
        "\n",
        "# Plot the surface 3D\n",
        "fig, ax = plt.subplots(subplot_kw={\"projection\": \"3d\"})\n",
        "ax.plot_surface(X, Y, Z, vmin=Z.min() * 2, cmap=cm.Blues)\n",
        "\n",
        "ax.set(xticklabels=[],\n",
        "       yticklabels=[],\n",
        "       zticklabels=[])\n",
        "\n",
        "plt.show()"
      ],
      "metadata": {
        "id": "CXXTMW-esjRI"
      },
      "execution_count": null,
      "outputs": []
    },
    {
      "cell_type": "code",
      "source": [
        "from matplotlib import cm\n",
        "\n",
        "plt.style.use('_mpl-gallery')\n",
        "\n",
        "n_radii = 8\n",
        "n_angles = 36\n",
        "\n",
        "# Make radii and angles spaces\n",
        "radii = np.linspace(0.125, 1.0, n_radii)\n",
        "angles = np.linspace(0, 2*np.pi, n_angles, endpoint=False)[..., np.newaxis]\n",
        "\n",
        "# Convert polar (radii, angles) coords to cartesian (x, y) coords.\n",
        "x = np.append(0, (radii*np.cos(angles)).flatten())\n",
        "y = np.append(0, (radii*np.sin(angles)).flatten())\n",
        "z = np.sin(-x*y)\n",
        "\n",
        "# Plot - tri surface 3D\n",
        "fig, ax = plt.subplots(subplot_kw={'projection': '3d'})\n",
        "ax.plot_trisurf(x, y, z, vmin=z.min() * 2, cmap=cm.Blues)\n",
        "\n",
        "ax.set(xticklabels=[],\n",
        "       yticklabels=[],\n",
        "       zticklabels=[])\n",
        "\n",
        "plt.show()"
      ],
      "metadata": {
        "id": "OcdZMkcTsuIS"
      },
      "execution_count": null,
      "outputs": []
    },
    {
      "cell_type": "code",
      "source": [
        "# Prepare some coordinates\n",
        "x, y, z = np.indices((8, 8, 8))\n",
        "\n",
        "# Draw cuboids in the top left and bottom right corners\n",
        "cube1 = (x < 3) & (y < 3) & (z < 3)\n",
        "cube2 = (x >= 5) & (y >= 5) & (z >= 5)\n",
        "\n",
        "# Combine the objects into a single boolean array\n",
        "voxelarray = cube1 | cube2\n",
        "\n",
        "# Plot - Voxels Simple\n",
        "fig, ax = plt.subplots(subplot_kw={\"projection\": \"3d\"})\n",
        "ax.voxels(voxelarray, edgecolor='k')\n",
        "\n",
        "ax.set(xticklabels=[],\n",
        "       yticklabels=[],\n",
        "       zticklabels=[])\n",
        "\n",
        "plt.show()"
      ],
      "metadata": {
        "id": "pBpkF2qFs8Js"
      },
      "execution_count": null,
      "outputs": []
    },
    {
      "cell_type": "code",
      "source": [
        "from mpl_toolkits.mplot3d import axes3d\n",
        "\n",
        "plt.style.use('_mpl-gallery')\n",
        "\n",
        "# Make data\n",
        "X, Y, Z = axes3d.get_test_data(0.05)\n",
        "\n",
        "# Plot - Wire3D Simple\n",
        "fig, ax = plt.subplots(subplot_kw={\"projection\": \"3d\"})\n",
        "ax.plot_wireframe(X, Y, Z, rstride=10, cstride=10)\n",
        "\n",
        "ax.set(xticklabels=[],\n",
        "       yticklabels=[],\n",
        "       zticklabels=[])\n",
        "\n",
        "plt.show()"
      ],
      "metadata": {
        "id": "vkKITDvWt5vr"
      },
      "execution_count": null,
      "outputs": []
    }
  ]
}