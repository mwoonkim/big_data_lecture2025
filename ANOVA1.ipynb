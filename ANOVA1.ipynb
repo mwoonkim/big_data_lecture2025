{
  "nbformat": 4,
  "nbformat_minor": 0,
  "metadata": {
    "colab": {
      "provenance": [],
      "mount_file_id": "1r5uHpEioLYx6JWKTYoEb6YkN7ycK-Nmc",
      "authorship_tag": "ABX9TyPtlJwukrEcljr0wcI6XoJy",
      "include_colab_link": true
    },
    "kernelspec": {
      "name": "python3",
      "display_name": "Python 3"
    },
    "language_info": {
      "name": "python"
    }
  },
  "cells": [
    {
      "cell_type": "markdown",
      "metadata": {
        "id": "view-in-github",
        "colab_type": "text"
      },
      "source": [
        "<a href=\"https://colab.research.google.com/github/mwoonkim/big_data_lecture2025/blob/main/ANOVA1.ipynb\" target=\"_parent\"><img src=\"https://colab.research.google.com/assets/colab-badge.svg\" alt=\"Open In Colab\"/></a>"
      ]
    },
    {
      "cell_type": "code",
      "execution_count": 3,
      "metadata": {
        "id": "oEl8Nc_Gzmpi"
      },
      "outputs": [],
      "source": [
        "from scipy import stats\n",
        "import matplotlib.pyplot as plt\n",
        "import numpy as np\n",
        "import pandas as pd"
      ]
    },
    {
      "cell_type": "code",
      "source": [
        "menu1 = pd.read_csv('/content/drive/MyDrive/Colab Notebooks/menu1.csv')"
      ],
      "metadata": {
        "id": "ALuAxHAm5t4r"
      },
      "execution_count": 6,
      "outputs": []
    },
    {
      "cell_type": "code",
      "source": [
        "menu1.columns = menu1.columns.str.strip()\n",
        "Item1 = menu1['Item1']\n",
        "Item2 = menu1['Item2']\n",
        "Item3 = menu1['Item3']"
      ],
      "metadata": {
        "id": "DxhY5kIn7Spn"
      },
      "execution_count": 10,
      "outputs": []
    },
    {
      "cell_type": "code",
      "source": [
        "F, p = stats.f_oneway(Item1, Item2, Item3)\n",
        "print(f\"F-value:{F:.3f}, p-value: {p:.3f}\")"
      ],
      "metadata": {
        "id": "7Wt-7LJM_EUI"
      },
      "execution_count": null,
      "outputs": []
    }
  ]
}