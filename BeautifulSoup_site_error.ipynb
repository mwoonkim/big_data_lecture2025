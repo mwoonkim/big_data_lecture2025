{
  "nbformat": 4,
  "nbformat_minor": 0,
  "metadata": {
    "colab": {
      "provenance": [],
      "mount_file_id": "1dHmMd8okwSqwojY4FFXXNFTyfTirAx39",
      "authorship_tag": "ABX9TyPC/yeCz1k1libCL76/d7Cg",
      "include_colab_link": true
    },
    "kernelspec": {
      "name": "python3",
      "display_name": "Python 3"
    },
    "language_info": {
      "name": "python"
    }
  },
  "cells": [
    {
      "cell_type": "markdown",
      "metadata": {
        "id": "view-in-github",
        "colab_type": "text"
      },
      "source": [
        "<a href=\"https://colab.research.google.com/github/mwoonkim/big_data_lecture2025/blob/main/BeautifulSoup_site_error.ipynb\" target=\"_parent\"><img src=\"https://colab.research.google.com/assets/colab-badge.svg\" alt=\"Open In Colab\"/></a>"
      ]
    },
    {
      "cell_type": "code",
      "source": [
        "from bs4 import BeautifulSoup as bts"
      ],
      "metadata": {
        "id": "68iw61wPFn6c"
      },
      "execution_count": 31,
      "outputs": []
    },
    {
      "cell_type": "code",
      "source": [
        "from urllib.request import urlopen\n",
        "from urllib.error import HTTPError\n",
        "from bs4 import BeautifulSoup\n",
        "\n",
        "\n",
        "def getTitle(url):\n",
        "    try:\n",
        "        html = urlopen(url)\n",
        "    except HTTPError as e:\n",
        "        return None\n",
        "    try:\n",
        "        bsObj = bts(html.read(), 'html.parser')\n",
        "        title = bsObj.body.h1\n",
        "    except AttributeError as e:\n",
        "        return None\n",
        "    return title\n",
        "\n",
        "u=\"https://www.daejin.ac.kr/daejin/index.do\"\n",
        "title = getTitle(u)\n",
        "if title is None:\n",
        "    print(\"Title could not be found\")\n",
        "else:\n",
        "    print(title)"
      ],
      "metadata": {
        "colab": {
          "base_uri": "https://localhost:8080/"
        },
        "id": "2JHFy_itEd6V",
        "outputId": "2d15b1f2-673d-4014-b032-a4fff0520e7c"
      },
      "execution_count": 36,
      "outputs": [
        {
          "output_type": "stream",
          "name": "stdout",
          "text": [
            "<h1 class=\"logo\" title=\"\">\n",
            "<a href=\"#\" title=\"KSIGN\">KSIGN</a>\n",
            "</h1>\n"
          ]
        }
      ]
    }
  ]
}