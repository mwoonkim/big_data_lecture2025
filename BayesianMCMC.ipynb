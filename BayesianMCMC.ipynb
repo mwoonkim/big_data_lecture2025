{
  "nbformat": 4,
  "nbformat_minor": 0,
  "metadata": {
    "colab": {
      "provenance": [],
      "mount_file_id": "1pQYIhpxLYtl4fuYL7BIp2RQu1xEIGssH",
      "authorship_tag": "ABX9TyNPDb4urCxkGMDfqvtUrGZt",
      "include_colab_link": true
    },
    "kernelspec": {
      "name": "python3",
      "display_name": "Python 3"
    },
    "language_info": {
      "name": "python"
    }
  },
  "cells": [
    {
      "cell_type": "markdown",
      "metadata": {
        "id": "view-in-github",
        "colab_type": "text"
      },
      "source": [
        "<a href=\"https://colab.research.google.com/github/mwoonkim/big_data_lecture2025/blob/main/BayesianMCMC.ipynb\" target=\"_parent\"><img src=\"https://colab.research.google.com/assets/colab-badge.svg\" alt=\"Open In Colab\"/></a>"
      ]
    },
    {
      "cell_type": "code",
      "metadata": {
        "id": "2c11da4f"
      },
      "source": [
        "!pip install pymc"
      ],
      "execution_count": null,
      "outputs": []
    },
    {
      "cell_type": "code",
      "source": [
        "import pymc3 as pm\n",
        "import matplotlib.pyplot as plt\n",
        "from sklearn.datasets import make_regression"
      ],
      "metadata": {
        "id": "-r21t33x02tP"
      },
      "execution_count": 7,
      "outputs": []
    },
    {
      "cell_type": "code",
      "source": [
        "x, y_data, coef = make_regression(n_samples=100, n_features=1, bias=0, noise=20, coef=True, random_state=1)\n",
        "x = x.flatten()\n",
        "coef"
      ],
      "metadata": {
        "id": "b3kW8MMg2gCV"
      },
      "execution_count": null,
      "outputs": []
    },
    {
      "cell_type": "code",
      "source": [
        "plt.scatter(x,y_data)"
      ],
      "metadata": {
        "id": "f1kio-f-27B_"
      },
      "execution_count": null,
      "outputs": []
    },
    {
      "cell_type": "code",
      "metadata": {
        "id": "n9tZzZsn3C_p"
      },
      "source": [
        "with pm.Model() as m:\n",
        "  w=pm.Normal('w',mu=0, sigma=50)\n",
        "  b=pm.Normal('b', mu=0, sigma=50)\n",
        "  esd = pm.HalfCauchy('esd',5)\n",
        "  y=pm.Normal('y', mu=w*x+b, sigma=esd, observed=y_data)\n",
        "  trace1=pm.sample(10000)"
      ],
      "execution_count": null,
      "outputs": []
    },
    {
      "cell_type": "code",
      "source": [
        "import arviz as az\n",
        "\n",
        "az.plot_trace(trace1)"
      ],
      "metadata": {
        "id": "l1r0ZorV4JTY"
      },
      "execution_count": null,
      "outputs": []
    },
    {
      "cell_type": "code",
      "source": [
        "pm.summary(trace1)"
      ],
      "metadata": {
        "id": "CX41yCS34jWv"
      },
      "execution_count": null,
      "outputs": []
    }
  ]
}