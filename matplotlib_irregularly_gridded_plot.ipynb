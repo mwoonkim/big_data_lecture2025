{
  "nbformat": 4,
  "nbformat_minor": 0,
  "metadata": {
    "colab": {
      "provenance": [],
      "mount_file_id": "1FR1aifrkE9LnVR-1gqS_SIIOTYgcjC9L",
      "authorship_tag": "ABX9TyM6BuJZUUdEdxxPgICUEXYc",
      "include_colab_link": true
    },
    "kernelspec": {
      "name": "python3",
      "display_name": "Python 3"
    },
    "language_info": {
      "name": "python"
    }
  },
  "cells": [
    {
      "cell_type": "markdown",
      "metadata": {
        "id": "view-in-github",
        "colab_type": "text"
      },
      "source": [
        "<a href=\"https://colab.research.google.com/github/mwoonkim/big_data_lecture2025/blob/main/matplotlib_irregularly_gridded_plot.ipynb\" target=\"_parent\"><img src=\"https://colab.research.google.com/assets/colab-badge.svg\" alt=\"Open In Colab\"/></a>"
      ]
    },
    {
      "cell_type": "code",
      "execution_count": 1,
      "metadata": {
        "id": "qgeMguckqgM0"
      },
      "outputs": [],
      "source": [
        "import matplotlib.pyplot as plt\n",
        "import numpy as np\n",
        "\n",
        "plt.style.use('_mpl-gallery-nogrid')"
      ]
    },
    {
      "cell_type": "code",
      "source": [
        "# make data:\n",
        "np.random.seed(1)\n",
        "x = np.random.uniform(-3, 3, 256)\n",
        "y = np.random.uniform(-3, 3, 256)\n",
        "z = (1 - x/2 + x**5 + y**3) * np.exp(-x**2 - y**2)\n",
        "levels = np.linspace(z.min(), z.max(), 7)\n",
        "\n",
        "# plot: tricontour\n",
        "fig, ax = plt.subplots()\n",
        "\n",
        "ax.plot(x, y, 'o', markersize=2, color='lightgrey')\n",
        "ax.tricontour(x, y, z, levels=levels)\n",
        "\n",
        "ax.set(xlim=(-3, 3), ylim=(-3, 3))\n",
        "\n",
        "plt.show()"
      ],
      "metadata": {
        "id": "ZNCIFaBuq_A2"
      },
      "execution_count": null,
      "outputs": []
    },
    {
      "cell_type": "code",
      "source": [
        "# make data:\n",
        "np.random.seed(1)\n",
        "x = np.random.uniform(-3, 3, 256)\n",
        "y = np.random.uniform(-3, 3, 256)\n",
        "z = (1 - x/2 + x**5 + y**3) * np.exp(-x**2 - y**2)\n",
        "levels = np.linspace(z.min(), z.max(), 7)\n",
        "\n",
        "# plot: - tricontourf\n",
        "fig, ax = plt.subplots()\n",
        "\n",
        "ax.plot(x, y, 'o', markersize=2, color='grey')\n",
        "ax.tricontourf(x, y, z, levels=levels)\n",
        "\n",
        "ax.set(xlim=(-3, 3), ylim=(-3, 3))\n",
        "\n",
        "plt.show()"
      ],
      "metadata": {
        "id": "L6qEHOvWrJBu"
      },
      "execution_count": null,
      "outputs": []
    },
    {
      "cell_type": "code",
      "source": [
        "# make data:\n",
        "np.random.seed(1)\n",
        "x = np.random.uniform(-3, 3, 256)\n",
        "y = np.random.uniform(-3, 3, 256)\n",
        "z = (1 - x/2 + x**5 + y**3) * np.exp(-x**2 - y**2)\n",
        "\n",
        "# plot: - tricolor\n",
        "fig, ax = plt.subplots()\n",
        "\n",
        "ax.plot(x, y, 'o', markersize=2, color='grey')\n",
        "ax.tripcolor(x, y, z)\n",
        "\n",
        "ax.set(xlim=(-3, 3), ylim=(-3, 3))\n",
        "\n",
        "plt.show()"
      ],
      "metadata": {
        "id": "k_q5HAXvrTVR"
      },
      "execution_count": null,
      "outputs": []
    },
    {
      "cell_type": "code",
      "source": [
        "# make data:\n",
        "np.random.seed(1)\n",
        "x = np.random.uniform(-3, 3, 256)\n",
        "y = np.random.uniform(-3, 3, 256)\n",
        "z = (1 - x/2 + x**5 + y**3) * np.exp(-x**2 - y**2)\n",
        "\n",
        "# plot: - triplot\n",
        "fig, ax = plt.subplots()\n",
        "\n",
        "ax.triplot(x, y)\n",
        "\n",
        "ax.set(xlim=(-3, 3), ylim=(-3, 3))\n",
        "\n",
        "plt.show()"
      ],
      "metadata": {
        "id": "jo5sMMxLrZbA"
      },
      "execution_count": null,
      "outputs": []
    }
  ]
}