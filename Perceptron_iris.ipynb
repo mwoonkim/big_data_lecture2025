{
  "nbformat": 4,
  "nbformat_minor": 0,
  "metadata": {
    "colab": {
      "provenance": [],
      "mount_file_id": "133FC4OR7BRfAPvL5_KJkhFbjzHzAwKF_",
      "authorship_tag": "ABX9TyOzfHX8hE1uFrcdMaJ0PbqH",
      "include_colab_link": true
    },
    "kernelspec": {
      "name": "python3",
      "display_name": "Python 3"
    },
    "language_info": {
      "name": "python"
    }
  },
  "cells": [
    {
      "cell_type": "markdown",
      "metadata": {
        "id": "view-in-github",
        "colab_type": "text"
      },
      "source": [
        "<a href=\"https://colab.research.google.com/github/mwoonkim/big_data_lecture2025/blob/main/Perceptron_iris.ipynb\" target=\"_parent\"><img src=\"https://colab.research.google.com/assets/colab-badge.svg\" alt=\"Open In Colab\"/></a>"
      ]
    },
    {
      "cell_type": "code",
      "execution_count": 1,
      "metadata": {
        "id": "Hc10c7ftLxsK"
      },
      "outputs": [],
      "source": [
        "from sklearn import datasets\n",
        "from sklearn.preprocessing import StandardScaler\n",
        "from sklearn.linear_model import Perceptron\n",
        "from sklearn.model_selection import train_test_split\n",
        "from sklearn.metrics import accuracy_score\n",
        "import numpy as np\n",
        "import matplotlib.pyplot as plt\n",
        "import pandas as pd\n",
        "import seaborn as sns"
      ]
    },
    {
      "cell_type": "code",
      "source": [
        "iris = datasets.load_iris()\n",
        "print(iris.feature_names)"
      ],
      "metadata": {
        "id": "5jYbBLICL94O"
      },
      "execution_count": null,
      "outputs": []
    },
    {
      "cell_type": "code",
      "source": [
        "print(iris.target_names)"
      ],
      "metadata": {
        "id": "aMMlo-cpMA1u"
      },
      "execution_count": null,
      "outputs": []
    },
    {
      "cell_type": "code",
      "source": [
        "X = iris.data\n",
        "y = iris.target\n",
        "print(X[:10])"
      ],
      "metadata": {
        "id": "BrTL1lJjMDQd"
      },
      "execution_count": null,
      "outputs": []
    },
    {
      "cell_type": "code",
      "source": [
        "print(y)"
      ],
      "metadata": {
        "id": "MyJOtOqWMG2r"
      },
      "execution_count": null,
      "outputs": []
    },
    {
      "cell_type": "code",
      "source": [
        "plt.figure(figsize=(8, 4))\n",
        "plt.boxplot([X[:,0], X[:,1], X[:,2], X[:,3]],\n",
        "labels=iris.feature_names)\n",
        "plt.title('Iris')\n",
        "plt.xlabel('Features')\n",
        "plt.ylabel('Length or Width (cm)')\n",
        "plt.show()"
      ],
      "metadata": {
        "id": "_mQAHMWzMIkp"
      },
      "execution_count": null,
      "outputs": []
    },
    {
      "cell_type": "code",
      "source": [
        "X_df = pd.DataFrame(X)\n",
        "X_df.columns = iris.feature_names\n",
        "X_df['species'] = y\n",
        "print(X_df)"
      ],
      "metadata": {
        "id": "u_lkKwfRMLsy"
      },
      "execution_count": null,
      "outputs": []
    },
    {
      "cell_type": "code",
      "source": [
        "sns.pairplot(X_df, hue=\"species\", height = 2)"
      ],
      "metadata": {
        "id": "ubyPDHfuMQcq"
      },
      "execution_count": null,
      "outputs": []
    },
    {
      "cell_type": "code",
      "source": [
        "X_train, X_test, y_train, y_test = train_test_split(X, y, test_size=0.3)"
      ],
      "metadata": {
        "id": "HRH500lWMTDk"
      },
      "execution_count": 9,
      "outputs": []
    },
    {
      "cell_type": "code",
      "source": [
        "scalerX = StandardScaler()\n",
        "scalerX.fit(X_train)\n",
        "X_train_std = scalerX.transform(X_train)\n",
        "X_test_std = scalerX.transform(X_test)"
      ],
      "metadata": {
        "id": "SPjM-KyTMVCP"
      },
      "execution_count": 10,
      "outputs": []
    },
    {
      "cell_type": "code",
      "source": [
        "model = Perceptron(verbose=1)\n",
        "model.fit(X_train_std, y_train)"
      ],
      "metadata": {
        "id": "axKAJzcZMY3F"
      },
      "execution_count": null,
      "outputs": []
    },
    {
      "cell_type": "code",
      "source": [
        "print(model.coef_)"
      ],
      "metadata": {
        "id": "BHfoU0VpMbk8"
      },
      "execution_count": null,
      "outputs": []
    },
    {
      "cell_type": "code",
      "source": [
        "print(model.intercept_)"
      ],
      "metadata": {
        "id": "pCINK6raMduz"
      },
      "execution_count": null,
      "outputs": []
    },
    {
      "cell_type": "code",
      "source": [
        "y_pred = model.predict(X_test_std)\n",
        "print(y_pred)"
      ],
      "metadata": {
        "id": "ibG1paRCMfsC"
      },
      "execution_count": null,
      "outputs": []
    },
    {
      "cell_type": "code",
      "source": [
        "print(y_test)"
      ],
      "metadata": {
        "id": "T8fyQaNwMhWK"
      },
      "execution_count": null,
      "outputs": []
    },
    {
      "cell_type": "code",
      "source": [
        "print('Accuracy: %.2f' % accuracy_score(y_test, y_pred))"
      ],
      "metadata": {
        "id": "nJwHUiNvMk_7"
      },
      "execution_count": null,
      "outputs": []
    }
  ]
}