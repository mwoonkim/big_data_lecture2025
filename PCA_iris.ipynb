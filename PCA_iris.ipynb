{
  "nbformat": 4,
  "nbformat_minor": 0,
  "metadata": {
    "colab": {
      "provenance": [],
      "mount_file_id": "1wCjKmwsMKP7D1F_oWdRzdP78P3ybdS74",
      "authorship_tag": "ABX9TyMwDt3ah2wDHuYD37bX2d5t",
      "include_colab_link": true
    },
    "kernelspec": {
      "name": "python3",
      "display_name": "Python 3"
    },
    "language_info": {
      "name": "python"
    }
  },
  "cells": [
    {
      "cell_type": "markdown",
      "metadata": {
        "id": "view-in-github",
        "colab_type": "text"
      },
      "source": [
        "<a href=\"https://colab.research.google.com/github/mwoonkim/big_data_lecture2025/blob/main/PCA_iris.ipynb\" target=\"_parent\"><img src=\"https://colab.research.google.com/assets/colab-badge.svg\" alt=\"Open In Colab\"/></a>"
      ]
    },
    {
      "cell_type": "code",
      "execution_count": 1,
      "metadata": {
        "id": "iKWHO-Vj4TJj"
      },
      "outputs": [],
      "source": [
        "from sklearn.decomposition import PCA\n",
        "from sklearn.preprocessing import StandardScaler\n",
        "# iris 데이터 세트\n",
        "from sklearn import datasets\n",
        "import numpy as np\n",
        "import pandas as pd\n",
        "import matplotlib.pyplot as plt\n",
        "import seaborn as sns"
      ]
    },
    {
      "cell_type": "code",
      "source": [
        "data = datasets.load_iris()\n",
        "data"
      ],
      "metadata": {
        "id": "iE7nvZz34lta"
      },
      "execution_count": null,
      "outputs": []
    },
    {
      "cell_type": "code",
      "source": [
        "df = pd.DataFrame(data['data'], columns=data['feature_names'])\n",
        "df['target'] = data['target']\n",
        "df.head()"
      ],
      "metadata": {
        "id": "aYw-95a84rbo"
      },
      "execution_count": null,
      "outputs": []
    },
    {
      "cell_type": "code",
      "source": [
        "plt.figure(figsize=(8, 8))\n",
        "ax = sns.pairplot(df, hue='target')\n",
        "plt.show()"
      ],
      "metadata": {
        "id": "KG58DPd440Gh"
      },
      "execution_count": null,
      "outputs": []
    },
    {
      "cell_type": "code",
      "source": [
        "X_df = df.iloc[:, [0,1,2,3]]\n",
        "print(X_df.mean(axis=0))\n",
        "print(X_df.var(axis=0))"
      ],
      "metadata": {
        "id": "hw9G6Mki47MB"
      },
      "execution_count": null,
      "outputs": []
    },
    {
      "cell_type": "code",
      "source": [
        "scalerX = StandardScaler()\n",
        "scalerX.fit(data.data)\n",
        "X_std = scalerX.transform(data.data)\n",
        "X_std"
      ],
      "metadata": {
        "id": "_qj5zHbY5AJR"
      },
      "execution_count": null,
      "outputs": []
    },
    {
      "cell_type": "code",
      "source": [
        "pca = PCA()\n",
        "pca.fit(X_std)"
      ],
      "metadata": {
        "id": "t4taDcNe5FlZ"
      },
      "execution_count": null,
      "outputs": []
    },
    {
      "cell_type": "code",
      "source": [
        "print(pca.explained_variance_)"
      ],
      "metadata": {
        "id": "jvUHGGGa5Jjp"
      },
      "execution_count": null,
      "outputs": []
    },
    {
      "cell_type": "code",
      "source": [
        "print(pca.explained_variance_ratio_)"
      ],
      "metadata": {
        "id": "59WkYI955MVx"
      },
      "execution_count": null,
      "outputs": []
    },
    {
      "cell_type": "code",
      "source": [
        "plt.plot(pca.explained_variance_, 'o-')\n",
        "plt.title('Scree Plot')\n",
        "plt.xlabel('Principal Component')\n",
        "plt.ylabel('Variance Ratio')"
      ],
      "metadata": {
        "id": "rp2ZhiEi5QCl"
      },
      "execution_count": null,
      "outputs": []
    },
    {
      "cell_type": "code",
      "source": [
        "Z = pca.fit_transform(X_std)\n",
        "Z_df = pd.DataFrame(data=Z, columns = ['PC1', 'PC2', 'PC3', 'PC4'])\n",
        "Z_df.head()"
      ],
      "metadata": {
        "id": "26Oe93mI5X-q"
      },
      "execution_count": null,
      "outputs": []
    },
    {
      "cell_type": "code",
      "source": [
        "Z_df['target'] = data['target']\n",
        "plt.figure(figsize=(8, 8))\n",
        "ax = sns.pairplot(df, hue='target')\n",
        "plt.show()"
      ],
      "metadata": {
        "id": "E2esXv3n5fCI"
      },
      "execution_count": null,
      "outputs": []
    },
    {
      "cell_type": "code",
      "source": [
        "loadings = pca.components_\n",
        "print(loadings)"
      ],
      "metadata": {
        "id": "Eq0BA05C5op3"
      },
      "execution_count": null,
      "outputs": []
    },
    {
      "cell_type": "code",
      "source": [
        "plt.figure(figsize=(5,5))\n",
        "plt.scatter(loadings[0,], loadings[1,], color='b')\n",
        "plt.xlabel('PC1')\n",
        "plt.ylabel('PC2')\n",
        "plt.xlim(-2, 2)\n",
        "plt.ylim(-2, 2)"
      ],
      "metadata": {
        "id": "XALgGgNN5sQp"
      },
      "execution_count": null,
      "outputs": []
    },
    {
      "cell_type": "code",
      "source": [
        "rows, columns = loadings.shape\n",
        "rows_names = data['feature_names']"
      ],
      "metadata": {
        "id": "2J59Qeyc5yAx"
      },
      "execution_count": 15,
      "outputs": []
    },
    {
      "cell_type": "code",
      "source": [
        "for i in range(rows):\n",
        "    plt.arrow(0, 0, loadings[0,i], loadings[1,i],\n",
        "    color = 'r',alpha = 0.5)\n",
        "    plt.text(loadings[0,i]* 1.2, loadings[1,i] * 1.2,\n",
        "             rows_names[i], color = 'g',\n",
        "             ha = 'center', va = 'center')"
      ],
      "metadata": {
        "id": "tsDJHpbE528P"
      },
      "execution_count": null,
      "outputs": []
    }
  ]
}