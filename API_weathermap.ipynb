{
  "nbformat": 4,
  "nbformat_minor": 0,
  "metadata": {
    "colab": {
      "provenance": [],
      "mount_file_id": "1fstm3hRqjGHJfyGPXRJlqvbtycILRulz",
      "authorship_tag": "ABX9TyNd8WK2Gef4UUsRUtbVSL3x",
      "include_colab_link": true
    },
    "kernelspec": {
      "name": "python3",
      "display_name": "Python 3"
    },
    "language_info": {
      "name": "python"
    }
  },
  "cells": [
    {
      "cell_type": "markdown",
      "metadata": {
        "id": "view-in-github",
        "colab_type": "text"
      },
      "source": [
        "<a href=\"https://colab.research.google.com/github/mwoonkim/big_data_lecture2025/blob/main/API_weathermap.ipynb\" target=\"_parent\"><img src=\"https://colab.research.google.com/assets/colab-badge.svg\" alt=\"Open In Colab\"/></a>"
      ]
    },
    {
      "cell_type": "code",
      "execution_count": 12,
      "metadata": {
        "colab": {
          "base_uri": "https://localhost:8080/"
        },
        "id": "4q7HiX-W6FNC",
        "outputId": "f4baf979-c6b8-4501-c4fe-1571c4921334"
      },
      "outputs": [
        {
          "output_type": "stream",
          "name": "stdout",
          "text": [
            "{'lat': 37.8744, 'lon': 127.155, 'timezone': 'Asia/Seoul', 'timezone_offset': 32400, 'current': {'dt': 1754277240, 'sunrise': 1754253414, 'sunset': 1754303883, 'temp': 302.92, 'feels_like': 307.41, 'pressure': 1002, 'humidity': 69, 'dew_point': 296.62, 'uvi': 9.83, 'clouds': 30, 'visibility': 10000, 'wind_speed': 1.4, 'wind_deg': 300, 'wind_gust': 1.75, 'weather': [{'id': 802, 'main': 'Clouds', 'description': '구름조금', 'icon': '03d'}]}}\n"
          ]
        }
      ],
      "source": [
        "import requests\n",
        "lat = 37.87440\n",
        "lon = 127.15500\n",
        "url = f'https://api.openweathermap.org/data/3.0/onecall?lat={lat}&lon={lon}&exclude=minutely,hourly,daily,alerts&appid={api_key}&lang=kr'\n",
        "response = requests.get(url)\n",
        "data = response.json()\n",
        "print(data)"
      ]
    }
  ]
}