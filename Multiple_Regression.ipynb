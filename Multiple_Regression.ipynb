{
  "nbformat": 4,
  "nbformat_minor": 0,
  "metadata": {
    "colab": {
      "provenance": [],
      "mount_file_id": "1AHRnPY3USM-zO7VuYAJxDKC4bRlf1-U5",
      "authorship_tag": "ABX9TyMUKsenzqZrdIz8dCs8Cr8d",
      "include_colab_link": true
    },
    "kernelspec": {
      "name": "python3",
      "display_name": "Python 3"
    },
    "language_info": {
      "name": "python"
    }
  },
  "cells": [
    {
      "cell_type": "markdown",
      "metadata": {
        "id": "view-in-github",
        "colab_type": "text"
      },
      "source": [
        "<a href=\"https://colab.research.google.com/github/mwoonkim/big_data_lecture2025/blob/main/Multiple_Regression.ipynb\" target=\"_parent\"><img src=\"https://colab.research.google.com/assets/colab-badge.svg\" alt=\"Open In Colab\"/></a>"
      ]
    },
    {
      "cell_type": "code",
      "execution_count": 55,
      "metadata": {
        "id": "0abGpmYEkI--"
      },
      "outputs": [],
      "source": [
        "import pandas as pd\n",
        "from scipy import stats\n",
        "from statsmodels.formula.api import ols\n",
        "import matplotlib.pyplot as plt"
      ]
    },
    {
      "cell_type": "code",
      "source": [
        "score_iq = pd.read_csv('/content/drive/MyDrive/Colab Notebooks/score_iq.csv')\n",
        "corr = score_iq.corr()\n",
        "print(corr['score'])"
      ],
      "metadata": {
        "id": "JIyycuVQkW8K"
      },
      "execution_count": null,
      "outputs": []
    },
    {
      "cell_type": "code",
      "source": [
        "obj = ols(formula='score ~ iq + academy + tv', data = score_iq)\n",
        "obj.exog_names\n",
        "obj.exog"
      ],
      "metadata": {
        "id": "TrHqHYB3yhov"
      },
      "execution_count": null,
      "outputs": []
    },
    {
      "cell_type": "code",
      "source": [
        "model=obj.fit()\n",
        "print('회귀 계수값\\n%s'%(model.params))"
      ],
      "metadata": {
        "id": "HFJaRxhXy_7O"
      },
      "execution_count": null,
      "outputs": []
    },
    {
      "cell_type": "code",
      "source": [
        "print(model.summary())"
      ],
      "metadata": {
        "id": "fCGR4mMYzJFU"
      },
      "execution_count": null,
      "outputs": []
    },
    {
      "cell_type": "code",
      "source": [
        "from statsmodels.stats.outliers_influence import variance_inflation_factor\n",
        "\n",
        "x_data = score_iq[['iq', 'academy', 'tv']]\n",
        "x_data.shape # (150, 3)\n",
        "\n",
        "vif = pd.DataFrame()\n",
        "vif[\"VIF Factor\"] = [variance_inflation_factor(obj.exog, i+1)\n",
        "                     for i in range(x_data.shape[1])]\n",
        "vif[\"features\"] = x_data.columns\n",
        "print(vif)"
      ],
      "metadata": {
        "id": "8aa8pxEOzQ4I"
      },
      "execution_count": null,
      "outputs": []
    },
    {
      "cell_type": "code",
      "source": [
        "x_data = score_iq[['iq', 'tv']]    # academy 변수 제거\n",
        "vif = pd.DataFrame()\n",
        "vif[\"VIF Factor\"] = [variance_inflation_factor(obj.exog, i+1) for i in range(2)]\n",
        "vif[\"features\"] = x_data.columns\n",
        "print(vif)\n",
        "print(model.summary())"
      ],
      "metadata": {
        "id": "uHdG-yV-zpVL"
      },
      "execution_count": null,
      "outputs": []
    },
    {
      "cell_type": "code",
      "source": [
        "x_data = score_iq[['iq', 'academy']]    # tv 변수 제거\n",
        "vif = pd.DataFrame()\n",
        "vif[\"VIF Factor\"] = [variance_inflation_factor(obj.exog, i+1) for i in range(2)]\n",
        "vif[\"features\"] = x_data.columns\n",
        "print(vif)\n",
        "print(model.summary())"
      ],
      "metadata": {
        "id": "FteixEWg06aL"
      },
      "execution_count": null,
      "outputs": []
    }
  ]
}