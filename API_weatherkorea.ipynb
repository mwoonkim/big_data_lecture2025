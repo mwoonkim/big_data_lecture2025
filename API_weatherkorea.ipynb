{
  "nbformat": 4,
  "nbformat_minor": 0,
  "metadata": {
    "colab": {
      "provenance": [],
      "mount_file_id": "1fstm3hRqjGHJfyGPXRJlqvbtycILRulz",
      "authorship_tag": "ABX9TyOZR8WSc1UzOpyTgEopZxvA",
      "include_colab_link": true
    },
    "kernelspec": {
      "name": "python3",
      "display_name": "Python 3"
    },
    "language_info": {
      "name": "python"
    }
  },
  "cells": [
    {
      "cell_type": "markdown",
      "metadata": {
        "id": "view-in-github",
        "colab_type": "text"
      },
      "source": [
        "<a href=\"https://colab.research.google.com/github/mwoonkim/big_data_lecture2025/blob/main/API_weatherkorea.ipynb\" target=\"_parent\"><img src=\"https://colab.research.google.com/assets/colab-badge.svg\" alt=\"Open In Colab\"/></a>"
      ]
    },
    {
      "cell_type": "code",
      "execution_count": 15,
      "metadata": {
        "id": "4q7HiX-W6FNC"
      },
      "outputs": [],
      "source": [
        "import requests\n",
        "\n",
        "def download_file(file_url, save_path):\n",
        "  with open(save_path, 'wb') as f:\n",
        "     response  = requests.get(file_url)\n",
        "     f.write(response.content)\n",
        "\n",
        "url ='https://apihub.kma.go.kr/api/typ01/url/kma_sfctm2.php?tm1=20250701010000&tm2=202507310000&stn=98&help=1&authKey='\n",
        "save_file_path = '/content/drive/MyDrive/Colab Notebooks/weather202507.zip'\n",
        "\n",
        "download_file(url, save_file_path)"
      ]
    }
  ]
}