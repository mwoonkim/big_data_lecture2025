{
  "nbformat": 4,
  "nbformat_minor": 0,
  "metadata": {
    "colab": {
      "provenance": [],
      "authorship_tag": "ABX9TyM5QSFm6uwQYzXeWMCXTgZa",
      "include_colab_link": true
    },
    "kernelspec": {
      "name": "python3",
      "display_name": "Python 3"
    },
    "language_info": {
      "name": "python"
    }
  },
  "cells": [
    {
      "cell_type": "markdown",
      "metadata": {
        "id": "view-in-github",
        "colab_type": "text"
      },
      "source": [
        "<a href=\"https://colab.research.google.com/github/mwoonkim/big_data_lecture2025/blob/main/basic_statistics01.ipynb\" target=\"_parent\"><img src=\"https://colab.research.google.com/assets/colab-badge.svg\" alt=\"Open In Colab\"/></a>"
      ]
    },
    {
      "cell_type": "code",
      "execution_count": 1,
      "metadata": {
        "id": "y0PP0t-G50Gv"
      },
      "outputs": [],
      "source": [
        "import pandas as pd\n",
        "from sklearn.datasets import load_iris"
      ]
    },
    {
      "cell_type": "code",
      "source": [
        "iris=load_iris()\n",
        "print(iris.keys())"
      ],
      "metadata": {
        "id": "2rzHaB7L6VXa"
      },
      "execution_count": null,
      "outputs": []
    },
    {
      "cell_type": "code",
      "source": [
        "df1 = pd.DataFrame(iris['data'], columns=iris['feature_names'])\n",
        "df1.mean()"
      ],
      "metadata": {
        "id": "zcApMkov6dCW"
      },
      "execution_count": null,
      "outputs": []
    },
    {
      "cell_type": "code",
      "source": [
        "df1.min()"
      ],
      "metadata": {
        "id": "5gHfBH7j-bDd"
      },
      "execution_count": null,
      "outputs": []
    },
    {
      "cell_type": "code",
      "source": [
        "df1.max()"
      ],
      "metadata": {
        "id": "Q8pOQuIi-eHa"
      },
      "execution_count": null,
      "outputs": []
    },
    {
      "cell_type": "code",
      "source": [
        "df1.median()"
      ],
      "metadata": {
        "id": "7WINi6fx-glm"
      },
      "execution_count": null,
      "outputs": []
    },
    {
      "cell_type": "code",
      "source": [
        "df1.mode()"
      ],
      "metadata": {
        "id": "HjR7yHuO-8bv"
      },
      "execution_count": null,
      "outputs": []
    },
    {
      "cell_type": "code",
      "source": [
        "df1.std()"
      ],
      "metadata": {
        "id": "FrbDLGmz_DbW"
      },
      "execution_count": null,
      "outputs": []
    },
    {
      "cell_type": "code",
      "source": [
        "df1.var()"
      ],
      "metadata": {
        "id": "ljxFj-EA_HD-"
      },
      "execution_count": null,
      "outputs": []
    },
    {
      "cell_type": "code",
      "source": [
        "df1.cummax()"
      ],
      "metadata": {
        "id": "Nuyz5mL7AZPi"
      },
      "execution_count": null,
      "outputs": []
    },
    {
      "cell_type": "code",
      "source": [
        "df1.cumsum()"
      ],
      "metadata": {
        "id": "XAjBT73dAfof"
      },
      "execution_count": null,
      "outputs": []
    },
    {
      "cell_type": "code",
      "source": [
        "df1.quantile(q=0.25)"
      ],
      "metadata": {
        "id": "7XpzWj3DAkSs"
      },
      "execution_count": null,
      "outputs": []
    },
    {
      "cell_type": "code",
      "source": [
        "df1.sem()"
      ],
      "metadata": {
        "id": "YtUcuItMB8Ae"
      },
      "execution_count": null,
      "outputs": []
    },
    {
      "cell_type": "code",
      "source": [
        "df1.cov()"
      ],
      "metadata": {
        "id": "z9Bjt19SBMAN"
      },
      "execution_count": null,
      "outputs": []
    },
    {
      "cell_type": "code",
      "source": [
        "df1.skew()"
      ],
      "metadata": {
        "id": "1RQWGkwCBs-_"
      },
      "execution_count": null,
      "outputs": []
    },
    {
      "cell_type": "code",
      "source": [
        "df1.kurt()"
      ],
      "metadata": {
        "id": "aMfRVNkIBw-y"
      },
      "execution_count": null,
      "outputs": []
    },
    {
      "cell_type": "code",
      "source": [
        "df1.corr(method='pearson')"
      ],
      "metadata": {
        "id": "Usn0si9hB0mm"
      },
      "execution_count": null,
      "outputs": []
    },
    {
      "cell_type": "code",
      "source": [
        "df1.corr(method='spearman')"
      ],
      "metadata": {
        "id": "RjitE3SQCb9e"
      },
      "execution_count": null,
      "outputs": []
    },
    {
      "cell_type": "code",
      "source": [
        "df1.corr(method='kendall')"
      ],
      "metadata": {
        "id": "wzRysD-HCgl6"
      },
      "execution_count": null,
      "outputs": []
    },
    {
      "cell_type": "code",
      "source": [],
      "metadata": {
        "id": "8kT_1qRqClHW"
      },
      "execution_count": null,
      "outputs": []
    }
  ]
}