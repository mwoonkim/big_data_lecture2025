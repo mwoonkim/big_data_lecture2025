{
  "nbformat": 4,
  "nbformat_minor": 0,
  "metadata": {
    "colab": {
      "provenance": [],
      "mount_file_id": "1AHRnPY3USM-zO7VuYAJxDKC4bRlf1-U5",
      "authorship_tag": "ABX9TyOYATIyar0OVrcJYeHLTfIH",
      "include_colab_link": true
    },
    "kernelspec": {
      "name": "python3",
      "display_name": "Python 3"
    },
    "language_info": {
      "name": "python"
    }
  },
  "cells": [
    {
      "cell_type": "markdown",
      "metadata": {
        "id": "view-in-github",
        "colab_type": "text"
      },
      "source": [
        "<a href=\"https://colab.research.google.com/github/mwoonkim/big_data_lecture2025/blob/main/Corr_pearson.ipynb\" target=\"_parent\"><img src=\"https://colab.research.google.com/assets/colab-badge.svg\" alt=\"Open In Colab\"/></a>"
      ]
    },
    {
      "cell_type": "code",
      "execution_count": 39,
      "metadata": {
        "id": "0abGpmYEkI--"
      },
      "outputs": [],
      "source": [
        "import pandas as pd\n",
        "from scipy import stats\n",
        "import seaborn as sns\n",
        "import matplotlib.pyplot as plt"
      ]
    },
    {
      "cell_type": "code",
      "source": [
        "score_iq = pd.read_csv('/content/drive/MyDrive/Colab Notebooks/score_iq.csv')\n",
        "print(score_iq)\n",
        "print(score_iq.head())"
      ],
      "metadata": {
        "id": "JIyycuVQkW8K"
      },
      "execution_count": null,
      "outputs": []
    },
    {
      "cell_type": "code",
      "source": [
        "corr = score_iq.corr(method='pearson')\n",
        "print(corr)"
      ],
      "metadata": {
        "id": "-VkyqLvtkoBF"
      },
      "execution_count": null,
      "outputs": []
    },
    {
      "cell_type": "code",
      "source": [
        "plt.imshow(corr, cmap='hot', vmin=-1, vmax=1)\n",
        "plt.colorbar()"
      ],
      "metadata": {
        "id": "a74YwmTqnS7P"
      },
      "execution_count": null,
      "outputs": []
    },
    {
      "cell_type": "code",
      "source": [
        "sns.heatmap(corr, cmap='hot', annot=True, fmt=\".2f\")"
      ],
      "metadata": {
        "id": "IdjAw2VEpfj9"
      },
      "execution_count": null,
      "outputs": []
    },
    {
      "cell_type": "code",
      "source": [
        "cov = score_iq.cov()\n",
        "print(cov)"
      ],
      "metadata": {
        "id": "LcIauh9Bk9js"
      },
      "execution_count": null,
      "outputs": []
    },
    {
      "cell_type": "code",
      "source": [],
      "metadata": {
        "id": "2n6zvRL3rPIW"
      },
      "execution_count": null,
      "outputs": []
    }
  ]
}