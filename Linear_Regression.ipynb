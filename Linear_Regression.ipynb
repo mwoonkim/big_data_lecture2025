{
  "nbformat": 4,
  "nbformat_minor": 0,
  "metadata": {
    "colab": {
      "provenance": [],
      "mount_file_id": "1AHRnPY3USM-zO7VuYAJxDKC4bRlf1-U5",
      "authorship_tag": "ABX9TyNpYdzXAGMiZYnIr7taLkUF",
      "include_colab_link": true
    },
    "kernelspec": {
      "name": "python3",
      "display_name": "Python 3"
    },
    "language_info": {
      "name": "python"
    }
  },
  "cells": [
    {
      "cell_type": "markdown",
      "metadata": {
        "id": "view-in-github",
        "colab_type": "text"
      },
      "source": [
        "<a href=\"https://colab.research.google.com/github/mwoonkim/big_data_lecture2025/blob/main/Linear_Regression.ipynb\" target=\"_parent\"><img src=\"https://colab.research.google.com/assets/colab-badge.svg\" alt=\"Open In Colab\"/></a>"
      ]
    },
    {
      "cell_type": "code",
      "execution_count": 48,
      "metadata": {
        "id": "0abGpmYEkI--"
      },
      "outputs": [],
      "source": [
        "import pandas as pd\n",
        "from scipy import stats\n",
        "from pylab import plot, title, legend, show\n",
        "import seaborn as sns\n",
        "import matplotlib.pyplot as plt"
      ]
    },
    {
      "cell_type": "code",
      "source": [
        "score_iq = pd.read_csv('/content/drive/MyDrive/Colab Notebooks/score_iq.csv')"
      ],
      "metadata": {
        "id": "JIyycuVQkW8K"
      },
      "execution_count": null,
      "outputs": []
    },
    {
      "cell_type": "code",
      "source": [
        "X=score_iq['iq']\n",
        "Y=score_iq['score']"
      ],
      "metadata": {
        "id": "-VkyqLvtkoBF"
      },
      "execution_count": 40,
      "outputs": []
    },
    {
      "cell_type": "code",
      "source": [
        "sns.lmplot(x='score', y='iq', data=score_iq, ci=95)"
      ],
      "metadata": {
        "id": "a74YwmTqnS7P"
      },
      "execution_count": null,
      "outputs": []
    },
    {
      "cell_type": "code",
      "source": [
        "model=stats.linregress(X,Y)\n",
        "print(model)"
      ],
      "metadata": {
        "id": "IdjAw2VEpfj9"
      },
      "execution_count": null,
      "outputs": []
    },
    {
      "cell_type": "code",
      "source": [
        "a = model.slope\n",
        "b = model.intercept\n",
        "print('기울기 : {0:.5f}, 절편 : {1:.5f}'.format(a, b))\n"
      ],
      "metadata": {
        "id": "LcIauh9Bk9js"
      },
      "execution_count": null,
      "outputs": []
    },
    {
      "cell_type": "code",
      "source": [
        "fitted_values = (X * a) + b\n",
        "err = Y - fitted_values\n",
        "print('error')\n",
        "print(err)"
      ],
      "metadata": {
        "id": "2n6zvRL3rPIW"
      },
      "execution_count": null,
      "outputs": []
    },
    {
      "cell_type": "code",
      "source": [
        "print('관측값 평균 : ', Y.mean())\n",
        "print('적합값 평균 : ', fitted_values.mean())"
      ],
      "metadata": {
        "id": "l6mwki7MvAyr"
      },
      "execution_count": null,
      "outputs": []
    },
    {
      "cell_type": "code",
      "source": [
        "plot(score_iq['iq'], score_iq['score'], 'b.')"
      ],
      "metadata": {
        "id": "KVFeqKBTvL_a"
      },
      "execution_count": null,
      "outputs": []
    },
    {
      "cell_type": "code",
      "source": [
        "plot(score_iq['iq'], fitted_values, 'r.-')\n",
        "title('line regression')\n",
        "legend(['x y scatter', 'line regression'])\n",
        "show()"
      ],
      "metadata": {
        "id": "h-ZojpQovPfe"
      },
      "execution_count": null,
      "outputs": []
    }
  ]
}