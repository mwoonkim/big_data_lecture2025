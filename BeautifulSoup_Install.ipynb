{
  "nbformat": 4,
  "nbformat_minor": 0,
  "metadata": {
    "colab": {
      "provenance": [],
      "mount_file_id": "1dHmMd8okwSqwojY4FFXXNFTyfTirAx39",
      "authorship_tag": "ABX9TyPQKFb8rVkA4tBPBwNfu1a7",
      "include_colab_link": true
    },
    "kernelspec": {
      "name": "python3",
      "display_name": "Python 3"
    },
    "language_info": {
      "name": "python"
    }
  },
  "cells": [
    {
      "cell_type": "markdown",
      "metadata": {
        "id": "view-in-github",
        "colab_type": "text"
      },
      "source": [
        "<a href=\"https://colab.research.google.com/github/mwoonkim/big_data_lecture2025/blob/main/BeautifulSoup_Install.ipynb\" target=\"_parent\"><img src=\"https://colab.research.google.com/assets/colab-badge.svg\" alt=\"Open In Colab\"/></a>"
      ]
    },
    {
      "cell_type": "code",
      "execution_count": null,
      "metadata": {
        "id": "pLVpoK8-Yj7o"
      },
      "outputs": [],
      "source": [
        "!pip install bs4"
      ]
    },
    {
      "cell_type": "code",
      "source": [
        "from urllib.request import urlopen\n",
        "from bs4 import BeautifulSoup as bts"
      ],
      "metadata": {
        "id": "TjLSnDZoY46E"
      },
      "execution_count": 5,
      "outputs": []
    },
    {
      "cell_type": "code",
      "source": [
        "from urllib.request import HTTPError\n",
        "from urllib.error import HTTPError\n",
        "from urllib.error import URLError\n",
        "\n",
        "site='https://www.daejin.ac.kr'\n",
        "\n",
        "try:\n",
        "  html=urlopen(site)\n",
        "except HTTPError as e:\n",
        "  print(\"Server error\")\n",
        "except URLError as e:\n",
        "  print(\"Server not be found\")\n",
        "finally:\n",
        "  pass\n"
      ],
      "metadata": {
        "id": "ejDEbltp-qmA"
      },
      "execution_count": 23,
      "outputs": []
    },
    {
      "cell_type": "code",
      "source": [
        "bs=bts(html.read(),'html.parser')\n",
        "print(bs.title)"
      ],
      "metadata": {
        "id": "E3-icfbo5Sr0"
      },
      "execution_count": null,
      "outputs": []
    }
  ]
}