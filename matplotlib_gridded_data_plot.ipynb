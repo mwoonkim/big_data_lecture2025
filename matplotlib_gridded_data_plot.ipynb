{
  "nbformat": 4,
  "nbformat_minor": 0,
  "metadata": {
    "colab": {
      "provenance": [],
      "mount_file_id": "1a7V12NyJ3QZ_Mrg_MOATG56D8m6SF8NM",
      "authorship_tag": "ABX9TyNnz24tMAlQF2apMV0xxtMd",
      "include_colab_link": true
    },
    "kernelspec": {
      "name": "python3",
      "display_name": "Python 3"
    },
    "language_info": {
      "name": "python"
    }
  },
  "cells": [
    {
      "cell_type": "markdown",
      "metadata": {
        "id": "view-in-github",
        "colab_type": "text"
      },
      "source": [
        "<a href=\"https://colab.research.google.com/github/mwoonkim/big_data_lecture2025/blob/main/matplotlib_gridded_data_plot.ipynb\" target=\"_parent\"><img src=\"https://colab.research.google.com/assets/colab-badge.svg\" alt=\"Open In Colab\"/></a>"
      ]
    },
    {
      "cell_type": "code",
      "execution_count": null,
      "metadata": {
        "id": "B9t_FjtxopPj"
      },
      "outputs": [],
      "source": [
        "import matplotlib.pyplot as plt\n",
        "import numpy as np\n",
        "\n",
        "plt.style.use('_mpl-gallery-nogrid')"
      ]
    },
    {
      "cell_type": "code",
      "source": [
        "# make data - imshow\n",
        "X, Y = np.meshgrid(np.linspace(-3, 3, 16), np.linspace(-3, 3, 16))\n",
        "Z = (1 - X/2 + X**5 + Y**3) * np.exp(-X**2 - Y**2)\n",
        "\n",
        "# plot - imshow\n",
        "fig, ax = plt.subplots()\n",
        "\n",
        "ax.imshow(Z, origin='lower')\n",
        "\n",
        "plt.show()"
      ],
      "metadata": {
        "id": "X5fS5AFypHko"
      },
      "execution_count": null,
      "outputs": []
    },
    {
      "cell_type": "code",
      "source": [
        "# make data with uneven sampling in x\n",
        "x = [-3, -2, -1.6, -1.2, -.8, -.5, -.2, .1, .3, .5, .8, 1.1, 1.5, 1.9, 2.3, 3]\n",
        "X, Y = np.meshgrid(x, np.linspace(-3, 3, 128))\n",
        "Z = (1 - X/2 + X**5 + Y**3) * np.exp(-X**2 - Y**2)\n",
        "\n",
        "# plot - pcolormesh\n",
        "fig, ax = plt.subplots()\n",
        "\n",
        "ax.pcolormesh(X, Y, Z, vmin=-0.5, vmax=1.0)\n",
        "\n",
        "plt.show()"
      ],
      "metadata": {
        "id": "MLSdklsKpNtz"
      },
      "execution_count": null,
      "outputs": []
    },
    {
      "cell_type": "code",
      "source": [
        "# make data\n",
        "X, Y = np.meshgrid(np.linspace(-3, 3, 256), np.linspace(-3, 3, 256))\n",
        "Z = (1 - X/2 + X**5 + Y**3) * np.exp(-X**2 - Y**2)\n",
        "levels = np.linspace(np.min(Z), np.max(Z), 7)\n",
        "\n",
        "# plot - contour\n",
        "fig, ax = plt.subplots()\n",
        "\n",
        "ax.contour(X, Y, Z, levels=levels)\n",
        "\n",
        "plt.show()"
      ],
      "metadata": {
        "id": "4FNLWSsApbJB"
      },
      "execution_count": null,
      "outputs": []
    },
    {
      "cell_type": "code",
      "source": [
        "# make data\n",
        "X, Y = np.meshgrid(np.linspace(-3, 3, 256), np.linspace(-3, 3, 256))\n",
        "Z = (1 - X/2 + X**5 + Y**3) * np.exp(-X**2 - Y**2)\n",
        "levels = np.linspace(Z.min(), Z.max(), 7)\n",
        "\n",
        "# plot - contourf\n",
        "fig, ax = plt.subplots()\n",
        "\n",
        "ax.contourf(X, Y, Z, levels=levels)\n",
        "\n",
        "plt.show()"
      ],
      "metadata": {
        "id": "0uG3X_65pjOq"
      },
      "execution_count": null,
      "outputs": []
    },
    {
      "cell_type": "code",
      "source": [
        "# make data:\n",
        "X, Y = np.meshgrid([1, 2, 3, 4], [1, 2, 3, 4])\n",
        "angle = np.pi / 180 * np.array([[15., 30, 35, 45],\n",
        "                                [25., 40, 55, 60],\n",
        "                                [35., 50, 65, 75],\n",
        "                                [45., 60, 75, 90]])\n",
        "amplitude = np.array([[5, 10, 25, 50],\n",
        "                      [10, 15, 30, 60],\n",
        "                      [15, 26, 50, 70],\n",
        "                      [20, 45, 80, 100]])\n",
        "U = amplitude * np.sin(angle)\n",
        "V = amplitude * np.cos(angle)\n",
        "\n",
        "# plot: - barbs\n",
        "fig, ax = plt.subplots()\n",
        "\n",
        "ax.barbs(X, Y, U, V, barbcolor='C0', flagcolor='C0', length=7, linewidth=1.5)\n",
        "\n",
        "ax.set(xlim=(0, 4.5), ylim=(0, 4.5))\n",
        "\n",
        "plt.show()"
      ],
      "metadata": {
        "id": "-Ux3Rr5VpqM8"
      },
      "execution_count": null,
      "outputs": []
    },
    {
      "cell_type": "code",
      "source": [
        "# make data\n",
        "x = np.linspace(-4, 4, 6)\n",
        "y = np.linspace(-4, 4, 6)\n",
        "X, Y = np.meshgrid(x, y)\n",
        "U = X + Y\n",
        "V = Y - X\n",
        "\n",
        "# plot - quiver\n",
        "fig, ax = plt.subplots()\n",
        "\n",
        "ax.quiver(X, Y, U, V, color=\"C0\", angles='xy',\n",
        "          scale_units='xy', scale=5, width=.015)\n",
        "\n",
        "ax.set(xlim=(-5, 5), ylim=(-5, 5))\n",
        "\n",
        "plt.show()"
      ],
      "metadata": {
        "id": "jVs9wHqKpwr9"
      },
      "execution_count": null,
      "outputs": []
    },
    {
      "cell_type": "code",
      "source": [
        "# make a stream function:\n",
        "X, Y = np.meshgrid(np.linspace(-3, 3, 256), np.linspace(-3, 3, 256))\n",
        "Z = (1 - X/2 + X**5 + Y**3) * np.exp(-X**2 - Y**2)\n",
        "# make U and V out of the streamfunction:\n",
        "V = np.diff(Z[1:, :], axis=1)\n",
        "U = -np.diff(Z[:, 1:], axis=0)\n",
        "\n",
        "# plot: - streamplot\n",
        "fig, ax = plt.subplots()\n",
        "\n",
        "ax.streamplot(X[1:, 1:], Y[1:, 1:], U, V)\n",
        "\n",
        "plt.show()"
      ],
      "metadata": {
        "id": "c4sIlayEp3CQ"
      },
      "execution_count": null,
      "outputs": []
    }
  ]
}