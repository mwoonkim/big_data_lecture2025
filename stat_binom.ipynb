{
  "nbformat": 4,
  "nbformat_minor": 0,
  "metadata": {
    "colab": {
      "provenance": [],
      "mount_file_id": "1z_6bEqslMfVF51oiQrqS9GoqFEkd83FV",
      "authorship_tag": "ABX9TyOM5x5BS/OIu2GRDXw1dcxK",
      "include_colab_link": true
    },
    "kernelspec": {
      "name": "python3",
      "display_name": "Python 3"
    },
    "language_info": {
      "name": "python"
    }
  },
  "cells": [
    {
      "cell_type": "markdown",
      "metadata": {
        "id": "view-in-github",
        "colab_type": "text"
      },
      "source": [
        "<a href=\"https://colab.research.google.com/github/mwoonkim/big_data_lecture2025/blob/main/stat_binom.ipynb\" target=\"_parent\"><img src=\"https://colab.research.google.com/assets/colab-badge.svg\" alt=\"Open In Colab\"/></a>"
      ]
    },
    {
      "cell_type": "code",
      "execution_count": 11,
      "metadata": {
        "id": "2t_9ZBdAhrzY"
      },
      "outputs": [],
      "source": [
        "from scipy import stats\n",
        "import numpy as np\n",
        "import matplotlib.pyplot as plt\n"
      ]
    },
    {
      "cell_type": "code",
      "source": [
        "n,p=10,0.2\n",
        "obj=stats.binom(n,p)\n",
        "\n",
        "X=np.arange(n+1)\n",
        "X_pmf=stats.binom.pmf(X,n,p)\n",
        "print(obj.pmf(3))\n",
        "plt.bar(X,X_pmf)\n",
        "plt.show()\n",
        "\n",
        "X_cdf=stats.binom.cdf(X,n,p)\n",
        "plt.plot(X,X_cdf)\n",
        "plt.show()\n"
      ],
      "metadata": {
        "id": "4t_UFPlR9ERt"
      },
      "execution_count": null,
      "outputs": []
    }
  ]
}