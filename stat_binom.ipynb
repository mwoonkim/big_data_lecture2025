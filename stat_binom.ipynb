{
  "nbformat": 4,
  "nbformat_minor": 0,
  "metadata": {
    "colab": {
      "provenance": [],
      "mount_file_id": "1z_6bEqslMfVF51oiQrqS9GoqFEkd83FV",
      "authorship_tag": "ABX9TyPXjECbSze46IKRl1PCp9ck",
      "include_colab_link": true
    },
    "kernelspec": {
      "name": "python3",
      "display_name": "Python 3"
    },
    "language_info": {
      "name": "python"
    }
  },
  "cells": [
    {
      "cell_type": "markdown",
      "metadata": {
        "id": "view-in-github",
        "colab_type": "text"
      },
      "source": [
        "<a href=\"https://colab.research.google.com/github/mwoonkim/big_data_lecture2025/blob/main/stat_binom.ipynb\" target=\"_parent\"><img src=\"https://colab.research.google.com/assets/colab-badge.svg\" alt=\"Open In Colab\"/></a>"
      ]
    },
    {
      "cell_type": "code",
      "execution_count": 11,
      "metadata": {
        "id": "2t_9ZBdAhrzY"
      },
      "outputs": [],
      "source": [
        "from scipy import stats\n",
        "import numpy as np\n",
        "import matplotlib.pyplot as plt\n"
      ]
    },
    {
      "cell_type": "code",
      "source": [
        "height2=np.random.normal(0,1,(250,4))\n",
        "plt.hist(height2, bins=100, density=True, histtype='step')"
      ],
      "metadata": {
        "id": "0fd3pmnMbk5p"
      },
      "execution_count": null,
      "outputs": []
    },
    {
      "cell_type": "code",
      "source": [
        "n_obj=stats.norm(0,1)\n",
        "N=1000\n",
        "X=n_obj.rvs(N)\n",
        "line=np.linspace(min(X),max(X),100)\n",
        "pdf=n_obj.pdf(line)\n",
        "cdf=n_obj.cdf(line)\n",
        "\n",
        "plt.hist(X,bins='auto',density=True)\n",
        "plt.plot(line,pdf,color='red')\n",
        "plt.plot(line,cdf,color='blue')\n",
        "plt.show()"
      ],
      "metadata": {
        "id": "frQIEKVafh6O"
      },
      "execution_count": null,
      "outputs": []
    },
    {
      "cell_type": "code",
      "source": [
        "ans=stats.f.ppf(0.95, 5,2)\n",
        "print(ans)"
      ],
      "metadata": {
        "id": "Kvnly8yy1q_0"
      },
      "execution_count": null,
      "outputs": []
    }
  ]
}