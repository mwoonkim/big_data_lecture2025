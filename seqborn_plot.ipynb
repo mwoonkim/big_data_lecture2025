{
  "nbformat": 4,
  "nbformat_minor": 0,
  "metadata": {
    "colab": {
      "provenance": [],
      "mount_file_id": "1egPx5iM05ZRwTwz1mrsRyZ0n14lGTLyD",
      "authorship_tag": "ABX9TyNESxLfD5AWRvAo0/eMF9EY",
      "include_colab_link": true
    },
    "kernelspec": {
      "name": "python3",
      "display_name": "Python 3"
    },
    "language_info": {
      "name": "python"
    }
  },
  "cells": [
    {
      "cell_type": "markdown",
      "metadata": {
        "id": "view-in-github",
        "colab_type": "text"
      },
      "source": [
        "<a href=\"https://colab.research.google.com/github/mwoonkim/big_data_lecture2025/blob/main/seqborn_plot.ipynb\" target=\"_parent\"><img src=\"https://colab.research.google.com/assets/colab-badge.svg\" alt=\"Open In Colab\"/></a>"
      ]
    },
    {
      "cell_type": "markdown",
      "source": [
        "**Seaborn의 style 종류 : darkgrid, whitegrid, dark, white, ticks**\n",
        "\n",
        "Code Source: https://seaborn.pydata.org/examples/index.html"
      ],
      "metadata": {
        "id": "Rgmn1QuLGdnj"
      }
    },
    {
      "cell_type": "markdown",
      "source": [
        "Anscombe's Quartet"
      ],
      "metadata": {
        "id": "Ahvhya_CJWRP"
      }
    },
    {
      "cell_type": "code",
      "execution_count": null,
      "metadata": {
        "id": "30wkOp6bE_4p"
      },
      "outputs": [],
      "source": [
        "import seaborn as sns\n",
        "sns.set_theme(style=\"ticks\")\n",
        "\n",
        "# Load the example dataset for Anscombe's quartet\n",
        "df = sns.load_dataset(\"anscombe\")\n",
        "\n",
        "# Show the results of a linear regression within each dataset\n",
        "sns.lmplot(\n",
        "    data=df, x=\"x\", y=\"y\", col=\"dataset\", hue=\"dataset\",\n",
        "    col_wrap=2, palette=\"muted\", ci=None,\n",
        "    height=4, scatter_kws={\"s\": 50, \"alpha\": 1}\n",
        ")"
      ]
    },
    {
      "cell_type": "markdown",
      "source": [
        "Scatterplot with multiple semantics"
      ],
      "metadata": {
        "id": "zuAMdOeRJf1n"
      }
    },
    {
      "cell_type": "code",
      "source": [
        "import seaborn as sns\n",
        "import matplotlib.pyplot as plt\n",
        "sns.set_theme(style=\"whitegrid\")\n",
        "\n",
        "# Load the example diamonds dataset\n",
        "diamonds = sns.load_dataset(\"diamonds\")\n",
        "\n",
        "# Draw a scatter plot while assigning point colors and sizes to different\n",
        "# variables in the dataset\n",
        "f, ax = plt.subplots(figsize=(6.5, 6.5))\n",
        "sns.despine(f, left=True, bottom=True)\n",
        "clarity_ranking = [\"I1\", \"SI2\", \"SI1\", \"VS2\", \"VS1\", \"VVS2\", \"VVS1\", \"IF\"]\n",
        "sns.scatterplot(x=\"carat\", y=\"price\",\n",
        "                hue=\"clarity\", size=\"depth\",\n",
        "                palette=\"ch:r=-.2,d=.3_r\",\n",
        "                hue_order=clarity_ranking,\n",
        "                sizes=(1, 8), linewidth=0,\n",
        "                data=diamonds, ax=ax)"
      ],
      "metadata": {
        "id": "BuR3ndMjF9ym"
      },
      "execution_count": null,
      "outputs": []
    },
    {
      "cell_type": "markdown",
      "source": [
        "Timeseries plot with error bands"
      ],
      "metadata": {
        "id": "GzHXGXFpJl9B"
      }
    },
    {
      "cell_type": "code",
      "source": [
        "import seaborn as sns\n",
        "sns.set_theme(style=\"darkgrid\")\n",
        "\n",
        "# Load an example dataset with long-form data\n",
        "fmri = sns.load_dataset(\"fmri\")\n",
        "\n",
        "# Plot the responses for different events and regions\n",
        "sns.lineplot(x=\"timepoint\", y=\"signal\",\n",
        "             hue=\"region\", style=\"event\",\n",
        "             data=fmri)"
      ],
      "metadata": {
        "id": "LHSKbUHhGCDc"
      },
      "execution_count": null,
      "outputs": []
    },
    {
      "cell_type": "markdown",
      "source": [
        "Facetting hisograms by subsets of data"
      ],
      "metadata": {
        "id": "QxtMTnd-JrXp"
      }
    },
    {
      "cell_type": "code",
      "source": [
        "import seaborn as sns\n",
        "\n",
        "sns.set_theme(style=\"darkgrid\")\n",
        "df = sns.load_dataset(\"penguins\")\n",
        "sns.displot(\n",
        "    df, x=\"flipper_length_mm\", col=\"species\", row=\"sex\",\n",
        "    binwidth=3, height=3, facet_kws=dict(margin_titles=True),\n",
        ")"
      ],
      "metadata": {
        "id": "I4ZNWr_rGyvy"
      },
      "execution_count": null,
      "outputs": []
    },
    {
      "cell_type": "markdown",
      "source": [
        "Line plots on multiple facets"
      ],
      "metadata": {
        "id": "1BgP5Z4aJyNd"
      }
    },
    {
      "cell_type": "code",
      "source": [
        "import seaborn as sns\n",
        "sns.set_theme(style=\"ticks\")\n",
        "\n",
        "dots = sns.load_dataset(\"dots\")\n",
        "\n",
        "# Define the palette as a list to specify exact values\n",
        "palette = sns.color_palette(\"rocket_r\")\n",
        "\n",
        "# Plot the lines on two facets\n",
        "sns.relplot(\n",
        "    data=dots,\n",
        "    x=\"time\", y=\"firing_rate\",\n",
        "    hue=\"coherence\", size=\"choice\", col=\"align\",\n",
        "    kind=\"line\", size_order=[\"T1\", \"T2\"], palette=palette,\n",
        "    height=5, aspect=.75, facet_kws=dict(sharex=False),\n",
        ")"
      ],
      "metadata": {
        "id": "4zrQm_VoG7Ab"
      },
      "execution_count": null,
      "outputs": []
    },
    {
      "cell_type": "markdown",
      "source": [
        "Grouped Barplots"
      ],
      "metadata": {
        "id": "A21E4YN8J14_"
      }
    },
    {
      "cell_type": "code",
      "source": [
        "import seaborn as sns\n",
        "sns.set_theme(style=\"whitegrid\")\n",
        "\n",
        "penguins = sns.load_dataset(\"penguins\")\n",
        "\n",
        "# Draw a nested barplot by species and sex\n",
        "g = sns.catplot(\n",
        "    data=penguins, kind=\"bar\",\n",
        "    x=\"species\", y=\"body_mass_g\", hue=\"sex\",\n",
        "    errorbar=\"sd\", palette=\"dark\", alpha=.6, height=6\n",
        ")\n",
        "g.despine(left=True)\n",
        "g.set_axis_labels(\"\", \"Body mass (g)\")\n",
        "g.legend.set_title(\"\")"
      ],
      "metadata": {
        "id": "3DkGsAbUG_In"
      },
      "execution_count": null,
      "outputs": []
    },
    {
      "cell_type": "markdown",
      "source": [
        "Grouped Boxplots"
      ],
      "metadata": {
        "id": "Uh3lxEO-J6n7"
      }
    },
    {
      "cell_type": "code",
      "source": [
        "import seaborn as sns\n",
        "sns.set_theme(style=\"ticks\", palette=\"pastel\")\n",
        "\n",
        "# Load the example tips dataset\n",
        "tips = sns.load_dataset(\"tips\")\n",
        "\n",
        "# Draw a nested boxplot to show bills by day and time\n",
        "sns.boxplot(x=\"day\", y=\"total_bill\",\n",
        "            hue=\"smoker\", palette=[\"m\", \"g\"],\n",
        "            data=tips)\n",
        "sns.despine(offset=10, trim=True)"
      ],
      "metadata": {
        "id": "es6fEaowHEH2"
      },
      "execution_count": null,
      "outputs": []
    },
    {
      "cell_type": "markdown",
      "source": [
        "Grouped Violinplots with split violins"
      ],
      "metadata": {
        "id": "5qoeb5b-KBIW"
      }
    },
    {
      "cell_type": "code",
      "source": [
        "import seaborn as sns\n",
        "sns.set_theme(style=\"dark\")\n",
        "\n",
        "# Load the example tips dataset\n",
        "tips = sns.load_dataset(\"tips\")\n",
        "\n",
        "# Draw a nested violinplot and split the violins for easier comparison\n",
        "sns.violinplot(data=tips, x=\"day\", y=\"total_bill\", hue=\"smoker\",\n",
        "               split=True, inner=\"quart\", fill=False,\n",
        "               palette={\"Yes\": \"g\", \"No\": \".35\"})"
      ],
      "metadata": {
        "id": "WODeG7YJHIO6"
      },
      "execution_count": null,
      "outputs": []
    },
    {
      "cell_type": "markdown",
      "source": [
        "Scatterplot Heatmap"
      ],
      "metadata": {
        "id": "0YywC1OyKF-R"
      }
    },
    {
      "cell_type": "code",
      "source": [
        "import seaborn as sns\n",
        "sns.set_theme(style=\"whitegrid\")\n",
        "\n",
        "# Load the brain networks dataset, select subset, and collapse the multi-index\n",
        "df = sns.load_dataset(\"brain_networks\", header=[0, 1, 2], index_col=0)\n",
        "\n",
        "used_networks = [1, 5, 6, 7, 8, 12, 13, 17]\n",
        "used_columns = (df.columns\n",
        "                  .get_level_values(\"network\")\n",
        "                  .astype(int)\n",
        "                  .isin(used_networks))\n",
        "df = df.loc[:, used_columns]\n",
        "\n",
        "df.columns = df.columns.map(\"-\".join)\n",
        "\n",
        "# Compute a correlation matrix and convert to long-form\n",
        "corr_mat = df.corr().stack().reset_index(name=\"correlation\")\n",
        "\n",
        "# Draw each cell as a scatter point with varying size and color\n",
        "g = sns.relplot(\n",
        "    data=corr_mat,\n",
        "    x=\"level_0\", y=\"level_1\", hue=\"correlation\", size=\"correlation\",\n",
        "    palette=\"vlag\", hue_norm=(-1, 1), edgecolor=\".7\",\n",
        "    height=10, sizes=(50, 250), size_norm=(-.2, .8),\n",
        ")\n",
        "\n",
        "# Tweak the figure to finalize\n",
        "g.set(xlabel=\"\", ylabel=\"\", aspect=\"equal\")\n",
        "g.despine(left=True, bottom=True)\n",
        "g.ax.margins(.02)\n",
        "for label in g.ax.get_xticklabels():\n",
        "    label.set_rotation(90)"
      ],
      "metadata": {
        "id": "4TNu5QVoHLgp"
      },
      "execution_count": null,
      "outputs": []
    },
    {
      "cell_type": "markdown",
      "source": [
        "Hexbin plot with marginal distributions"
      ],
      "metadata": {
        "id": "2zYAN5JhKKav"
      }
    },
    {
      "cell_type": "code",
      "source": [
        "import numpy as np\n",
        "import seaborn as sns\n",
        "sns.set_theme(style=\"ticks\")\n",
        "\n",
        "rs = np.random.RandomState(11)\n",
        "x = rs.gamma(2, size=1000)\n",
        "y = -.5 * x + rs.normal(size=1000)\n",
        "\n",
        "sns.jointplot(x=x, y=y, kind=\"hex\", color=\"#4CB391\")"
      ],
      "metadata": {
        "id": "UXj-MsiHHRyL"
      },
      "execution_count": null,
      "outputs": []
    },
    {
      "cell_type": "markdown",
      "source": [
        "Stacked Histogram on a log scale"
      ],
      "metadata": {
        "id": "toOpH3DVKPvG"
      }
    },
    {
      "cell_type": "code",
      "source": [
        "import seaborn as sns\n",
        "import matplotlib as mpl\n",
        "import matplotlib.pyplot as plt\n",
        "\n",
        "sns.set_theme(style=\"ticks\")\n",
        "\n",
        "diamonds = sns.load_dataset(\"diamonds\")\n",
        "\n",
        "f, ax = plt.subplots(figsize=(7, 5))\n",
        "sns.despine(f)\n",
        "\n",
        "sns.histplot(\n",
        "    diamonds,\n",
        "    x=\"price\", hue=\"cut\",\n",
        "    multiple=\"stack\",\n",
        "    palette=\"light:m_r\",\n",
        "    edgecolor=\".3\",\n",
        "    linewidth=.5,\n",
        "    log_scale=True,\n",
        ")\n",
        "ax.xaxis.set_major_formatter(mpl.ticker.ScalarFormatter())\n",
        "ax.set_xticks([500, 1000, 2000, 5000, 10000])"
      ],
      "metadata": {
        "id": "50VQqfQaHWq5"
      },
      "execution_count": null,
      "outputs": []
    },
    {
      "cell_type": "markdown",
      "source": [
        "Horizontal Boxplot with Observations"
      ],
      "metadata": {
        "id": "F1s2ihlGKUWT"
      }
    },
    {
      "cell_type": "code",
      "source": [
        "import seaborn as sns\n",
        "import matplotlib.pyplot as plt\n",
        "\n",
        "sns.set_theme(style=\"ticks\")\n",
        "\n",
        "# Initialize the figure with a logarithmic x axis\n",
        "f, ax = plt.subplots(figsize=(7, 6))\n",
        "ax.set_xscale(\"log\")\n",
        "\n",
        "# Load the example planets dataset\n",
        "planets = sns.load_dataset(\"planets\")\n",
        "\n",
        "# Plot the orbital period with horizontal boxes\n",
        "sns.boxplot(\n",
        "    planets, x=\"distance\", y=\"method\", hue=\"method\",\n",
        "    whis=[0, 100], width=.6, palette=\"vlag\"\n",
        ")\n",
        "\n",
        "# Add in points to show each observation\n",
        "sns.stripplot(planets, x=\"distance\", y=\"method\", size=4, color=\".3\")\n",
        "\n",
        "# Tweak the visual presentation\n",
        "ax.xaxis.grid(True)\n",
        "ax.set(ylabel=\"\")\n",
        "sns.despine(trim=True, left=True)"
      ],
      "metadata": {
        "id": "siCUfZTkHbpt"
      },
      "execution_count": null,
      "outputs": []
    },
    {
      "cell_type": "markdown",
      "source": [
        "Conditional means with observations"
      ],
      "metadata": {
        "id": "rmzZHynxKZz3"
      }
    },
    {
      "cell_type": "code",
      "source": [
        "import seaborn as sns\n",
        "import matplotlib.pyplot as plt\n",
        "\n",
        "sns.set_theme(style=\"whitegrid\")\n",
        "iris = sns.load_dataset(\"iris\")\n",
        "\n",
        "# \"Melt\" the dataset to \"long-form\" or \"tidy\" representation\n",
        "iris = iris.melt(id_vars=\"species\", var_name=\"measurement\")\n",
        "\n",
        "# Initialize the figure\n",
        "f, ax = plt.subplots()\n",
        "sns.despine(bottom=True, left=True)\n",
        "\n",
        "# Show each observation with a scatterplot\n",
        "sns.stripplot(\n",
        "    data=iris, x=\"value\", y=\"measurement\", hue=\"species\",\n",
        "    dodge=True, alpha=.25, zorder=1, legend=False,\n",
        ")\n",
        "\n",
        "# Show the conditional means, aligning each pointplot in the\n",
        "# center of the strips by adjusting the width allotted to each\n",
        "# category (.8 by default) by the number of hue levels\n",
        "sns.pointplot(\n",
        "    data=iris, x=\"value\", y=\"measurement\", hue=\"species\",\n",
        "    dodge=.8 - .8 / 3, palette=\"dark\", errorbar=None,\n",
        "    markers=\"d\", markersize=4, linestyle=\"none\",\n",
        ")\n",
        "\n",
        "# Improve the legend\n",
        "sns.move_legend(\n",
        "    ax, loc=\"lower right\", ncol=3, frameon=True, columnspacing=1, handletextpad=0,\n",
        ")"
      ],
      "metadata": {
        "id": "EZx7Wz2kHg_V"
      },
      "execution_count": null,
      "outputs": []
    },
    {
      "cell_type": "markdown",
      "source": [
        "Joint and Marginal Histograms"
      ],
      "metadata": {
        "id": "vGKivaeBKeti"
      }
    },
    {
      "cell_type": "code",
      "source": [
        "import seaborn as sns\n",
        "sns.set_theme(style=\"ticks\")\n",
        "\n",
        "# Load the planets dataset and initialize the figure\n",
        "planets = sns.load_dataset(\"planets\")\n",
        "g = sns.JointGrid(data=planets, x=\"year\", y=\"distance\", marginal_ticks=True)\n",
        "\n",
        "# Set a log scaling on the y axis\n",
        "g.ax_joint.set(yscale=\"log\")\n",
        "\n",
        "# Create an inset legend for the histogram colorbar\n",
        "cax = g.figure.add_axes([.15, .55, .02, .2])\n",
        "\n",
        "# Add the joint and marginal histogram plots\n",
        "g.plot_joint(\n",
        "    sns.histplot, discrete=(True, False),\n",
        "    cmap=\"light:#03012d\", pmax=.8, cbar=True, cbar_ax=cax\n",
        ")\n",
        "g.plot_marginals(sns.histplot, element=\"step\", color=\"#03012d\")"
      ],
      "metadata": {
        "id": "8Llz4bp_HqYt"
      },
      "execution_count": null,
      "outputs": []
    },
    {
      "cell_type": "markdown",
      "source": [
        "Joint KDE (Kernel Density Estimate)"
      ],
      "metadata": {
        "id": "4ErcUqP1KjD6"
      }
    },
    {
      "cell_type": "code",
      "source": [
        "import seaborn as sns\n",
        "sns.set_theme(style=\"ticks\")\n",
        "\n",
        "# Load the penguins dataset\n",
        "penguins = sns.load_dataset(\"penguins\")\n",
        "\n",
        "# Show the joint distribution using kernel density estimation\n",
        "g = sns.jointplot(\n",
        "    data=penguins,\n",
        "    x=\"bill_length_mm\", y=\"bill_depth_mm\", hue=\"species\",\n",
        "    kind=\"kde\",\n",
        ")"
      ],
      "metadata": {
        "id": "CuywvyUfHusT"
      },
      "execution_count": null,
      "outputs": []
    },
    {
      "cell_type": "markdown",
      "source": [
        "Ridge Plot (Overlapping Densities)"
      ],
      "metadata": {
        "id": "m98WC7LNKpRa"
      }
    },
    {
      "cell_type": "code",
      "source": [
        "import numpy as np\n",
        "import pandas as pd\n",
        "import seaborn as sns\n",
        "import matplotlib.pyplot as plt\n",
        "sns.set_theme(style=\"white\", rc={\"axes.facecolor\": (0, 0, 0, 0)})\n",
        "\n",
        "# Create the data\n",
        "rs = np.random.RandomState(1979)\n",
        "x = rs.randn(500)\n",
        "g = np.tile(list(\"ABCDEFGHIJ\"), 50)\n",
        "df = pd.DataFrame(dict(x=x, g=g))\n",
        "m = df.g.map(ord)\n",
        "df[\"x\"] += m\n",
        "\n",
        "# Initialize the FacetGrid object\n",
        "pal = sns.cubehelix_palette(10, rot=-.25, light=.7)\n",
        "g = sns.FacetGrid(df, row=\"g\", hue=\"g\", aspect=15, height=.5, palette=pal)\n",
        "\n",
        "# Draw the densities in a few steps\n",
        "g.map(sns.kdeplot, \"x\",\n",
        "      bw_adjust=.5, clip_on=False,\n",
        "      fill=True, alpha=1, linewidth=1.5)\n",
        "g.map(sns.kdeplot, \"x\", clip_on=False, color=\"w\", lw=2, bw_adjust=.5)\n",
        "\n",
        "# passing color=None to refline() uses the hue mapping\n",
        "g.refline(y=0, linewidth=2, linestyle=\"-\", color=None, clip_on=False)\n",
        "\n",
        "\n",
        "# Define and use a simple function to label the plot in axes coordinates\n",
        "def label(x, color, label):\n",
        "    ax = plt.gca()\n",
        "    ax.text(0, .2, label, fontweight=\"bold\", color=color,\n",
        "            ha=\"left\", va=\"center\", transform=ax.transAxes)\n",
        "\n",
        "\n",
        "g.map(label, \"x\")\n",
        "\n",
        "# Set the subplots to overlap\n",
        "g.figure.subplots_adjust(hspace=-.25)\n",
        "\n",
        "# Remove axes details that don't play well with overlap\n",
        "g.set_titles(\"\")\n",
        "g.set(yticks=[], ylabel=\"\")\n",
        "g.despine(bottom=True, left=True)"
      ],
      "metadata": {
        "id": "01nJZJJlH1ov"
      },
      "execution_count": null,
      "outputs": []
    },
    {
      "cell_type": "markdown",
      "source": [
        "Plotting Large Distributions"
      ],
      "metadata": {
        "id": "NrYIFh_gKuGN"
      }
    },
    {
      "cell_type": "code",
      "source": [
        "import seaborn as sns\n",
        "sns.set_theme(style=\"whitegrid\")\n",
        "\n",
        "diamonds = sns.load_dataset(\"diamonds\")\n",
        "clarity_ranking = [\"I1\", \"SI2\", \"SI1\", \"VS2\", \"VS1\", \"VVS2\", \"VVS1\", \"IF\"]\n",
        "\n",
        "sns.boxenplot(\n",
        "    diamonds, x=\"clarity\", y=\"carat\",\n",
        "    color=\"b\", order=clarity_ranking, width_method=\"linear\",\n",
        ")"
      ],
      "metadata": {
        "id": "gCB9Q0OMH9FX"
      },
      "execution_count": null,
      "outputs": []
    },
    {
      "cell_type": "markdown",
      "source": [
        "Bivariate Plot with Multiple Elements"
      ],
      "metadata": {
        "id": "nqOY5Y0QKzBd"
      }
    },
    {
      "cell_type": "code",
      "source": [
        "import numpy as np\n",
        "import seaborn as sns\n",
        "import matplotlib.pyplot as plt\n",
        "sns.set_theme(style=\"dark\")\n",
        "\n",
        "# Simulate data from a bivariate Gaussian\n",
        "n = 10000\n",
        "mean = [0, 0]\n",
        "cov = [(2, .4), (.4, .2)]\n",
        "rng = np.random.RandomState(0)\n",
        "x, y = rng.multivariate_normal(mean, cov, n).T\n",
        "\n",
        "# Draw a combo histogram and scatterplot with density contours\n",
        "f, ax = plt.subplots(figsize=(6, 6))\n",
        "sns.scatterplot(x=x, y=y, s=5, color=\".15\")\n",
        "sns.histplot(x=x, y=y, bins=50, pthresh=.1, cmap=\"mako\")\n",
        "sns.kdeplot(x=x, y=y, levels=5, color=\"w\", linewidths=1)"
      ],
      "metadata": {
        "id": "NZgA4AJ6IBfn"
      },
      "execution_count": null,
      "outputs": []
    },
    {
      "cell_type": "markdown",
      "source": [
        "Faceted logistic regression"
      ],
      "metadata": {
        "id": "q7YRr7_mK4J6"
      }
    },
    {
      "cell_type": "code",
      "source": [
        "import seaborn as sns\n",
        "sns.set_theme(style=\"darkgrid\")\n",
        "\n",
        "# Load the example Titanic dataset\n",
        "df = sns.load_dataset(\"titanic\")\n",
        "\n",
        "# Make a custom palette with gendered colors\n",
        "pal = dict(male=\"#6495ED\", female=\"#F08080\")\n",
        "\n",
        "# Show the survival probability as a function of age and sex\n",
        "g = sns.lmplot(x=\"age\", y=\"survived\", col=\"sex\", hue=\"sex\", data=df,\n",
        "               palette=pal, y_jitter=.02, logistic=True, truncate=False)\n",
        "g.set(xlim=(0, 80), ylim=(-.05, 1.05))"
      ],
      "metadata": {
        "id": "HrCEe8E8IHq7"
      },
      "execution_count": null,
      "outputs": []
    },
    {
      "cell_type": "markdown",
      "source": [
        "Plotting on a Large number of Facets"
      ],
      "metadata": {
        "id": "eU4qx9FqK-Ns"
      }
    },
    {
      "cell_type": "code",
      "source": [
        "import numpy as np\n",
        "import pandas as pd\n",
        "import seaborn as sns\n",
        "import matplotlib.pyplot as plt\n",
        "\n",
        "sns.set_theme(style=\"ticks\")\n",
        "\n",
        "# Create a dataset with many short random walks\n",
        "rs = np.random.RandomState(4)\n",
        "pos = rs.randint(-1, 2, (20, 5)).cumsum(axis=1)\n",
        "pos -= pos[:, 0, np.newaxis]\n",
        "step = np.tile(range(5), 20)\n",
        "walk = np.repeat(range(20), 5)\n",
        "df = pd.DataFrame(np.c_[pos.flat, step, walk],\n",
        "                  columns=[\"position\", \"step\", \"walk\"])\n",
        "\n",
        "# Initialize a grid of plots with an Axes for each walk\n",
        "grid = sns.FacetGrid(df, col=\"walk\", hue=\"walk\", palette=\"tab20c\",\n",
        "                     col_wrap=4, height=1.5)\n",
        "\n",
        "# Draw a horizontal line to show the starting point\n",
        "grid.refline(y=0, linestyle=\":\")\n",
        "\n",
        "# Draw a line plot to show the trajectory of each random walk\n",
        "grid.map(plt.plot, \"step\", \"position\", marker=\"o\")\n",
        "\n",
        "# Adjust the tick positions and labels\n",
        "grid.set(xticks=np.arange(5), yticks=[-3, 3],\n",
        "         xlim=(-.5, 4.5), ylim=(-3.5, 3.5))\n",
        "\n",
        "# Adjust the arrangement of the plots\n",
        "grid.fig.tight_layout(w_pad=1)"
      ],
      "metadata": {
        "id": "-AeRZzQuILoT"
      },
      "execution_count": null,
      "outputs": []
    },
    {
      "cell_type": "markdown",
      "source": [
        "Plotting a Diagonal Correlation Matrix"
      ],
      "metadata": {
        "id": "pVFFEIuQLFiK"
      }
    },
    {
      "cell_type": "code",
      "source": [
        "from string import ascii_letters\n",
        "import numpy as np\n",
        "import pandas as pd\n",
        "import seaborn as sns\n",
        "import matplotlib.pyplot as plt\n",
        "\n",
        "sns.set_theme(style=\"white\")\n",
        "\n",
        "# Generate a large random dataset\n",
        "rs = np.random.RandomState(33)\n",
        "d = pd.DataFrame(data=rs.normal(size=(100, 26)),\n",
        "                 columns=list(ascii_letters[26:]))\n",
        "\n",
        "# Compute the correlation matrix\n",
        "corr = d.corr()\n",
        "\n",
        "# Generate a mask for the upper triangle\n",
        "mask = np.triu(np.ones_like(corr, dtype=bool))\n",
        "\n",
        "# Set up the matplotlib figure\n",
        "f, ax = plt.subplots(figsize=(11, 9))\n",
        "\n",
        "# Generate a custom diverging colormap\n",
        "cmap = sns.diverging_palette(230, 20, as_cmap=True)\n",
        "\n",
        "# Draw the heatmap with the mask and correct aspect ratio\n",
        "sns.heatmap(corr, mask=mask, cmap=cmap, vmax=.3, center=0,\n",
        "            square=True, linewidths=.5, cbar_kws={\"shrink\": .5})"
      ],
      "metadata": {
        "id": "-1qjzqu6IVtZ"
      },
      "execution_count": null,
      "outputs": []
    },
    {
      "cell_type": "markdown",
      "source": [
        "Scatterplot with marginal ticks"
      ],
      "metadata": {
        "id": "3Gej4wn_LKli"
      }
    },
    {
      "cell_type": "code",
      "source": [
        "import seaborn as sns\n",
        "sns.set_theme(style=\"white\", color_codes=True)\n",
        "mpg = sns.load_dataset(\"mpg\")\n",
        "\n",
        "# Use JointGrid directly to draw a custom plot\n",
        "g = sns.JointGrid(data=mpg, x=\"mpg\", y=\"acceleration\", space=0, ratio=17)\n",
        "g.plot_joint(sns.scatterplot, size=mpg[\"horsepower\"], sizes=(30, 120),\n",
        "             color=\"g\", alpha=.6, legend=False)\n",
        "g.plot_marginals(sns.rugplot, height=1, color=\"g\", alpha=.6)"
      ],
      "metadata": {
        "id": "DB_3mwDtIZ9L"
      },
      "execution_count": null,
      "outputs": []
    },
    {
      "cell_type": "markdown",
      "source": [
        "Multiple bivariate KDE plots"
      ],
      "metadata": {
        "id": "IoYbu80OLO_B"
      }
    },
    {
      "cell_type": "code",
      "source": [
        "import seaborn as sns\n",
        "import matplotlib.pyplot as plt\n",
        "\n",
        "sns.set_theme(style=\"darkgrid\")\n",
        "iris = sns.load_dataset(\"iris\")\n",
        "\n",
        "# Set up the figure\n",
        "f, ax = plt.subplots(figsize=(8, 8))\n",
        "ax.set_aspect(\"equal\")\n",
        "\n",
        "# Draw a contour plot to represent each bivariate density\n",
        "sns.kdeplot(\n",
        "    data=iris.query(\"species != 'versicolor'\"),\n",
        "    x=\"sepal_width\",\n",
        "    y=\"sepal_length\",\n",
        "    hue=\"species\",\n",
        "    thresh=.1,\n",
        ")"
      ],
      "metadata": {
        "id": "eWGJtQ0-IdFB"
      },
      "execution_count": null,
      "outputs": []
    },
    {
      "cell_type": "markdown",
      "source": [
        "Conditional KDE"
      ],
      "metadata": {
        "id": "C31jlNi5LVJ1"
      }
    },
    {
      "cell_type": "code",
      "source": [
        "import seaborn as sns\n",
        "sns.set_theme(style=\"whitegrid\")\n",
        "\n",
        "# Load the diamonds dataset\n",
        "diamonds = sns.load_dataset(\"diamonds\")\n",
        "\n",
        "# Plot the distribution of clarity ratings, conditional on carat\n",
        "sns.displot(\n",
        "    data=diamonds,\n",
        "    x=\"carat\", hue=\"cut\",\n",
        "    kind=\"kde\", height=6,\n",
        "    multiple=\"fill\", clip=(0, None),\n",
        "    palette=\"ch:rot=-.25,hue=1,light=.75\",\n",
        ")"
      ],
      "metadata": {
        "id": "wrAr0EQiIguX"
      },
      "execution_count": null,
      "outputs": []
    },
    {
      "cell_type": "markdown",
      "source": [
        "Facetted ECDF Plots"
      ],
      "metadata": {
        "id": "e_P4Dz_ALZEO"
      }
    },
    {
      "cell_type": "code",
      "source": [
        "import seaborn as sns\n",
        "sns.set_theme(style=\"ticks\")\n",
        "mpg = sns.load_dataset(\"mpg\")\n",
        "\n",
        "colors = (250, 70, 50), (350, 70, 50)\n",
        "cmap = sns.blend_palette(colors, input=\"husl\", as_cmap=True)\n",
        "sns.displot(\n",
        "    mpg,\n",
        "    x=\"displacement\", col=\"origin\", hue=\"model_year\",\n",
        "    kind=\"ecdf\", aspect=.75, linewidth=2, palette=cmap,\n",
        ")"
      ],
      "metadata": {
        "id": "iIrRkJkyIlKQ"
      },
      "execution_count": null,
      "outputs": []
    },
    {
      "cell_type": "markdown",
      "source": [
        "Multiple Linear Regression"
      ],
      "metadata": {
        "id": "LRx0MI1wLdCB"
      }
    },
    {
      "cell_type": "code",
      "source": [
        "import seaborn as sns\n",
        "sns.set_theme()\n",
        "\n",
        "# Load the penguins dataset\n",
        "penguins = sns.load_dataset(\"penguins\")\n",
        "\n",
        "# Plot sepal width as a function of sepal_length across days\n",
        "g = sns.lmplot(\n",
        "    data=penguins,\n",
        "    x=\"bill_length_mm\", y=\"bill_depth_mm\", hue=\"species\",\n",
        "    height=5\n",
        ")\n",
        "\n",
        "# Use more informative axis labels than are provided by default\n",
        "g.set_axis_labels(\"Snoot length (mm)\", \"Snoot depth (mm)\")"
      ],
      "metadata": {
        "id": "WK9gPnOPIpKr"
      },
      "execution_count": null,
      "outputs": []
    },
    {
      "cell_type": "markdown",
      "source": [
        "Paired Density and Scatterplot Matrix"
      ],
      "metadata": {
        "id": "RVh84NM2LhWC"
      }
    },
    {
      "cell_type": "code",
      "source": [
        "import seaborn as sns\n",
        "sns.set_theme(style=\"white\")\n",
        "\n",
        "df = sns.load_dataset(\"penguins\")\n",
        "\n",
        "g = sns.PairGrid(df, diag_sharey=False)\n",
        "g.map_upper(sns.scatterplot, s=15)\n",
        "g.map_lower(sns.kdeplot)\n",
        "g.map_diag(sns.kdeplot, lw=2)"
      ],
      "metadata": {
        "id": "0qElr0vDItE9"
      },
      "execution_count": null,
      "outputs": []
    },
    {
      "cell_type": "markdown",
      "source": [
        "Paired Categorical Plots"
      ],
      "metadata": {
        "id": "527s_ZP3LoM-"
      }
    },
    {
      "cell_type": "code",
      "source": [
        "import seaborn as sns\n",
        "sns.set_theme(style=\"whitegrid\")\n",
        "\n",
        "# Load the example Titanic dataset\n",
        "titanic = sns.load_dataset(\"titanic\")\n",
        "\n",
        "# Set up a grid to plot survival probability against several variables\n",
        "g = sns.PairGrid(titanic, y_vars=\"survived\",\n",
        "                 x_vars=[\"class\", \"sex\", \"who\", \"alone\"],\n",
        "                 height=5, aspect=.5)\n",
        "\n",
        "# Draw a seaborn pointplot onto each Axes\n",
        "g.map(sns.pointplot, color=\"xkcd:plum\")\n",
        "g.set(ylim=(0, 1))\n",
        "sns.despine(fig=g.fig, left=True)"
      ],
      "metadata": {
        "id": "V9oVIAL7Ix73"
      },
      "execution_count": null,
      "outputs": []
    },
    {
      "cell_type": "markdown",
      "source": [
        "Dot Plot with several variables"
      ],
      "metadata": {
        "id": "hmMxJs2CLq29"
      }
    },
    {
      "cell_type": "code",
      "source": [
        "import seaborn as sns\n",
        "sns.set_theme(style=\"whitegrid\")\n",
        "\n",
        "# Load the dataset\n",
        "crashes = sns.load_dataset(\"car_crashes\")\n",
        "\n",
        "# Make the PairGrid\n",
        "g = sns.PairGrid(crashes.sort_values(\"total\", ascending=False),\n",
        "                 x_vars=crashes.columns[:-3], y_vars=[\"abbrev\"],\n",
        "                 height=10, aspect=.25)\n",
        "\n",
        "# Draw a dot plot using the stripplot function\n",
        "g.map(sns.stripplot, size=10, orient=\"h\", jitter=False,\n",
        "      palette=\"flare_r\", linewidth=1, edgecolor=\"w\")\n",
        "\n",
        "# Use the same x axis limits on all columns and add better labels\n",
        "g.set(xlim=(0, 25), xlabel=\"Crashes\", ylabel=\"\")\n",
        "\n",
        "# Use semantically meaningful titles for the columns\n",
        "titles = [\"Total crashes\", \"Speeding crashes\", \"Alcohol crashes\",\n",
        "          \"Not distracted crashes\", \"No previous crashes\"]\n",
        "\n",
        "for ax, title in zip(g.axes.flat, titles):\n",
        "\n",
        "    # Set a different title for each axes\n",
        "    ax.set(title=title)\n",
        "\n",
        "    # Make the grid horizontal instead of vertical\n",
        "    ax.xaxis.grid(False)\n",
        "    ax.yaxis.grid(True)\n",
        "\n",
        "sns.despine(left=True, bottom=True)"
      ],
      "metadata": {
        "id": "RLDrpBBvI12_"
      },
      "execution_count": null,
      "outputs": []
    },
    {
      "cell_type": "markdown",
      "source": [
        "Color Palette Choices"
      ],
      "metadata": {
        "id": "lDnuxxYQLvjg"
      }
    },
    {
      "cell_type": "code",
      "source": [
        "import numpy as np\n",
        "import seaborn as sns\n",
        "import matplotlib.pyplot as plt\n",
        "sns.set_theme(style=\"white\", context=\"talk\")\n",
        "rs = np.random.RandomState(8)\n",
        "\n",
        "# Set up the matplotlib figure\n",
        "f, (ax1, ax2, ax3) = plt.subplots(3, 1, figsize=(7, 5), sharex=True)\n",
        "\n",
        "# Generate some sequential data\n",
        "x = np.array(list(\"ABCDEFGHIJ\"))\n",
        "y1 = np.arange(1, 11)\n",
        "sns.barplot(x=x, y=y1, hue=x, palette=\"rocket\", ax=ax1)\n",
        "ax1.axhline(0, color=\"k\", clip_on=False)\n",
        "ax1.set_ylabel(\"Sequential\")\n",
        "\n",
        "# Center the data to make it diverging\n",
        "y2 = y1 - 5.5\n",
        "sns.barplot(x=x, y=y2, hue=x, palette=\"vlag\", ax=ax2)\n",
        "ax2.axhline(0, color=\"k\", clip_on=False)\n",
        "ax2.set_ylabel(\"Diverging\")\n",
        "\n",
        "# Randomly reorder the data to make it qualitative\n",
        "y3 = rs.choice(y1, len(y1), replace=False)\n",
        "sns.barplot(x=x, y=y3, hue=x, palette=\"deep\", ax=ax3)\n",
        "ax3.axhline(0, color=\"k\", clip_on=False)\n",
        "ax3.set_ylabel(\"Qualitative\")\n",
        "\n",
        "# Finalize the plot\n",
        "sns.despine(bottom=True)\n",
        "plt.setp(f.axes, yticks=[])\n",
        "plt.tight_layout(h_pad=2)"
      ],
      "metadata": {
        "id": "-hTOL2rII8tu"
      },
      "execution_count": null,
      "outputs": []
    },
    {
      "cell_type": "markdown",
      "source": [
        "Different Cubehelix Palettes"
      ],
      "metadata": {
        "id": "rfsp1MT3LzWQ"
      }
    },
    {
      "cell_type": "code",
      "source": [
        "import numpy as np\n",
        "import seaborn as sns\n",
        "import matplotlib.pyplot as plt\n",
        "\n",
        "sns.set_theme(style=\"white\")\n",
        "rs = np.random.RandomState(50)\n",
        "\n",
        "# Set up the matplotlib figure\n",
        "f, axes = plt.subplots(3, 3, figsize=(9, 9), sharex=True, sharey=True)\n",
        "\n",
        "# Rotate the starting point around the cubehelix hue circle\n",
        "for ax, s in zip(axes.flat, np.linspace(0, 3, 10)):\n",
        "\n",
        "    # Create a cubehelix colormap to use with kdeplot\n",
        "    cmap = sns.cubehelix_palette(start=s, light=1, as_cmap=True)\n",
        "\n",
        "    # Generate and plot a random bivariate dataset\n",
        "    x, y = rs.normal(size=(2, 50))\n",
        "    sns.kdeplot(\n",
        "        x=x, y=y,\n",
        "        cmap=cmap, fill=True,\n",
        "        clip=(-5, 5), cut=10,\n",
        "        thresh=0, levels=15,\n",
        "        ax=ax,\n",
        "    )\n",
        "    ax.set_axis_off()\n",
        "\n",
        "ax.set(xlim=(-3.5, 3.5), ylim=(-3.5, 3.5))\n",
        "f.subplots_adjust(0, 0, 1, 1, .08, .08)"
      ],
      "metadata": {
        "id": "0QEZjxx5JA-d"
      },
      "execution_count": null,
      "outputs": []
    },
    {
      "cell_type": "markdown",
      "source": [
        "Horizontal Bar Plots"
      ],
      "metadata": {
        "id": "9hjkqQsQL3jK"
      }
    },
    {
      "cell_type": "code",
      "source": [
        "import seaborn as sns\n",
        "import matplotlib.pyplot as plt\n",
        "sns.set_theme(style=\"whitegrid\")\n",
        "\n",
        "# Initialize the matplotlib figure\n",
        "f, ax = plt.subplots(figsize=(6, 15))\n",
        "\n",
        "# Load the example car crash dataset\n",
        "crashes = sns.load_dataset(\"car_crashes\").sort_values(\"total\", ascending=False)\n",
        "\n",
        "# Plot the total crashes\n",
        "sns.set_color_codes(\"pastel\")\n",
        "sns.barplot(x=\"total\", y=\"abbrev\", data=crashes,\n",
        "            label=\"Total\", color=\"b\")\n",
        "\n",
        "# Plot the crashes where alcohol was involved\n",
        "sns.set_color_codes(\"muted\")\n",
        "sns.barplot(x=\"alcohol\", y=\"abbrev\", data=crashes,\n",
        "            label=\"Alcohol-involved\", color=\"b\")\n",
        "\n",
        "# Add a legend and informative axis label\n",
        "ax.legend(ncol=2, loc=\"lower right\", frameon=True)\n",
        "ax.set(xlim=(0, 24), ylabel=\"\",\n",
        "       xlabel=\"Automobile collisions per billion miles\")\n",
        "sns.despine(left=True, bottom=True)"
      ],
      "metadata": {
        "id": "MalaL1xyJH9h"
      },
      "execution_count": null,
      "outputs": []
    },
    {
      "cell_type": "markdown",
      "source": [
        "Plotting a 3-way ANOVA"
      ],
      "metadata": {
        "id": "wvQmRTKdL9Bv"
      }
    },
    {
      "cell_type": "code",
      "source": [
        "import seaborn as sns\n",
        "sns.set_theme(style=\"whitegrid\")\n",
        "\n",
        "# Load the example exercise dataset\n",
        "exercise = sns.load_dataset(\"exercise\")\n",
        "\n",
        "# Draw a pointplot to show pulse as a function of three categorical factors\n",
        "g = sns.catplot(\n",
        "    data=exercise, x=\"time\", y=\"pulse\", hue=\"kind\", col=\"diet\",\n",
        "    capsize=.2, palette=\"YlGnBu_d\", errorbar=\"se\",\n",
        "    kind=\"point\", height=6, aspect=.75,\n",
        ")\n",
        "g.despine(left=True)"
      ],
      "metadata": {
        "id": "6dfN38nnJLxM"
      },
      "execution_count": null,
      "outputs": []
    },
    {
      "cell_type": "markdown",
      "source": [
        "FacetGrid with custom projection"
      ],
      "metadata": {
        "id": "DaelHzYXMBRM"
      }
    },
    {
      "cell_type": "code",
      "source": [
        "import numpy as np\n",
        "import pandas as pd\n",
        "import seaborn as sns\n",
        "\n",
        "sns.set_theme()\n",
        "\n",
        "# Generate an example radial datast\n",
        "r = np.linspace(0, 10, num=100)\n",
        "df = pd.DataFrame({'r': r, 'slow': r, 'medium': 2 * r, 'fast': 4 * r})\n",
        "\n",
        "# Convert the dataframe to long-form or \"tidy\" format\n",
        "df = pd.melt(df, id_vars=['r'], var_name='speed', value_name='theta')\n",
        "\n",
        "# Set up a grid of axes with a polar projection\n",
        "g = sns.FacetGrid(df, col=\"speed\", hue=\"speed\",\n",
        "                  subplot_kws=dict(projection='polar'), height=4.5,\n",
        "                  sharex=False, sharey=False, despine=False)\n",
        "\n",
        "# Draw a scatterplot onto each axes in the grid\n",
        "g.map(sns.scatterplot, \"theta\", \"r\")"
      ],
      "metadata": {
        "id": "LyXZKcfMMFX4"
      },
      "execution_count": null,
      "outputs": []
    },
    {
      "cell_type": "markdown",
      "source": [
        "Linera Regression with Marginal Distributions"
      ],
      "metadata": {
        "id": "9joOSwoiMJox"
      }
    },
    {
      "cell_type": "code",
      "source": [
        "import seaborn as sns\n",
        "sns.set_theme(style=\"darkgrid\")\n",
        "\n",
        "tips = sns.load_dataset(\"tips\")\n",
        "g = sns.jointplot(x=\"total_bill\", y=\"tip\", data=tips,\n",
        "                  kind=\"reg\", truncate=False,\n",
        "                  xlim=(0, 60), ylim=(0, 12),\n",
        "                  color=\"m\", height=7)"
      ],
      "metadata": {
        "id": "0k2GR4uvMN4u"
      },
      "execution_count": null,
      "outputs": []
    },
    {
      "cell_type": "markdown",
      "source": [
        "Plotting Model Residuals"
      ],
      "metadata": {
        "id": "0583G8rMMSGG"
      }
    },
    {
      "cell_type": "code",
      "source": [
        "import numpy as np\n",
        "import seaborn as sns\n",
        "sns.set_theme(style=\"whitegrid\")\n",
        "\n",
        "# Make an example dataset with y ~ x\n",
        "rs = np.random.RandomState(7)\n",
        "x = rs.normal(2, 1, 75)\n",
        "y = 2 + 1.5 * x + rs.normal(0, 2, 75)\n",
        "\n",
        "# Plot the residuals after fitting a linear model\n",
        "sns.residplot(x=x, y=y, lowess=True, color=\"g\")"
      ],
      "metadata": {
        "id": "zbcyGJiyMVpe"
      },
      "execution_count": null,
      "outputs": []
    },
    {
      "cell_type": "markdown",
      "source": [
        "Scatterplot with varying point sizes and hues"
      ],
      "metadata": {
        "id": "ec16uv3UMY6I"
      }
    },
    {
      "cell_type": "code",
      "source": [
        "import seaborn as sns\n",
        "sns.set_theme(style=\"white\")\n",
        "\n",
        "# Load the example mpg dataset\n",
        "mpg = sns.load_dataset(\"mpg\")\n",
        "\n",
        "# Plot miles per gallon against horsepower with other semantics\n",
        "sns.relplot(x=\"horsepower\", y=\"mpg\", hue=\"origin\", size=\"weight\",\n",
        "            sizes=(40, 400), alpha=.5, palette=\"muted\",\n",
        "            height=6, data=mpg)"
      ],
      "metadata": {
        "id": "Zugn2tvNMduY"
      },
      "execution_count": null,
      "outputs": []
    },
    {
      "cell_type": "markdown",
      "source": [
        "Scatterplot with categorical variables"
      ],
      "metadata": {
        "id": "sItjIuCfMhXw"
      }
    },
    {
      "cell_type": "code",
      "source": [
        "import seaborn as sns\n",
        "sns.set_theme(style=\"whitegrid\", palette=\"muted\")\n",
        "\n",
        "# Load the penguins dataset\n",
        "df = sns.load_dataset(\"penguins\")\n",
        "\n",
        "# Draw a categorical scatterplot to show each observation\n",
        "ax = sns.swarmplot(data=df, x=\"body_mass_g\", y=\"sex\", hue=\"species\")\n",
        "ax.set(ylabel=\"\")"
      ],
      "metadata": {
        "id": "nJQx8X-kMkJA"
      },
      "execution_count": null,
      "outputs": []
    },
    {
      "cell_type": "markdown",
      "source": [
        "Scatterplot Matirx"
      ],
      "metadata": {
        "id": "Ccy2HxAUMn-1"
      }
    },
    {
      "cell_type": "code",
      "source": [
        "import seaborn as sns\n",
        "sns.set_theme(style=\"ticks\")\n",
        "\n",
        "df = sns.load_dataset(\"penguins\")\n",
        "sns.pairplot(df, hue=\"species\")"
      ],
      "metadata": {
        "id": "Sk6tUScJMrgn"
      },
      "execution_count": null,
      "outputs": []
    },
    {
      "cell_type": "markdown",
      "source": [
        "Scatterplot with continuous hues and sizes"
      ],
      "metadata": {
        "id": "o3-rJNAoMvKA"
      }
    },
    {
      "cell_type": "code",
      "source": [
        "import seaborn as sns\n",
        "sns.set_theme(style=\"whitegrid\")\n",
        "\n",
        "# Load the example planets dataset\n",
        "planets = sns.load_dataset(\"planets\")\n",
        "\n",
        "cmap = sns.cubehelix_palette(rot=-.2, as_cmap=True)\n",
        "g = sns.relplot(\n",
        "    data=planets,\n",
        "    x=\"distance\", y=\"orbital_period\",\n",
        "    hue=\"year\", size=\"mass\",\n",
        "    palette=cmap, sizes=(10, 200),\n",
        ")\n",
        "g.set(xscale=\"log\", yscale=\"log\")\n",
        "g.ax.xaxis.grid(True, \"minor\", linewidth=.25)\n",
        "g.ax.yaxis.grid(True, \"minor\", linewidth=.25)\n",
        "g.despine(left=True, bottom=True)"
      ],
      "metadata": {
        "id": "gDtZLr3KM0BQ"
      },
      "execution_count": null,
      "outputs": []
    },
    {
      "cell_type": "markdown",
      "source": [
        "Horizontal, Unfilled Violinplots"
      ],
      "metadata": {
        "id": "3tQFwQ7WM3E6"
      }
    },
    {
      "cell_type": "code",
      "source": [
        "import seaborn as sns\n",
        "\n",
        "sns.set_theme()\n",
        "\n",
        "seaice = sns.load_dataset(\"seaice\")\n",
        "seaice[\"Decade\"] = seaice[\"Date\"].dt.year.round(-1)\n",
        "sns.violinplot(seaice, x=\"Extent\", y=\"Decade\", orient=\"y\", fill=False)"
      ],
      "metadata": {
        "id": "64fNmn1TM74C"
      },
      "execution_count": null,
      "outputs": []
    },
    {
      "cell_type": "markdown",
      "source": [
        "Smooth KDE with marginal histograms"
      ],
      "metadata": {
        "id": "BnWKXFUPM-aI"
      }
    },
    {
      "cell_type": "code",
      "source": [
        "import seaborn as sns\n",
        "sns.set_theme(style=\"white\")\n",
        "\n",
        "df = sns.load_dataset(\"penguins\")\n",
        "\n",
        "g = sns.JointGrid(data=df, x=\"body_mass_g\", y=\"bill_depth_mm\", space=0)\n",
        "g.plot_joint(sns.kdeplot,\n",
        "             fill=True, clip=((2200, 6800), (10, 25)),\n",
        "             thresh=0, levels=100, cmap=\"rocket\")\n",
        "g.plot_marginals(sns.histplot, color=\"#03051A\", alpha=1, bins=25)"
      ],
      "metadata": {
        "id": "ShGtEO8gNCk4"
      },
      "execution_count": null,
      "outputs": []
    },
    {
      "cell_type": "markdown",
      "source": [
        "Annotated Heatmaps"
      ],
      "metadata": {
        "id": "ARYxNKr4NGAu"
      }
    },
    {
      "cell_type": "code",
      "source": [
        "import matplotlib.pyplot as plt\n",
        "import seaborn as sns\n",
        "sns.set_theme()\n",
        "\n",
        "# Load the example flights dataset and convert to long-form\n",
        "flights_long = sns.load_dataset(\"flights\")\n",
        "flights = (\n",
        "    flights_long\n",
        "    .pivot(index=\"month\", columns=\"year\", values=\"passengers\")\n",
        ")\n",
        "\n",
        "# Draw a heatmap with the numeric values in each cell\n",
        "f, ax = plt.subplots(figsize=(9, 6))\n",
        "sns.heatmap(flights, annot=True, fmt=\"d\", linewidths=.5, ax=ax)"
      ],
      "metadata": {
        "id": "JK90422fNIuS"
      },
      "execution_count": null,
      "outputs": []
    },
    {
      "cell_type": "markdown",
      "source": [
        "Regression fit over a strip plot"
      ],
      "metadata": {
        "id": "TJ6jMWO1NMMo"
      }
    },
    {
      "cell_type": "code",
      "source": [
        "import seaborn as sns\n",
        "sns.set_theme()\n",
        "\n",
        "mpg = sns.load_dataset(\"mpg\")\n",
        "sns.catplot(\n",
        "    data=mpg, x=\"cylinders\", y=\"acceleration\", hue=\"weight\",\n",
        "    native_scale=True, zorder=1\n",
        ")\n",
        "sns.regplot(\n",
        "    data=mpg, x=\"cylinders\", y=\"acceleration\",\n",
        "    scatter=False, truncate=False, order=2, color=\".2\",\n",
        ")"
      ],
      "metadata": {
        "id": "b5f2Hy9YNPkE"
      },
      "execution_count": null,
      "outputs": []
    },
    {
      "cell_type": "markdown",
      "source": [
        "Discovering structure in heatmap data"
      ],
      "metadata": {
        "id": "ek67h66UNSdS"
      }
    },
    {
      "cell_type": "code",
      "source": [
        "import pandas as pd\n",
        "import seaborn as sns\n",
        "sns.set_theme()\n",
        "\n",
        "# Load the brain networks example dataset\n",
        "df = sns.load_dataset(\"brain_networks\", header=[0, 1, 2], index_col=0)\n",
        "\n",
        "# Select a subset of the networks\n",
        "used_networks = [1, 5, 6, 7, 8, 12, 13, 17]\n",
        "used_columns = (df.columns.get_level_values(\"network\")\n",
        "                          .astype(int)\n",
        "                          .isin(used_networks))\n",
        "df = df.loc[:, used_columns]\n",
        "\n",
        "# Create a categorical palette to identify the networks\n",
        "network_pal = sns.husl_palette(8, s=.45)\n",
        "network_lut = dict(zip(map(str, used_networks), network_pal))\n",
        "\n",
        "# Convert the palette to vectors that will be drawn on the side of the matrix\n",
        "networks = df.columns.get_level_values(\"network\")\n",
        "network_colors = pd.Series(networks, index=df.columns).map(network_lut)\n",
        "\n",
        "# Draw the full plot\n",
        "g = sns.clustermap(df.corr(), center=0, cmap=\"vlag\",\n",
        "                   row_colors=network_colors, col_colors=network_colors,\n",
        "                   dendrogram_ratio=(.1, .2),\n",
        "                   cbar_pos=(.02, .32, .03, .2),\n",
        "                   linewidths=.75, figsize=(12, 13))\n",
        "\n",
        "g.ax_row_dendrogram.remove()"
      ],
      "metadata": {
        "id": "OB6NxAlCNW1w"
      },
      "execution_count": null,
      "outputs": []
    },
    {
      "cell_type": "markdown",
      "source": [
        "Trivariated histogram with 2 categorical variables"
      ],
      "metadata": {
        "id": "TkxDzK6ANcF4"
      }
    },
    {
      "cell_type": "code",
      "source": [
        "import seaborn as sns\n",
        "sns.set_theme(style=\"dark\")\n",
        "\n",
        "diamonds = sns.load_dataset(\"diamonds\")\n",
        "sns.displot(\n",
        "    data=diamonds, x=\"price\", y=\"color\", col=\"clarity\",\n",
        "    log_scale=(True, False), col_wrap=4, height=4, aspect=.7,\n",
        ")"
      ],
      "metadata": {
        "id": "7_fxzhfMNiZO"
      },
      "execution_count": null,
      "outputs": []
    },
    {
      "cell_type": "markdown",
      "source": [
        "Small Multiple Timeseries"
      ],
      "metadata": {
        "id": "nHDr7NwKNmaw"
      }
    },
    {
      "cell_type": "code",
      "source": [
        "import seaborn as sns\n",
        "\n",
        "sns.set_theme(style=\"dark\")\n",
        "flights = sns.load_dataset(\"flights\")\n",
        "\n",
        "# Plot each year's time series in its own facet\n",
        "g = sns.relplot(\n",
        "    data=flights,\n",
        "    x=\"month\", y=\"passengers\", col=\"year\", hue=\"year\",\n",
        "    kind=\"line\", palette=\"crest\", linewidth=4, zorder=5,\n",
        "    col_wrap=3, height=2, aspect=1.5, legend=False,\n",
        ")\n",
        "\n",
        "# Iterate over each subplot to customize further\n",
        "for year, ax in g.axes_dict.items():\n",
        "\n",
        "    # Add the title as an annotation within the plot\n",
        "    ax.text(.8, .85, year, transform=ax.transAxes, fontweight=\"bold\")\n",
        "\n",
        "    # Plot every year's time series in the background\n",
        "    sns.lineplot(\n",
        "        data=flights, x=\"month\", y=\"passengers\", units=\"year\",\n",
        "        estimator=None, color=\".7\", linewidth=1, ax=ax,\n",
        "    )\n",
        "\n",
        "# Reduce the frequency of the x axis ticks\n",
        "ax.set_xticks(ax.get_xticks()[::2])\n",
        "\n",
        "# Tweak the supporting aspects of the plot\n",
        "g.set_titles(\"\")\n",
        "g.set_axis_labels(\"\", \"Passengers\")\n",
        "g.tight_layout()"
      ],
      "metadata": {
        "id": "d-JM3BakNp6o"
      },
      "execution_count": null,
      "outputs": []
    },
    {
      "cell_type": "markdown",
      "source": [
        "Lineplot from a wide-form dataset"
      ],
      "metadata": {
        "id": "dloRRFHNNwAJ"
      }
    },
    {
      "cell_type": "code",
      "source": [
        "import numpy as np\n",
        "import pandas as pd\n",
        "import seaborn as sns\n",
        "sns.set_theme(style=\"whitegrid\")\n",
        "\n",
        "rs = np.random.RandomState(365)\n",
        "values = rs.randn(365, 4).cumsum(axis=0)\n",
        "dates = pd.date_range(\"1 1 2016\", periods=365, freq=\"D\")\n",
        "data = pd.DataFrame(values, dates, columns=[\"A\", \"B\", \"C\", \"D\"])\n",
        "data = data.rolling(7).mean()\n",
        "\n",
        "sns.lineplot(data=data, palette=\"tab10\", linewidth=2.5)"
      ],
      "metadata": {
        "id": "xx6ujVTsNzOs"
      },
      "execution_count": null,
      "outputs": []
    },
    {
      "cell_type": "markdown",
      "source": [
        "Violinplot from a wide-form dataset"
      ],
      "metadata": {
        "id": "344g2rjNN3Yy"
      }
    },
    {
      "cell_type": "code",
      "source": [
        "import seaborn as sns\n",
        "import matplotlib.pyplot as plt\n",
        "sns.set_theme(style=\"whitegrid\")\n",
        "\n",
        "# Load the example dataset of brain network correlations\n",
        "df = sns.load_dataset(\"brain_networks\", header=[0, 1, 2], index_col=0)\n",
        "\n",
        "# Pull out a specific subset of networks\n",
        "used_networks = [1, 3, 4, 5, 6, 7, 8, 11, 12, 13, 16, 17]\n",
        "used_columns = (df.columns.get_level_values(\"network\")\n",
        "                          .astype(int)\n",
        "                          .isin(used_networks))\n",
        "df = df.loc[:, used_columns]\n",
        "\n",
        "# Compute the correlation matrix and average over networks\n",
        "corr_df = df.corr().groupby(level=\"network\").mean()\n",
        "corr_df.index = corr_df.index.astype(int)\n",
        "corr_df = corr_df.sort_index().T\n",
        "\n",
        "# Set up the matplotlib figure\n",
        "f, ax = plt.subplots(figsize=(11, 6))\n",
        "\n",
        "# Draw a violinplot with a narrower bandwidth than the default\n",
        "sns.violinplot(data=corr_df, bw_adjust=.5, cut=1, linewidth=1, palette=\"Set3\")\n",
        "\n",
        "# Finalize the figure\n",
        "ax.set(ylim=(-.7, 1.05))\n",
        "sns.despine(left=True, bottom=True)"
      ],
      "metadata": {
        "id": "VJbU6gg6N7vm"
      },
      "execution_count": null,
      "outputs": []
    }
  ]
}