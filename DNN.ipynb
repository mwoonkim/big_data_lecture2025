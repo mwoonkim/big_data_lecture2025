{
  "nbformat": 4,
  "nbformat_minor": 0,
  "metadata": {
    "colab": {
      "provenance": [],
      "authorship_tag": "ABX9TyMuIqI5uhaeiujC2SHK556w",
      "include_colab_link": true
    },
    "kernelspec": {
      "name": "python3",
      "display_name": "Python 3"
    },
    "language_info": {
      "name": "python"
    }
  },
  "cells": [
    {
      "cell_type": "markdown",
      "metadata": {
        "id": "view-in-github",
        "colab_type": "text"
      },
      "source": [
        "<a href=\"https://colab.research.google.com/github/mwoonkim/big_data_lecture2025/blob/main/DNN.ipynb\" target=\"_parent\"><img src=\"https://colab.research.google.com/assets/colab-badge.svg\" alt=\"Open In Colab\"/></a>"
      ]
    },
    {
      "cell_type": "code",
      "execution_count": null,
      "metadata": {
        "id": "WzIQ_dXfOO0V"
      },
      "outputs": [],
      "source": [
        "from sklearn.neural_network import MLPRegressor\n",
        "from sklearn.preprocessing import MinMaxScaler\n",
        "from sklearn.model_selection import train_test_split\n",
        "from sklearn.metrics import mean_absolute_percentage_error\n",
        "import numpy as np\n",
        "import matplotlib.pyplot as plt"
      ]
    },
    {
      "cell_type": "code",
      "source": [
        "X = np.array(range(1, 101))\n",
        "print(X)"
      ],
      "metadata": {
        "id": "Lc-lTm4AOTJG"
      },
      "execution_count": null,
      "outputs": []
    },
    {
      "cell_type": "code",
      "source": [
        "y = 0.5*(X-50)**3 - 50000/X + 120000\n",
        "print(y)"
      ],
      "metadata": {
        "id": "GVXdlxY4RF6C"
      },
      "execution_count": null,
      "outputs": []
    },
    {
      "cell_type": "code",
      "source": [
        "plt.scatter(X, y, color ='b')\n",
        "plt.title('y = 0.5*(X-50)**3 - 50000/X + 120000')\n",
        "plt.xlabel('X')\n",
        "plt.ylabel('y')\n",
        "plt.ylim(0, 200000)\n",
        "plt.show()"
      ],
      "metadata": {
        "id": "_eAMCMhoRH7z"
      },
      "execution_count": null,
      "outputs": []
    },
    {
      "cell_type": "code",
      "source": [
        "X_train, X_test, y_train, y_test = train_test_split(X, y, test_size=0.3, random_state=1234)"
      ],
      "metadata": {
        "id": "Rw_qOuIiRJ-j"
      },
      "execution_count": null,
      "outputs": []
    },
    {
      "cell_type": "code",
      "source": [
        "print(X_train)"
      ],
      "metadata": {
        "id": "XAlf4R4KRM6H"
      },
      "execution_count": null,
      "outputs": []
    },
    {
      "cell_type": "code",
      "source": [
        "print(X_test)"
      ],
      "metadata": {
        "id": "TI0L58QnROnt"
      },
      "execution_count": null,
      "outputs": []
    },
    {
      "cell_type": "code",
      "source": [
        "print(y_train)"
      ],
      "metadata": {
        "id": "bVGi95-TRQDt"
      },
      "execution_count": null,
      "outputs": []
    },
    {
      "cell_type": "code",
      "source": [
        "print(y_test)"
      ],
      "metadata": {
        "id": "ZZ2P3qO2RRVL"
      },
      "execution_count": null,
      "outputs": []
    },
    {
      "cell_type": "code",
      "source": [
        "X_train = X_train.reshape(-1, 1)\n",
        "X_test = X_test.reshape(-1, 1)\n",
        "y_train = y_train.reshape(-1, 1)\n",
        "y_test = y_test.reshape(-1, 1)\n",
        "print(X_train)"
      ],
      "metadata": {
        "id": "hln6FVU5RTGd"
      },
      "execution_count": null,
      "outputs": []
    },
    {
      "cell_type": "code",
      "source": [
        "scalerX = MinMaxScaler()\n",
        "scalerX.fit(X_train)\n",
        "X_train_norm = scalerX.transform(X_train)"
      ],
      "metadata": {
        "id": "oQQYSKo3RViD"
      },
      "execution_count": null,
      "outputs": []
    },
    {
      "cell_type": "code",
      "source": [
        "scalerY = MinMaxScaler()\n",
        "scalerY.fit(y_train)\n",
        "y_train_norm = scalerY.transform(y_train)"
      ],
      "metadata": {
        "id": "VolqzDOMRXdV"
      },
      "execution_count": null,
      "outputs": []
    },
    {
      "cell_type": "code",
      "source": [
        "X_test_norm = scalerX.transform(X_test)\n",
        "y_test_norm = scalerY.transform(y_test)"
      ],
      "metadata": {
        "id": "m7LhxJTcRaEV"
      },
      "execution_count": null,
      "outputs": []
    },
    {
      "cell_type": "code",
      "source": [
        "model = MLPRegressor(hidden_layer_sizes=(3, 3),\n",
        "    activation ='logistic',\n",
        "    solver='lbfgs',\n",
        "    max_iter = 500)"
      ],
      "metadata": {
        "id": "2DIgly9TRcHx"
      },
      "execution_count": null,
      "outputs": []
    },
    {
      "cell_type": "code",
      "source": [
        "model.fit(X_train_norm, y_train_norm)\n",
        "\n",
        "y_pred = model.predict(X_test_norm)\n",
        "print(y_pred)"
      ],
      "metadata": {
        "id": "sxw-gon9Rd5-"
      },
      "execution_count": null,
      "outputs": []
    },
    {
      "cell_type": "code",
      "source": [
        "y_pred = y_pred.reshape(-1, 1)"
      ],
      "metadata": {
        "id": "6nSt6Ri8RhxU"
      },
      "execution_count": null,
      "outputs": []
    },
    {
      "cell_type": "code",
      "source": [
        "y_pred_inverse = scalerY.inverse_transform(y_pred)\n",
        "print(y_pred_inverse)"
      ],
      "metadata": {
        "id": "lcYXMhO3Rk-6"
      },
      "execution_count": null,
      "outputs": []
    },
    {
      "cell_type": "code",
      "source": [
        "plt.scatter(X, y, color ='g')\n",
        "plt.title('y = 0.5*(X-50)**3 - 50000/X + 120000')\n",
        "plt.xlabel('X')\n",
        "plt.ylabel('y')\n",
        "plt.ylim(0, 200000)\n",
        "plt.scatter(X_test, y_pred_inverse, color ='r')\n",
        "plt.show()"
      ],
      "metadata": {
        "id": "WByu_DJORmqO"
      },
      "execution_count": null,
      "outputs": []
    },
    {
      "cell_type": "code",
      "source": [
        "print('MAPE: %.2f' %\n",
        " mean_absolute_percentage_error(y_test, y_pred_inverse))"
      ],
      "metadata": {
        "id": "pcL4nlYmRqgz"
      },
      "execution_count": null,
      "outputs": []
    }
  ]
}