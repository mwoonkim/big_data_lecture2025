{
  "nbformat": 4,
  "nbformat_minor": 0,
  "metadata": {
    "colab": {
      "provenance": [],
      "authorship_tag": "ABX9TyNy1YieVV109qftKZ0i6+xt",
      "include_colab_link": true
    },
    "kernelspec": {
      "name": "python3",
      "display_name": "Python 3"
    },
    "language_info": {
      "name": "python"
    }
  },
  "cells": [
    {
      "cell_type": "markdown",
      "metadata": {
        "id": "view-in-github",
        "colab_type": "text"
      },
      "source": [
        "<a href=\"https://colab.research.google.com/github/mwoonkim/big_data_lecture2025/blob/main/matplotlib_pairwise.ipynb\" target=\"_parent\"><img src=\"https://colab.research.google.com/assets/colab-badge.svg\" alt=\"Open In Colab\"/></a>"
      ]
    },
    {
      "cell_type": "code",
      "execution_count": null,
      "metadata": {
        "id": "5umYKQMof2rk"
      },
      "outputs": [],
      "source": [
        "import matplotlib.pyplot as plt\n",
        "import numpy as np\n",
        "plt.style.use('_map-gallery')"
      ]
    },
    {
      "cell_type": "code",
      "source": [
        "# make data\n",
        "x = np.linspace(0, 10, 100)\n",
        "y = 4 + 1 * np.sin(2 * x)\n",
        "x2 = np.linspace(0, 10, 25)\n",
        "y2 = 4 + 1 * np.sin(2 * x2)\n",
        "\n",
        "# plot\n",
        "fig, ax = plt.subplots()\n",
        "\n",
        "ax.plot(x2, y2 + 2.5, 'x', markeredgewidth=2)\n",
        "ax.plot(x, y, linewidth=2.0)\n",
        "ax.plot(x2, y2 - 2.5, 'o-', linewidth=2)\n",
        "\n",
        "ax.set(xlim=(0, 8), xticks=np.arange(1, 8),\n",
        "       ylim=(0, 8), yticks=np.arange(1, 8))\n",
        "\n",
        "plt.show()"
      ],
      "metadata": {
        "id": "mk9h0R4XkjnZ"
      },
      "execution_count": null,
      "outputs": []
    },
    {
      "cell_type": "code",
      "source": [
        "# make the data\n",
        "np.random.seed(3)\n",
        "x = 4 + np.random.normal(0, 2, 24)\n",
        "y = 4 + np.random.normal(0, 2, len(x))\n",
        "# size and color:\n",
        "sizes = np.random.uniform(15, 80, len(x))\n",
        "colors = np.random.uniform(15, 80, len(x))\n",
        "\n",
        "# plot - scatter\n",
        "fig, ax = plt.subplots()\n",
        "\n",
        "ax.scatter(x, y, s=sizes, c=colors, vmin=0, vmax=100)\n",
        "\n",
        "ax.set(xlim=(0, 8), xticks=np.arange(1, 8),\n",
        "       ylim=(0, 8), yticks=np.arange(1, 8))\n",
        "\n",
        "plt.show()"
      ],
      "metadata": {
        "id": "X3bWXR0Bk45s"
      },
      "execution_count": null,
      "outputs": []
    },
    {
      "cell_type": "code",
      "source": [
        "# make data:\n",
        "x = 0.5 + np.arange(8)\n",
        "y = [4.8, 5.5, 3.5, 4.6, 6.5, 6.6, 2.6, 3.0]\n",
        "\n",
        "# plot - bar\n",
        "fig, ax = plt.subplots()\n",
        "\n",
        "ax.bar(x, y, width=1, edgecolor=\"white\", linewidth=0.7)\n",
        "\n",
        "ax.set(xlim=(0, 8), xticks=np.arange(1, 8),\n",
        "       ylim=(0, 8), yticks=np.arange(1, 8))\n",
        "\n",
        "plt.show()"
      ],
      "metadata": {
        "id": "m2scedZxlMkT"
      },
      "execution_count": null,
      "outputs": []
    },
    {
      "cell_type": "code",
      "source": [
        "# make data\n",
        "x = 0.5 + np.arange(8)\n",
        "y = [4.8, 5.5, 3.5, 4.6, 6.5, 6.6, 2.6, 3.0]\n",
        "\n",
        "# plot - stem\n",
        "fig, ax = plt.subplots()\n",
        "\n",
        "ax.stem(x, y)\n",
        "\n",
        "ax.set(xlim=(0, 8), xticks=np.arange(1, 8),\n",
        "       ylim=(0, 8), yticks=np.arange(1, 8))\n",
        "\n",
        "plt.show()"
      ],
      "metadata": {
        "id": "wgz0GVVklXXl"
      },
      "execution_count": null,
      "outputs": []
    },
    {
      "cell_type": "code",
      "source": [
        "# make data\n",
        "np.random.seed(1)\n",
        "x = np.linspace(0, 8, 16)\n",
        "y1 = 3 + 4*x/8 + np.random.uniform(0.0, 0.5, len(x))\n",
        "y2 = 1 + 2*x/8 + np.random.uniform(0.0, 0.5, len(x))\n",
        "\n",
        "# plot - fill_between\n",
        "fig, ax = plt.subplots()\n",
        "\n",
        "ax.fill_between(x, y1, y2, alpha=.5, linewidth=0)\n",
        "ax.plot(x, (y1 + y2)/2, linewidth=2)\n",
        "\n",
        "ax.set(xlim=(0, 8), xticks=np.arange(1, 8),\n",
        "       ylim=(0, 8), yticks=np.arange(1, 8))\n",
        "\n",
        "plt.show()"
      ],
      "metadata": {
        "id": "wJTex1VglfKl"
      },
      "execution_count": null,
      "outputs": []
    },
    {
      "cell_type": "code",
      "source": [
        "# make data\n",
        "x = np.arange(0, 10, 2)\n",
        "ay = [1, 1.25, 2, 2.75, 3]\n",
        "by = [1, 1, 1, 1, 1]\n",
        "cy = [2, 1, 2, 1, 2]\n",
        "y = np.vstack([ay, by, cy])\n",
        "\n",
        "# plot - stackplot\n",
        "fig, ax = plt.subplots()\n",
        "\n",
        "ax.stackplot(x, y)\n",
        "\n",
        "ax.set(xlim=(0, 8), xticks=np.arange(1, 8),\n",
        "       ylim=(0, 8), yticks=np.arange(1, 8))\n",
        "\n",
        "plt.show()"
      ],
      "metadata": {
        "id": "LMwQmsaBlpMt"
      },
      "execution_count": null,
      "outputs": []
    },
    {
      "cell_type": "code",
      "source": [
        "# make data\n",
        "y = [4.8, 5.5, 3.5, 4.6, 6.5, 6.6, 2.6, 3.0]\n",
        "\n",
        "# plot\n",
        "fig, ax = plt.subplots()\n",
        "\n",
        "ax.stairs(y, linewidth=2.5)\n",
        "\n",
        "ax.set(xlim=(0, 8), xticks=np.arange(1, 8),\n",
        "       ylim=(0, 8), yticks=np.arange(1, 8))\n",
        "\n",
        "plt.show()"
      ],
      "metadata": {
        "id": "3pWzYLN2lyJa"
      },
      "execution_count": null,
      "outputs": []
    },
    {
      "cell_type": "code",
      "source": [
        "plt.style.available"
      ],
      "metadata": {
        "id": "a1NoafHji0V_"
      },
      "execution_count": null,
      "outputs": []
    }
  ]
}