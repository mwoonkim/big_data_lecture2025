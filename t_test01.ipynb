{
  "nbformat": 4,
  "nbformat_minor": 0,
  "metadata": {
    "colab": {
      "provenance": [],
      "authorship_tag": "ABX9TyPGzsVdtr6PuFfKD1fGwEMO",
      "include_colab_link": true
    },
    "kernelspec": {
      "name": "python3",
      "display_name": "Python 3"
    },
    "language_info": {
      "name": "python"
    }
  },
  "cells": [
    {
      "cell_type": "markdown",
      "metadata": {
        "id": "view-in-github",
        "colab_type": "text"
      },
      "source": [
        "<a href=\"https://colab.research.google.com/github/mwoonkim/big_data_lecture2025/blob/main/t_test01.ipynb\" target=\"_parent\"><img src=\"https://colab.research.google.com/assets/colab-badge.svg\" alt=\"Open In Colab\"/></a>"
      ]
    },
    {
      "cell_type": "code",
      "execution_count": 2,
      "metadata": {
        "id": "9BiY44iz8jf-"
      },
      "outputs": [],
      "source": [
        "from scipy import stats\n",
        "import numpy as np\n",
        "import matplotlib.pyplot as plt"
      ]
    },
    {
      "cell_type": "code",
      "source": [
        "mu0 = 10000\n",
        "s = 125\n",
        "n = 30\n",
        "xbar = 9900\n",
        "t = (xbar-mu0)/(s/np.sqrt(n))\n",
        "p_value = stats.t.cdf(t,df=n-1)\n",
        "print(p_value)"
      ],
      "metadata": {
        "id": "nSYlk_PGdwPp"
      },
      "execution_count": null,
      "outputs": []
    },
    {
      "cell_type": "code",
      "source": [
        "mu0 = 2\n",
        "s = 0.3\n",
        "n = 35\n",
        "xbar = 2.1\n",
        "t = (xbar-mu0)/(s/np.sqrt(n))\n",
        "p_value = 1-stats.t.cdf(t,df=n-1)\n",
        "print(p_value)"
      ],
      "metadata": {
        "id": "Q9xDtl7IdjD8"
      },
      "execution_count": null,
      "outputs": []
    },
    {
      "cell_type": "code",
      "source": [
        "mu0 = 15.4\n",
        "s = 2.5\n",
        "n = 35\n",
        "xbar = 14.6\n",
        "t = (xbar-mu0)/(s/np.sqrt(n))\n",
        "p_value = 2*stats.t.cdf(t,df=n-1)\n",
        "print(p_value)"
      ],
      "metadata": {
        "id": "KOyW3BGj85IC"
      },
      "execution_count": null,
      "outputs": []
    }
  ]
}